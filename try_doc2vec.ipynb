{
  "nbformat": 4,
  "nbformat_minor": 0,
  "metadata": {
    "kernelspec": {
      "display_name": "Python 3",
      "language": "python",
      "name": "python3"
    },
    "language_info": {
      "codemirror_mode": {
        "name": "ipython",
        "version": 3
      },
      "file_extension": ".py",
      "mimetype": "text/x-python",
      "name": "python",
      "nbconvert_exporter": "python",
      "pygments_lexer": "ipython3",
      "version": "3.8.5"
    },
    "colab": {
      "name": "try_doc2vec.ipynb",
      "provenance": [],
      "collapsed_sections": [],
      "include_colab_link": true
    }
  },
  "cells": [
    {
      "cell_type": "markdown",
      "metadata": {
        "id": "view-in-github",
        "colab_type": "text"
      },
      "source": [
        "<a href=\"https://colab.research.google.com/github/yanaa11/media-opinion-analyzer/blob/main/try_doc2vec.ipynb\" target=\"_parent\"><img src=\"https://colab.research.google.com/assets/colab-badge.svg\" alt=\"Open In Colab\"/></a>"
      ]
    },
    {
      "cell_type": "code",
      "metadata": {
        "id": "A7nElVyKGUxq"
      },
      "source": [
        "import os\n",
        "import re\n",
        "import random\n",
        "\n",
        "import pandas as pd\n",
        "import numpy as np\n",
        "\n",
        "import gensim\n",
        "import nltk\n",
        "from nltk.corpus import stopwords\n",
        "\n",
        "import matplotlib.pyplot as plt"
      ],
      "execution_count": 57,
      "outputs": []
    },
    {
      "cell_type": "code",
      "metadata": {
        "id": "IIrMI1aIGUyA",
        "colab": {
          "base_uri": "https://localhost:8080/"
        },
        "outputId": "eea69fca-9b0b-44ff-b4be-337f20328550"
      },
      "source": [
        "nltk.download('stopwords')"
      ],
      "execution_count": 58,
      "outputs": [
        {
          "output_type": "stream",
          "text": [
            "[nltk_data] Downloading package stopwords to /root/nltk_data...\n",
            "[nltk_data]   Package stopwords is already up-to-date!\n"
          ],
          "name": "stdout"
        },
        {
          "output_type": "execute_result",
          "data": {
            "text/plain": [
              "True"
            ]
          },
          "metadata": {
            "tags": []
          },
          "execution_count": 58
        }
      ]
    },
    {
      "cell_type": "code",
      "metadata": {
        "id": "i_Gw2A6ZsX3A",
        "colab": {
          "base_uri": "https://localhost:8080/"
        },
        "outputId": "c4b38bf7-f449-4ff1-fabe-998c0e0d53d2"
      },
      "source": [
        "from google.colab import drive\n",
        "drive.mount('/content/drive')"
      ],
      "execution_count": 59,
      "outputs": [
        {
          "output_type": "stream",
          "text": [
            "Drive already mounted at /content/drive; to attempt to forcibly remount, call drive.mount(\"/content/drive\", force_remount=True).\n"
          ],
          "name": "stdout"
        }
      ]
    },
    {
      "cell_type": "code",
      "metadata": {
        "colab": {
          "base_uri": "https://localhost:8080/"
        },
        "id": "Yd-1YYK-uXKX",
        "outputId": "d05e9f0c-d6b7-40a3-c881-d3b1af0a8a08"
      },
      "source": [
        "os.listdir(\"/content/drive/MyDrive/comments\")"
      ],
      "execution_count": 60,
      "outputs": [
        {
          "output_type": "execute_result",
          "data": {
            "text/plain": [
              "['JoeBiden_train.csv',\n",
              " 'The_Donald_train.csv',\n",
              " 'JoeBiden_test.csv',\n",
              " 'The_Donald_test.csv']"
            ]
          },
          "metadata": {
            "tags": []
          },
          "execution_count": 60
        }
      ]
    },
    {
      "cell_type": "code",
      "metadata": {
        "id": "CmTLkFBfGUyD"
      },
      "source": [
        "#comments_dir = \"Lecture - Text embeddings (Medvedev)/codes/comments\"\n",
        "comments_dir = \"/content/drive/MyDrive/comments\""
      ],
      "execution_count": 61,
      "outputs": []
    },
    {
      "cell_type": "code",
      "metadata": {
        "id": "SGyAeLESGUyE"
      },
      "source": [
        "# TRUMP COMMENTS\n",
        "trump_comments_file = \"./The_Donald_train.csv\"\n",
        "trump_comments_path = os.path.join(comments_dir, trump_comments_file)\n",
        "trump_df_train = pd.read_csv(trump_comments_path, index_col = 0)\n",
        "\n",
        "trump_comments_file = \"./The_Donald_test.csv\"\n",
        "trump_comments_path = os.path.join(comments_dir, trump_comments_file)\n",
        "trump_df_test = pd.read_csv(trump_comments_path, index_col = 0)\n",
        "\n",
        "# BIDEN COMMENTS\n",
        "biden_comments_file = \"./JoeBiden_train.csv\"\n",
        "biden_comments_path = os.path.join(comments_dir, biden_comments_file)\n",
        "biden_df_train = pd.read_csv(biden_comments_path, index_col = 0)\n",
        "\n",
        "biden_comments_file = \"./JoeBiden_test.csv\"\n",
        "biden_comments_path = os.path.join(comments_dir, biden_comments_file)\n",
        "biden_df_test = pd.read_csv(biden_comments_path, index_col = 0)"
      ],
      "execution_count": 62,
      "outputs": []
    },
    {
      "cell_type": "code",
      "metadata": {
        "id": "--zt9YNxB-3G"
      },
      "source": [
        "n_entries = 10000"
      ],
      "execution_count": 110,
      "outputs": []
    },
    {
      "cell_type": "code",
      "metadata": {
        "colab": {
          "base_uri": "https://localhost:8080/"
        },
        "id": "JYhNm3e3491G",
        "outputId": "c53745a8-88bf-4fa1-c2f9-a25c5eebea36"
      },
      "source": [
        "len(trump_df_test)"
      ],
      "execution_count": 128,
      "outputs": [
        {
          "output_type": "execute_result",
          "data": {
            "text/plain": [
              "2822"
            ]
          },
          "metadata": {
            "tags": []
          },
          "execution_count": 128
        }
      ]
    },
    {
      "cell_type": "code",
      "metadata": {
        "colab": {
          "base_uri": "https://localhost:8080/",
          "height": 204
        },
        "id": "2scyBVxF5EXw",
        "outputId": "91a1182d-c750-4478-934a-d01c36e73f60"
      },
      "source": [
        "trump_df_test.head()"
      ],
      "execution_count": 127,
      "outputs": [
        {
          "output_type": "execute_result",
          "data": {
            "text/html": [
              "<div>\n",
              "<style scoped>\n",
              "    .dataframe tbody tr th:only-of-type {\n",
              "        vertical-align: middle;\n",
              "    }\n",
              "\n",
              "    .dataframe tbody tr th {\n",
              "        vertical-align: top;\n",
              "    }\n",
              "\n",
              "    .dataframe thead th {\n",
              "        text-align: right;\n",
              "    }\n",
              "</style>\n",
              "<table border=\"1\" class=\"dataframe\">\n",
              "  <thead>\n",
              "    <tr style=\"text-align: right;\">\n",
              "      <th></th>\n",
              "      <th>body</th>\n",
              "    </tr>\n",
              "  </thead>\n",
              "  <tbody>\n",
              "    <tr>\n",
              "      <th>11285</th>\n",
              "      <td>57 comments\\n\\nI can see 25.\\n\\nAll opinions a...</td>\n",
              "    </tr>\n",
              "    <tr>\n",
              "      <th>11286</th>\n",
              "      <td>Not likely. It's an intentional slow roast... ...</td>\n",
              "    </tr>\n",
              "    <tr>\n",
              "      <th>11287</th>\n",
              "      <td>Thank you, Tom!</td>\n",
              "    </tr>\n",
              "    <tr>\n",
              "      <th>11288</th>\n",
              "      <td>Dorian Yates barndoor back</td>\n",
              "    </tr>\n",
              "    <tr>\n",
              "      <th>11289</th>\n",
              "      <td>Here are some tunes to listen to while you enj...</td>\n",
              "    </tr>\n",
              "  </tbody>\n",
              "</table>\n",
              "</div>"
            ],
            "text/plain": [
              "                                                    body\n",
              "11285  57 comments\\n\\nI can see 25.\\n\\nAll opinions a...\n",
              "11286  Not likely. It's an intentional slow roast... ...\n",
              "11287                                    Thank you, Tom!\n",
              "11288                         Dorian Yates barndoor back\n",
              "11289  Here are some tunes to listen to while you enj..."
            ]
          },
          "metadata": {
            "tags": []
          },
          "execution_count": 127
        }
      ]
    },
    {
      "cell_type": "code",
      "metadata": {
        "colab": {
          "base_uri": "https://localhost:8080/",
          "height": 408
        },
        "id": "CT1LzN4PB6hE",
        "outputId": "4fa91f37-c9fd-4637-84bd-599fb2201eeb"
      },
      "source": [
        "s_trump_df_train = trump_df_train[:n_entries]\n",
        "s_trump_df_train['who'] = 0 # 0 == trump\n",
        "s_biden_df_train = biden_df_train[:n_entries]\n",
        "s_biden_df_train['who'] = 1 # 1 == biden\n",
        "s_all_df = pd.concat([s_trump_df_train, s_biden_df_train])\n",
        "s_all_df.head()"
      ],
      "execution_count": 111,
      "outputs": [
        {
          "output_type": "stream",
          "text": [
            "/usr/local/lib/python3.6/dist-packages/ipykernel_launcher.py:2: SettingWithCopyWarning: \n",
            "A value is trying to be set on a copy of a slice from a DataFrame.\n",
            "Try using .loc[row_indexer,col_indexer] = value instead\n",
            "\n",
            "See the caveats in the documentation: https://pandas.pydata.org/pandas-docs/stable/user_guide/indexing.html#returning-a-view-versus-a-copy\n",
            "  \n",
            "/usr/local/lib/python3.6/dist-packages/ipykernel_launcher.py:4: SettingWithCopyWarning: \n",
            "A value is trying to be set on a copy of a slice from a DataFrame.\n",
            "Try using .loc[row_indexer,col_indexer] = value instead\n",
            "\n",
            "See the caveats in the documentation: https://pandas.pydata.org/pandas-docs/stable/user_guide/indexing.html#returning-a-view-versus-a-copy\n",
            "  after removing the cwd from sys.path.\n"
          ],
          "name": "stderr"
        },
        {
          "output_type": "execute_result",
          "data": {
            "text/html": [
              "<div>\n",
              "<style scoped>\n",
              "    .dataframe tbody tr th:only-of-type {\n",
              "        vertical-align: middle;\n",
              "    }\n",
              "\n",
              "    .dataframe tbody tr th {\n",
              "        vertical-align: top;\n",
              "    }\n",
              "\n",
              "    .dataframe thead th {\n",
              "        text-align: right;\n",
              "    }\n",
              "</style>\n",
              "<table border=\"1\" class=\"dataframe\">\n",
              "  <thead>\n",
              "    <tr style=\"text-align: right;\">\n",
              "      <th></th>\n",
              "      <th>body</th>\n",
              "      <th>who</th>\n",
              "    </tr>\n",
              "  </thead>\n",
              "  <tbody>\n",
              "    <tr>\n",
              "      <th>0</th>\n",
              "      <td>We love you, Tom! And we love Judicial Watch! ...</td>\n",
              "      <td>0</td>\n",
              "    </tr>\n",
              "    <tr>\n",
              "      <th>1</th>\n",
              "      <td>I don’t know what that is.</td>\n",
              "      <td>0</td>\n",
              "    </tr>\n",
              "    <tr>\n",
              "      <th>2</th>\n",
              "      <td>To be honest, it probably is. But more publici...</td>\n",
              "      <td>0</td>\n",
              "    </tr>\n",
              "    <tr>\n",
              "      <th>3</th>\n",
              "      <td>Definitely eRection interference, pun intended...</td>\n",
              "      <td>0</td>\n",
              "    </tr>\n",
              "    <tr>\n",
              "      <th>4</th>\n",
              "      <td>Ant update?</td>\n",
              "      <td>0</td>\n",
              "    </tr>\n",
              "  </tbody>\n",
              "</table>\n",
              "</div>"
            ],
            "text/plain": [
              "                                                body  who\n",
              "0  We love you, Tom! And we love Judicial Watch! ...    0\n",
              "1                         I don’t know what that is.    0\n",
              "2  To be honest, it probably is. But more publici...    0\n",
              "3  Definitely eRection interference, pun intended...    0\n",
              "4                                        Ant update?    0"
            ]
          },
          "metadata": {
            "tags": []
          },
          "execution_count": 111
        }
      ]
    },
    {
      "cell_type": "code",
      "metadata": {
        "id": "5C9RWL26GUyG"
      },
      "source": [
        "def tokenize(text, stopwords, max_len = 20):\n",
        "    return [token for token in gensim.utils.simple_preprocess(text, max_len=max_len) if token not in stopwords]"
      ],
      "execution_count": 112,
      "outputs": []
    },
    {
      "cell_type": "code",
      "metadata": {
        "id": "BuUzlK7DGUyH"
      },
      "source": [
        "stops = set(stopwords.words(\"english\"))\n",
        "def remove_stopwords(text):\n",
        "    words = [w for w in text.lower().split() if not w in stops]\n",
        "    return words\n",
        "\n",
        "def remove_punctuation(text):\n",
        "    #r_text = re.sub(r\"[(),!.?\\'\\`:;0-9]\", \"\", text)\n",
        "    r_text = re.sub(r\"[^A-Za-z]\", \" \", text)\n",
        "    return r_text"
      ],
      "execution_count": 113,
      "outputs": []
    },
    {
      "cell_type": "code",
      "metadata": {
        "id": "M-kcOMatGUyJ"
      },
      "source": [
        "s_trump_train = [remove_stopwords(remove_punctuation(text)) for text in s_trump_df_train[\"body\"].to_list()]\n",
        "s_biden_train = [remove_stopwords(remove_punctuation(text)) for text in s_biden_df_train[\"body\"].to_list()]"
      ],
      "execution_count": 114,
      "outputs": []
    },
    {
      "cell_type": "code",
      "metadata": {
        "id": "lZCM9hS9GUyK"
      },
      "source": [
        "labeled_s_trump_train = [gensim.models.doc2vec.TaggedDocument(text, [i]) for i, text in enumerate(s_trump_train)]\n",
        "offset = len(s_trump_train)\n",
        "labeled_s_biden_train = [gensim.models.doc2vec.TaggedDocument(text, [i+offset]) for i, text in enumerate(s_biden_train)]"
      ],
      "execution_count": 115,
      "outputs": []
    },
    {
      "cell_type": "code",
      "metadata": {
        "id": "-1rThFExGUyK"
      },
      "source": [
        "train_corpus = []\n",
        "train_corpus += labeled_s_trump_train\n",
        "train_corpus += labeled_s_biden_train"
      ],
      "execution_count": 117,
      "outputs": []
    },
    {
      "cell_type": "code",
      "metadata": {
        "id": "bAxjseaEGUyL",
        "colab": {
          "base_uri": "https://localhost:8080/"
        },
        "outputId": "3290c417-dea2-4960-bca4-22c30441e36b"
      },
      "source": [
        "%%time\n",
        "model = gensim.models.doc2vec.Doc2Vec(vector_size=50, min_count=2, epochs=20)\n",
        "model.build_vocab(train_corpus)\n",
        "model.train(train_corpus, total_examples=model.corpus_count, epochs=model.epochs)"
      ],
      "execution_count": 118,
      "outputs": [
        {
          "output_type": "stream",
          "text": [
            "CPU times: user 1min 17s, sys: 11.4 s, total: 1min 28s\n",
            "Wall time: 1min 2s\n"
          ],
          "name": "stdout"
        }
      ]
    },
    {
      "cell_type": "code",
      "metadata": {
        "id": "6zcceme2OWJI"
      },
      "source": [
        "trump_sim = []\n",
        "biden_sim = []\n",
        "tb_sim = []\n",
        "\n",
        "for i in range(10000):\n",
        "  t1 = random.randint(0, n_entries-1)\n",
        "  t2 = t1\n",
        "  while t2 == t1:\n",
        "    t2 = random.randint(0, n_entries-1)\n",
        "\n",
        "  b1 = random.randint(n_entries, 2*n_entries-1)\n",
        "  b2 = b1 \n",
        "  while b2 == b1:\n",
        "    b2 = random.randint(n_entries, 2*n_entries-1)\n",
        "\n",
        "  trump_sim.append(model.docvecs.similarity(t1, t2))\n",
        "  biden_sim.append(model.docvecs.similarity(b1, b2))\n",
        "  tb_sim.append(model.docvecs.similarity(t1, b2))"
      ],
      "execution_count": 119,
      "outputs": []
    },
    {
      "cell_type": "code",
      "metadata": {
        "id": "Ekj_A5aAPt1U"
      },
      "source": [
        ""
      ],
      "execution_count": 77,
      "outputs": []
    },
    {
      "cell_type": "code",
      "metadata": {
        "colab": {
          "base_uri": "https://localhost:8080/",
          "height": 282
        },
        "id": "T9lTq8XQP7H8",
        "outputId": "44020b5a-c7f1-4553-dfa0-232624cef312"
      },
      "source": [
        "plt.hist(trump_sim, label='trump')\n",
        "plt.hist(biden_sim, label='biden')\n",
        "plt.hist(tb_sim, label='trump & biden')\n",
        "plt.legend()"
      ],
      "execution_count": 120,
      "outputs": [
        {
          "output_type": "execute_result",
          "data": {
            "text/plain": [
              "<matplotlib.legend.Legend at 0x7f506160ecf8>"
            ]
          },
          "metadata": {
            "tags": []
          },
          "execution_count": 120
        },
        {
          "output_type": "display_data",
          "data": {
            "image/png": "[encoded data removed]",
            "text/plain": [
              "<Figure size 432x288 with 1 Axes>"
            ]
          },
          "metadata": {
            "tags": [],
            "needs_background": "light"
          }
        }
      ]
    },
    {
      "cell_type": "code",
      "metadata": {
        "colab": {
          "base_uri": "https://localhost:8080/"
        },
        "id": "iAPY0oNsR9Il",
        "outputId": "0b165d11-b048-474f-ee95-e6caee11a88d"
      },
      "source": [
        "print('average similarity trump: ', sum(trump_sim)/len(trump_sim))\n",
        "print('average similarity biden', sum(biden_sim)/len(biden_sim))\n",
        "print('average similarity biden-trump', sum(tb_sim)/len(tb_sim))"
      ],
      "execution_count": 122,
      "outputs": [
        {
          "output_type": "stream",
          "text": [
            "average similarity trump:  0.3463027575001819\n",
            "average similarity biden 0.34692841714616424\n",
            "average similarity biden-trump 0.3290115638932446\n"
          ],
          "name": "stdout"
        }
      ]
    },
    {
      "cell_type": "code",
      "metadata": {
        "id": "AkE48-yGQQom"
      },
      "source": [
        "inf_trump = model.infer_vector(remove_stopwords(remove_punctuation(trump_df_test['body'][13000])))\n",
        "inf_biden = model.infer_vector(remove_stopwords(remove_punctuation(biden_df_test['body'][13000])))"
      ],
      "execution_count": 123,
      "outputs": []
    },
    {
      "cell_type": "code",
      "metadata": {
        "colab": {
          "base_uri": "https://localhost:8080/"
        },
        "id": "OkQYrysDUUpb",
        "outputId": "9792153f-e747-43ae-ae66-d280f5e15405"
      },
      "source": [
        "model.docvecs.most_similar([inf_trump])"
      ],
      "execution_count": 124,
      "outputs": [
        {
          "output_type": "execute_result",
          "data": {
            "text/plain": [
              "[(964, 0.5689812302589417),\n",
              " (5850, 0.520695686340332),\n",
              " (8834, 0.5188019275665283),\n",
              " (1725, 0.5169485807418823),\n",
              " (14612, 0.4986858665943146),\n",
              " (838, 0.4978404641151428),\n",
              " (19739, 0.49657702445983887),\n",
              " (19985, 0.46575963497161865),\n",
              " (14413, 0.46432650089263916),\n",
              " (9916, 0.4635835587978363)]"
            ]
          },
          "metadata": {
            "tags": []
          },
          "execution_count": 124
        }
      ]
    },
    {
      "cell_type": "code",
      "metadata": {
        "colab": {
          "base_uri": "https://localhost:8080/"
        },
        "id": "lX9zR8HXUi00",
        "outputId": "1d168b29-8e67-4fd3-88b0-5c84d861fcfc"
      },
      "source": [
        "model.docvecs.most_similar([inf_biden])"
      ],
      "execution_count": 125,
      "outputs": [
        {
          "output_type": "execute_result",
          "data": {
            "text/plain": [
              "[(18622, 0.7476060390472412),\n",
              " (10336, 0.7288316488265991),\n",
              " (1066, 0.7237259149551392),\n",
              " (13236, 0.7144524455070496),\n",
              " (8894, 0.7144016027450562),\n",
              " (11626, 0.6931387186050415),\n",
              " (5069, 0.6897291541099548),\n",
              " (14911, 0.6892868280410767),\n",
              " (12258, 0.6863023638725281),\n",
              " (5183, 0.6853554248809814)]"
            ]
          },
          "metadata": {
            "tags": []
          },
          "execution_count": 125
        }
      ]
    },
    {
      "cell_type": "code",
      "metadata": {
        "id": "fqTQAwK2UnP8"
      },
      "source": [
        ""
      ],
      "execution_count": null,
      "outputs": []
    }
  ]
}