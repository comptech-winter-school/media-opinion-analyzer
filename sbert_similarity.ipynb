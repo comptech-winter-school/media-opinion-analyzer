{
 "cells": [
  {
   "cell_type": "markdown",
   "metadata": {
    "id": "Z1cb5_FV3mus"
   },
   "source": [
    "# Расчет близости текстов"
   ]
  },
  {
   "cell_type": "markdown",
   "metadata": {
    "id": "PXqVAQBq0pq0"
   },
   "source": [
    "# Библиотеки"
   ]
  },
  {
   "cell_type": "code",
   "execution_count": 1,
   "metadata": {
    "executionInfo": {
     "elapsed": 7651,
     "status": "ok",
     "timestamp": 1612261692261,
     "user": {
      "displayName": "Hai Mo",
      "photoUrl": "",
      "userId": "16255286823133020183"
     },
     "user_tz": -180
    },
    "id": "vlHIncKc_oSA"
   },
   "outputs": [],
   "source": [
    "import json\n",
    "import os\n",
    "#from google.colab import drive\n",
    "from tqdm import tqdm\n",
    "import pickle\n",
    "from collections import Counter\n",
    "import time\n",
    "\n",
    "import pandas as pd\n",
    "\n",
    "import numpy as np\n",
    "import scipy\n",
    "from scipy import spatial\n",
    "\n",
    "import torch\n",
    "from sentence_transformers import SentenceTransformer, util\n",
    "\n",
    "import matplotlib.pyplot as plt\n",
    "import seaborn as sns"
   ]
  },
  {
   "cell_type": "markdown",
   "metadata": {},
   "source": [
    "# Предобученная модель"
   ]
  },
  {
   "cell_type": "code",
   "execution_count": 2,
   "metadata": {},
   "outputs": [],
   "source": [
    "#model = SentenceTransformer('bert-base-nli-mean-tokens') #эта быстрее\n",
    "model = SentenceTransformer('bert-large-nli-mean-tokens') #эта точнее"
   ]
  },
  {
   "cell_type": "markdown",
   "metadata": {},
   "source": [
    "# Датасет с embedding"
   ]
  },
  {
   "cell_type": "markdown",
   "metadata": {},
   "source": [
    "Загружаем таблицу с уже посчитанными ембедингами и кластерами для двух подвыборок из редита"
   ]
  },
  {
   "cell_type": "code",
   "execution_count": 3,
   "metadata": {},
   "outputs": [
    {
     "name": "stderr",
     "output_type": "stream",
     "text": [
      "100%|██████████| 1/1 [00:00<00:00, 10.28it/s]"
     ]
    },
    {
     "name": "stdout",
     "output_type": "stream",
     "text": [
      "comments_df.pickle\n",
      "Wall time: 102 ms\n"
     ]
    },
    {
     "name": "stderr",
     "output_type": "stream",
     "text": [
      "\n"
     ]
    }
   ],
   "source": [
    "%%time\n",
    "comments_dir = r\"\\Users\\Home\\Documents\\Data Science\\comptech\\weights\"\n",
    "\n",
    "comments_df = pd.DataFrame()\n",
    "tmp = pd.DataFrame()\n",
    "\n",
    "for my_file in tqdm(os.listdir(comments_dir), position=0, leave=True):\n",
    "    print(my_file)\n",
    "    with open(os.path.join(comments_dir, my_file), mode='rb') as pandas_file:\n",
    "        tmp = pickle.load(pandas_file)\n",
    "        comments_df = comments_df.append(tmp)\n",
    "del(tmp)"
   ]
  },
  {
   "cell_type": "code",
   "execution_count": 4,
   "metadata": {},
   "outputs": [],
   "source": [
    "trump_df = comments_df[comments_df['part'] == 'trump'][['body', 'part', 'embedding','label']]\n",
    "biden_df = comments_df[comments_df['part'] == 'biden'][['body', 'part', 'embedding','label']]"
   ]
  },
  {
   "cell_type": "markdown",
   "metadata": {},
   "source": [
    "# Создаем искуственную подвыборку c лозунгами за Трампа"
   ]
  },
  {
   "cell_type": "code",
   "execution_count": 5,
   "metadata": {},
   "outputs": [
    {
     "data": {
      "application/vnd.jupyter.widget-view+json": {
       "model_id": "6679764641cd4a19a75419267c03f433",
       "version_major": 2,
       "version_minor": 0
      },
      "text/plain": [
       "HBox(children=(HTML(value='Batches'), FloatProgress(value=0.0, max=2.0), HTML(value='')))"
      ]
     },
     "metadata": {},
     "output_type": "display_data"
    },
    {
     "name": "stdout",
     "output_type": "stream",
     "text": [
      "\n"
     ]
    }
   ],
   "source": [
    "trump_ref_texts = (\n",
    "'This is why we need Trump to win. With the USA as  trendsetter, we can purge the traitors from office!',\n",
    "'Bitcoin will soon be called Trump Coin it’ll be so great!',\n",
    "'Daddy Trump is gonna make Daycare Great Again!',\n",
    "'they was hoping trump would give them a boost in california. the tears are delicious',\n",
    "'Flawless Centipede... Submit to @Twinksfortrump and follow @Gay4Trump',\n",
    "'But if Bernie debates trump and a meteorite hit Hillary then sanders will win! Remember guys phone bank, donate, match me',\n",
    "'edited because i was a tool, and edited to say LostTrumpSupporter is AWESOME!',\n",
    "'my best tips are almost always from trump supporters. i guess when youre employed you can afford to be a generous person',\n",
    "'And it will work, until Trump makes America so fucking awesome nobody would want to change it.',\n",
    "'Poseidon is doing his best to protect the West.  Thank you based Poseidon.',\n",
    "'Trump/Poseidon 2016',\n",
    "'Probably made a script to respond to all of Trump’s newest tweets with pre-written tweets. He’s an impressive centipede!',\n",
    "'Donald Trump is best',\n",
    "'Trump has a diet for this country and trust me it’s gonna be nutritious and delicious',\n",
    "'Mr. Trump all we do is win i need a break!',\n",
    "'Babes are awesome so are Trump fellas.',\n",
    "'That’s a cuck way of looking at it, Trump WILL WIN 50+DC!',\n",
    "'Trump Tower has the best taco bowls.',\n",
    "\"immigrants are bad\",\n",
    "\"Immigrants will take American jobs, lower our wages, and especially hurt the poor\",\n",
    "\"Immigrants abuse the welfare state\",\n",
    "\"Immigrants increase the budget deficit and government debt\",\n",
    "\"Immigrants increase economic inequality\",\n",
    "\"Today’s immigrants don’t assimilate like immigrants from previous waves did\",\n",
    "\"Immigrants are a major source of crime\",\n",
    "\"Immigrants pose a unique risk today because of terrorism\",\n",
    "\"It’s easy to immigrate to America and we’re the most open country in the world\",\n",
    "\"Amnesty or a failure to enforce our immigration laws will destroy the Rule of Law in the United States\",\n",
    "\"By not exercising control over borders through actively blocking immigrants, the users of this argument warn, the United States government will surrender a vital component of its national sovereignty\",\n",
    "\"Immigrants won’t vote for the Republican Party\",\n",
    "\"Immigrants bring with them their bad cultures, ideas, or other factors that will undermine and destroy our economic and political institutions.  The resultant weakening in economic growth means that immigrants will destroy more wealth than they will create over the long run\",\n",
    "\"The brain drain of smart immigrants to the United State impoverished other countries\",\n",
    "\"Immigrants will increase crowding, harm the environment\",\n",
    "'Hey man im in north jersey as well. I wear my MAGA gear with pride and drive around with my trump bumper sticker. Im in morris county. Dont let the libs win. Trump 2016!!!',\n",
    "'I’m not asking for a VP that is lockstep with Trump. But accepting a VP who was a prime mover in the passage of one of the greatest frauds foisted upon the US ever is NOT acceptable as VP. VP is a heartbeat from POTUS',\n",
    "'The official Donald Trump MAGA cap is the one the Don himself wears. It’s the one I bought, and let me tell you folks, it is the best hat around, the best, believe me.'\n",
    ")\n",
    "\n",
    "trump_vec = model.encode(trump_ref_texts, show_progress_bar=True, convert_to_numpy=True, device='cuda')\n",
    "\n",
    "ref_df = pd.DataFrame({'body': trump_ref_texts, 'embedding':list(trump_vec)})"
   ]
  },
  {
   "cell_type": "markdown",
   "metadata": {},
   "source": [
    "# Сраваниваем наше предложение с тремя подвыборками"
   ]
  },
  {
   "cell_type": "code",
   "execution_count": 15,
   "metadata": {},
   "outputs": [
    {
     "data": {
      "application/vnd.jupyter.widget-view+json": {
       "model_id": "28929a6ddb0e475db55afefde6eae513",
       "version_major": 2,
       "version_minor": 0
      },
      "text/plain": [
       "HBox(children=(HTML(value='Batches'), FloatProgress(value=0.0, max=1.0), HTML(value='')))"
      ]
     },
     "metadata": {},
     "output_type": "display_data"
    },
    {
     "name": "stdout",
     "output_type": "stream",
     "text": [
      "\n"
     ]
    }
   ],
   "source": [
    "#Compute embeddings for the sentence we want to compare\n",
    "query = 'Trump is the best!'\n",
    "query_vec = model.encode(query, show_progress_bar=True, convert_to_numpy=True, device='cuda')"
   ]
  },
  {
   "cell_type": "code",
   "execution_count": 16,
   "metadata": {},
   "outputs": [
    {
     "name": "stdout",
     "output_type": "stream",
     "text": [
      "Wall time: 814 ms\n"
     ]
    }
   ],
   "source": [
    "%%time\n",
    "trump_scores = list()\n",
    "for vec in list(trump_df['embedding']):\n",
    "    trump_scores.append(1 - spatial.distance.cosine(vec, query_vec))\n",
    "trump_df['similarity'] = trump_scores\n",
    "\n",
    "biden_scores = list()\n",
    "for vec in list(biden_df['embedding']):\n",
    "    biden_scores.append(1 - spatial.distance.cosine(vec, query_vec))\n",
    "biden_df['similarity'] = biden_scores\n",
    "\n",
    "ref_scores = list()\n",
    "for vec in list(ref_df['embedding']):\n",
    "    ref_scores.append(1 - spatial.distance.cosine(vec, query_vec))\n",
    "ref_df['similarity'] = ref_scores"
   ]
  },
  {
   "cell_type": "code",
   "execution_count": 17,
   "metadata": {},
   "outputs": [
    {
     "name": "stdout",
     "output_type": "stream",
     "text": [
      "0.3580387309089609\n",
      "0.379574904473943\n",
      "0.4855378688209587\n"
     ]
    }
   ],
   "source": [
    "print(trump_df['similarity'].mean())\n",
    "print(biden_df['similarity'].mean())\n",
    "print(ref_df['similarity'].mean())"
   ]
  },
  {
   "cell_type": "markdown",
   "metadata": {},
   "source": [
    "Посмотрим на распределение расстояния"
   ]
  },
  {
   "cell_type": "code",
   "execution_count": 18,
   "metadata": {},
   "outputs": [
    {
     "data": {
      "text/plain": [
       "<AxesSubplot:>"
      ]
     },
     "execution_count": 18,
     "metadata": {},
     "output_type": "execute_result"
    },
    {
     "data": {
      "image/png": "[encoded data removed]",
      "text/plain": [
       "<Figure size 432x288 with 1 Axes>"
      ]
     },
     "metadata": {
      "needs_background": "light"
     },
     "output_type": "display_data"
    }
   ],
   "source": [
    "trump_df['similarity'].hist(alpha=0.6)\n",
    "biden_df['similarity'].hist(alpha=0.6)\n",
    "ref_df['similarity'].hist()"
   ]
  }
 ],
 "metadata": {
  "accelerator": "GPU",
  "colab": {
   "collapsed_sections": [
    "5MK-FNgTuq43",
    "PXqVAQBq0pq0",
    "faO7MgkI0wjg",
    "02teg2RG7a8E",
    "m0P2owDoisKT",
    "0mHuS3VQb4lu",
    "QGTvC0kDD9P8",
    "pOKwqnmGHLMZ"
   ],
   "machine_shape": "hm",
   "name": "SentenceBert.ipynb",
   "provenance": [
    {
     "file_id": "1S3BTEHxqk221YD77jHuwzDX6am3yvtQO",
     "timestamp": 1612199938869
    }
   ],
   "version": ""
  },
  "kernelspec": {
   "display_name": "Python 3",
   "language": "python",
   "name": "python3"
  },
  "language_info": {
   "codemirror_mode": {
    "name": "ipython",
    "version": 3
   },
   "file_extension": ".py",
   "mimetype": "text/x-python",
   "name": "python",
   "nbconvert_exporter": "python",
   "pygments_lexer": "ipython3",
   "version": "3.8.5"
  }
 },
 "nbformat": 4,
 "nbformat_minor": 4
}
