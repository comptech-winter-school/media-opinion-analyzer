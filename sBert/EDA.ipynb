{
  "nbformat": 4,
  "nbformat_minor": 0,
  "metadata": {
    "colab": {
      "name": "EDA.ipynb",
      "provenance": [],
      "collapsed_sections": []
    },
    "kernelspec": {
      "name": "python3",
      "display_name": "Python 3"
    },
    "language_info": {
      "name": "python"
    }
  },
  "cells": [
    {
      "cell_type": "markdown",
      "metadata": {
        "id": "5bP7zjHW8QG_"
      },
      "source": [
        "# EDA \n",
        "(dataset with sBERT embeddings)"
      ]
    },
    {
      "cell_type": "markdown",
      "metadata": {
        "id": "5hWIsY0qgDdy"
      },
      "source": [
        "<a href=\"https://colab.research.google.com/drive/1h17nNQP6UhEMFrCUXnU0gAL0OGN4Q8Qp?usp=sharing\" target=\"_parent\"><img src=\"https://colab.research.google.com/assets/colab-badge.svg\" alt=\"Open In Colab\"/></a>"
      ]
    },
    {
      "cell_type": "markdown",
      "metadata": {
        "id": "EuiLRrihNLhR"
      },
      "source": [
        "## libs"
      ]
    },
    {
      "cell_type": "code",
      "metadata": {
        "id": "MrmhZGDE9FwQ"
      },
      "source": [
        "import os\n",
        "from google.colab import drive\n",
        "import pickle\n",
        "from tqdm import tqdm\n",
        "\n",
        "import pandas as pd\n",
        "import numpy as np\n",
        "from datetime import datetime\n",
        "\n",
        "import matplotlib.pyplot as plt\n",
        "import seaborn as sns\n",
        "sns.set(rc={'figure.figsize':(12,4)})"
      ],
      "execution_count": null,
      "outputs": []
    },
    {
      "cell_type": "markdown",
      "metadata": {
        "id": "DMxO2zduNN5q"
      },
      "source": [
        "## loading data"
      ]
    },
    {
      "cell_type": "code",
      "metadata": {
        "colab": {
          "base_uri": "https://localhost:8080/"
        },
        "id": "NMuLVCWx8QPn",
        "outputId": "a47d5daf-3b3b-4f1e-c6a1-0fc73121dd9a"
      },
      "source": [
        "drive.mount('/content/drive')\n",
        "path = \"/content/drive/My Drive/comptech/comptech_opinion_analizer/code/embeddings_bert/\"\n",
        "os.listdir(path)"
      ],
      "execution_count": null,
      "outputs": [
        {
          "output_type": "stream",
          "text": [
            "Mounted at /content/drive\n"
          ],
          "name": "stdout"
        },
        {
          "output_type": "execute_result",
          "data": {
            "text/plain": [
              "['JoeBiden_0-100000.pickle',\n",
              " 'JoeBiden_100000-200000.pickle',\n",
              " 'JoeBiden_200000-300000.pickle',\n",
              " 'JoeBiden_300000-400000.pickle',\n",
              " 'JoeBiden_400000-500000.pickle',\n",
              " 'Trump_0-100000.pickle',\n",
              " 'Trump_100000-200000.pickle',\n",
              " 'Trump_200000-300000.pickle',\n",
              " 'Trump_300000-400000.pickle',\n",
              " 'Trump_400000-500000.pickle',\n",
              " 'Trump_500000-600000.pickle',\n",
              " 'Trump_600000-700000.pickle']"
            ]
          },
          "metadata": {
            "tags": []
          },
          "execution_count": 2
        }
      ]
    },
    {
      "cell_type": "markdown",
      "metadata": {
        "id": "Z-poWgVM1Dfv"
      },
      "source": [
        "loading 2 datasets: Trump and Biden"
      ]
    },
    {
      "cell_type": "code",
      "metadata": {
        "colab": {
          "base_uri": "https://localhost:8080/"
        },
        "id": "j7exzFFFxHG9",
        "outputId": "31085f55-f0ae-4de7-8178-f73df5f999a9"
      },
      "source": [
        "biden_df = pd.DataFrame()\n",
        "trump_df = pd.DataFrame()\n",
        "tmp = pd.DataFrame()\n",
        "for my_file in tqdm(os.listdir(path), position=0, leave=True):\n",
        "  if my_file.split('_')[0] == 'JoeBiden':\n",
        "    with open(path + my_file, mode='rb') as pandas_file:\n",
        "      tmp = pickle.load(pandas_file)\n",
        "      biden_df = biden_df.append(tmp)\n",
        "  else:\n",
        "    with open(path + my_file, mode='rb') as pandas_file:\n",
        "      tmp = pickle.load(pandas_file)\n",
        "      trump_df = trump_df.append(tmp)\n",
        "del tmp"
      ],
      "execution_count": null,
      "outputs": [
        {
          "output_type": "stream",
          "text": [
            "100%|██████████| 12/12 [01:08<00:00,  5.73s/it]\n"
          ],
          "name": "stderr"
        }
      ]
    },
    {
      "cell_type": "code",
      "metadata": {
        "colab": {
          "base_uri": "https://localhost:8080/"
        },
        "id": "fsDk366LJ48m",
        "outputId": "410c3979-b0a8-4ecb-b2aa-053683fc2e74"
      },
      "source": [
        "print('trump', trump_df.shape)\n",
        "print('biden', biden_df.shape)"
      ],
      "execution_count": null,
      "outputs": [
        {
          "output_type": "stream",
          "text": [
            "trump (618858, 7)\n",
            "biden (499528, 7)\n"
          ],
          "name": "stdout"
        }
      ]
    },
    {
      "cell_type": "code",
      "metadata": {
        "colab": {
          "base_uri": "https://localhost:8080/",
          "height": 230
        },
        "id": "WvK12tKbM9HM",
        "outputId": "f0fc86c0-1e0e-4658-c9a2-8f0f5a25acdf"
      },
      "source": [
        "trump_df.head(2)"
      ],
      "execution_count": null,
      "outputs": [
        {
          "output_type": "execute_result",
          "data": {
            "text/html": [
              "<div>\n",
              "<style scoped>\n",
              "    .dataframe tbody tr th:only-of-type {\n",
              "        vertical-align: middle;\n",
              "    }\n",
              "\n",
              "    .dataframe tbody tr th {\n",
              "        vertical-align: top;\n",
              "    }\n",
              "\n",
              "    .dataframe thead th {\n",
              "        text-align: right;\n",
              "    }\n",
              "</style>\n",
              "<table border=\"1\" class=\"dataframe\">\n",
              "  <thead>\n",
              "    <tr style=\"text-align: right;\">\n",
              "      <th></th>\n",
              "      <th>author</th>\n",
              "      <th>body</th>\n",
              "      <th>created_utc</th>\n",
              "      <th>link_id</th>\n",
              "      <th>parent_id</th>\n",
              "      <th>score</th>\n",
              "      <th>embedding</th>\n",
              "    </tr>\n",
              "  </thead>\n",
              "  <tbody>\n",
              "    <tr>\n",
              "      <th>0</th>\n",
              "      <td>khalabrakis</td>\n",
              "      <td>Fighters... That means warrior, like people wh...</td>\n",
              "      <td>1577836803</td>\n",
              "      <td>t3_ei6h2x</td>\n",
              "      <td>t3_ei6h2x</td>\n",
              "      <td>1</td>\n",
              "      <td>[0.36201936, -0.32239345, 0.21850784, 1.316984...</td>\n",
              "    </tr>\n",
              "    <tr>\n",
              "      <th>1</th>\n",
              "      <td>Whopper_Jr</td>\n",
              "      <td>it is plausible that Republicans will never wi...</td>\n",
              "      <td>1577836806</td>\n",
              "      <td>t3_ei4ag7</td>\n",
              "      <td>t3_ei4ag7</td>\n",
              "      <td>1</td>\n",
              "      <td>[0.92618763, 0.5766326, 0.2711937, 0.5262378, ...</td>\n",
              "    </tr>\n",
              "  </tbody>\n",
              "</table>\n",
              "</div>"
            ],
            "text/plain": [
              "        author  ...                                          embedding\n",
              "0  khalabrakis  ...  [0.36201936, -0.32239345, 0.21850784, 1.316984...\n",
              "1   Whopper_Jr  ...  [0.92618763, 0.5766326, 0.2711937, 0.5262378, ...\n",
              "\n",
              "[2 rows x 7 columns]"
            ]
          },
          "metadata": {
            "tags": []
          },
          "execution_count": 5
        }
      ]
    },
    {
      "cell_type": "markdown",
      "metadata": {
        "id": "9xFb9uRB2dQJ"
      },
      "source": [
        "## Analysis"
      ]
    },
    {
      "cell_type": "markdown",
      "metadata": {
        "id": "hiduHugHWbLY"
      },
      "source": [
        "### Time"
      ]
    },
    {
      "cell_type": "markdown",
      "metadata": {
        "id": "UP7wJL7pWlpp"
      },
      "source": [
        "trump"
      ]
    },
    {
      "cell_type": "code",
      "metadata": {
        "id": "z2BiZthFWO8O"
      },
      "source": [
        "trump_df['time'] = list(map(datetime.utcfromtimestamp, trump_df['created_utc']))\n",
        "trump_df['time'] = trump_df['time'].dt.round('d')\n",
        "trump_df['month'] = trump_df['time'].apply(lambda x: x.month)"
      ],
      "execution_count": null,
      "outputs": []
    },
    {
      "cell_type": "code",
      "metadata": {
        "colab": {
          "base_uri": "https://localhost:8080/",
          "height": 264
        },
        "id": "Xtp0T04NWhPv",
        "outputId": "a966bbd6-fc86-43a6-f3b6-0cb22752a476"
      },
      "source": [
        "plt.plot(trump_df.groupby('month')['author'].count())"
      ],
      "execution_count": null,
      "outputs": [
        {
          "output_type": "execute_result",
          "data": {
            "text/plain": [
              "[<matplotlib.lines.Line2D at 0x7f0a642e06d0>]"
            ]
          },
          "metadata": {
            "tags": []
          },
          "execution_count": 67
        },
        {
          "output_type": "display_data",
          "data": {
            "image/png": "[encoded data removed]",
            "text/plain": [
              "<Figure size 864x288 with 1 Axes>"
            ]
          },
          "metadata": {
            "tags": []
          }
        }
      ]
    },
    {
      "cell_type": "markdown",
      "metadata": {
        "id": "UUp32MZjWndc"
      },
      "source": [
        "biden"
      ]
    },
    {
      "cell_type": "code",
      "metadata": {
        "id": "oFTPbnkXWXLD"
      },
      "source": [
        "biden_df['time'] = list(map(datetime.utcfromtimestamp, biden_df['created_utc']))\n",
        "biden_df['time'] = biden_df['time'].dt.round('d')\n",
        "biden_df['month'] = biden_df['time'].apply(lambda x: x.month)"
      ],
      "execution_count": null,
      "outputs": []
    },
    {
      "cell_type": "code",
      "metadata": {
        "colab": {
          "base_uri": "https://localhost:8080/",
          "height": 264
        },
        "id": "hi01z1z4WoaY",
        "outputId": "abf4b2fa-91be-4a1d-9712-d90f74228eb8"
      },
      "source": [
        "plt.plot(biden_df.groupby('month')['author'].count())"
      ],
      "execution_count": null,
      "outputs": [
        {
          "output_type": "execute_result",
          "data": {
            "text/plain": [
              "[<matplotlib.lines.Line2D at 0x7f0a641e2f50>]"
            ]
          },
          "metadata": {
            "tags": []
          },
          "execution_count": 68
        },
        {
          "output_type": "display_data",
          "data": {
            "image/png": "[encoded data removed]",
            "text/plain": [
              "<Figure size 864x288 with 1 Axes>"
            ]
          },
          "metadata": {
            "tags": []
          }
        }
      ]
    },
    {
      "cell_type": "markdown",
      "metadata": {
        "id": "J_eVSKBP2hEe"
      },
      "source": [
        "### Score"
      ]
    },
    {
      "cell_type": "code",
      "metadata": {
        "colab": {
          "base_uri": "https://localhost:8080/",
          "height": 297
        },
        "id": "riBIxdCVSVaq",
        "outputId": "4b5eca98-b19d-48bb-a978-40ec4b3c57f8"
      },
      "source": [
        "pd.set_option('display.float_format', lambda x: '%.2f' % x)\n",
        "trump_df.describe()"
      ],
      "execution_count": null,
      "outputs": [
        {
          "output_type": "execute_result",
          "data": {
            "text/html": [
              "<div>\n",
              "<style scoped>\n",
              "    .dataframe tbody tr th:only-of-type {\n",
              "        vertical-align: middle;\n",
              "    }\n",
              "\n",
              "    .dataframe tbody tr th {\n",
              "        vertical-align: top;\n",
              "    }\n",
              "\n",
              "    .dataframe thead th {\n",
              "        text-align: right;\n",
              "    }\n",
              "</style>\n",
              "<table border=\"1\" class=\"dataframe\">\n",
              "  <thead>\n",
              "    <tr style=\"text-align: right;\">\n",
              "      <th></th>\n",
              "      <th>created_utc</th>\n",
              "      <th>score</th>\n",
              "    </tr>\n",
              "  </thead>\n",
              "  <tbody>\n",
              "    <tr>\n",
              "      <th>count</th>\n",
              "      <td>618858.00</td>\n",
              "      <td>618858.00</td>\n",
              "    </tr>\n",
              "    <tr>\n",
              "      <th>mean</th>\n",
              "      <td>1598321605.57</td>\n",
              "      <td>1.97</td>\n",
              "    </tr>\n",
              "    <tr>\n",
              "      <th>std</th>\n",
              "      <td>9460881.52</td>\n",
              "      <td>6.85</td>\n",
              "    </tr>\n",
              "    <tr>\n",
              "      <th>min</th>\n",
              "      <td>1577836803.00</td>\n",
              "      <td>-176.00</td>\n",
              "    </tr>\n",
              "    <tr>\n",
              "      <th>25%</th>\n",
              "      <td>1593943855.00</td>\n",
              "      <td>1.00</td>\n",
              "    </tr>\n",
              "    <tr>\n",
              "      <th>50%</th>\n",
              "      <td>1601479200.50</td>\n",
              "      <td>1.00</td>\n",
              "    </tr>\n",
              "    <tr>\n",
              "      <th>75%</th>\n",
              "      <td>1605567868.25</td>\n",
              "      <td>2.00</td>\n",
              "    </tr>\n",
              "    <tr>\n",
              "      <th>max</th>\n",
              "      <td>1609459753.00</td>\n",
              "      <td>1189.00</td>\n",
              "    </tr>\n",
              "  </tbody>\n",
              "</table>\n",
              "</div>"
            ],
            "text/plain": [
              "        created_utc     score\n",
              "count     618858.00 618858.00\n",
              "mean  1598321605.57      1.97\n",
              "std      9460881.52      6.85\n",
              "min   1577836803.00   -176.00\n",
              "25%   1593943855.00      1.00\n",
              "50%   1601479200.50      1.00\n",
              "75%   1605567868.25      2.00\n",
              "max   1609459753.00   1189.00"
            ]
          },
          "metadata": {
            "tags": []
          },
          "execution_count": 7
        }
      ]
    },
    {
      "cell_type": "code",
      "metadata": {
        "colab": {
          "base_uri": "https://localhost:8080/",
          "height": 297
        },
        "id": "gwDoP9t7204c",
        "outputId": "aa7a9bcf-c7e0-4239-b3ca-514ebd876575"
      },
      "source": [
        "biden_df.describe()"
      ],
      "execution_count": null,
      "outputs": [
        {
          "output_type": "execute_result",
          "data": {
            "text/html": [
              "<div>\n",
              "<style scoped>\n",
              "    .dataframe tbody tr th:only-of-type {\n",
              "        vertical-align: middle;\n",
              "    }\n",
              "\n",
              "    .dataframe tbody tr th {\n",
              "        vertical-align: top;\n",
              "    }\n",
              "\n",
              "    .dataframe thead th {\n",
              "        text-align: right;\n",
              "    }\n",
              "</style>\n",
              "<table border=\"1\" class=\"dataframe\">\n",
              "  <thead>\n",
              "    <tr style=\"text-align: right;\">\n",
              "      <th></th>\n",
              "      <th>created_utc</th>\n",
              "      <th>score</th>\n",
              "    </tr>\n",
              "  </thead>\n",
              "  <tbody>\n",
              "    <tr>\n",
              "      <th>count</th>\n",
              "      <td>499528.00</td>\n",
              "      <td>499528.00</td>\n",
              "    </tr>\n",
              "    <tr>\n",
              "      <th>mean</th>\n",
              "      <td>1598066736.06</td>\n",
              "      <td>1.04</td>\n",
              "    </tr>\n",
              "    <tr>\n",
              "      <th>std</th>\n",
              "      <td>7668514.23</td>\n",
              "      <td>1.50</td>\n",
              "    </tr>\n",
              "    <tr>\n",
              "      <th>min</th>\n",
              "      <td>1577837280.00</td>\n",
              "      <td>-10.00</td>\n",
              "    </tr>\n",
              "    <tr>\n",
              "      <th>25%</th>\n",
              "      <td>1592502608.00</td>\n",
              "      <td>1.00</td>\n",
              "    </tr>\n",
              "    <tr>\n",
              "      <th>50%</th>\n",
              "      <td>1601141019.00</td>\n",
              "      <td>1.00</td>\n",
              "    </tr>\n",
              "    <tr>\n",
              "      <th>75%</th>\n",
              "      <td>1604462328.00</td>\n",
              "      <td>1.00</td>\n",
              "    </tr>\n",
              "    <tr>\n",
              "      <th>max</th>\n",
              "      <td>1609461313.00</td>\n",
              "      <td>308.00</td>\n",
              "    </tr>\n",
              "  </tbody>\n",
              "</table>\n",
              "</div>"
            ],
            "text/plain": [
              "        created_utc     score\n",
              "count     499528.00 499528.00\n",
              "mean  1598066736.06      1.04\n",
              "std      7668514.23      1.50\n",
              "min   1577837280.00    -10.00\n",
              "25%   1592502608.00      1.00\n",
              "50%   1601141019.00      1.00\n",
              "75%   1604462328.00      1.00\n",
              "max   1609461313.00    308.00"
            ]
          },
          "metadata": {
            "tags": []
          },
          "execution_count": 8
        }
      ]
    },
    {
      "cell_type": "code",
      "metadata": {
        "id": "ofaauy6LRC5u"
      },
      "source": [
        "trump_df['score'] = trump_df['score'].astype('int16')\n",
        "biden_df['score'] = biden_df['score'].astype('int16')"
      ],
      "execution_count": null,
      "outputs": []
    },
    {
      "cell_type": "code",
      "metadata": {
        "colab": {
          "base_uri": "https://localhost:8080/"
        },
        "id": "TJeTRVQ1QfIE",
        "outputId": "ccf9ccfa-c0b2-40b9-b4a2-9f6ca96b4e90"
      },
      "source": [
        "trump_df['score'].value_counts(normalize=True)[:5]"
      ],
      "execution_count": null,
      "outputs": [
        {
          "output_type": "execute_result",
          "data": {
            "text/plain": [
              "1   0.62\n",
              "2   0.11\n",
              "3   0.06\n",
              "0   0.05\n",
              "4   0.03\n",
              "Name: score, dtype: float64"
            ]
          },
          "metadata": {
            "tags": []
          },
          "execution_count": 10
        }
      ]
    },
    {
      "cell_type": "code",
      "metadata": {
        "colab": {
          "base_uri": "https://localhost:8080/"
        },
        "id": "rB_R8vd2xxoe",
        "outputId": "018023ca-c2cc-4154-bb1d-471acf897bd8"
      },
      "source": [
        "biden_df['score'].value_counts(normalize=True)[:5]"
      ],
      "execution_count": null,
      "outputs": [
        {
          "output_type": "execute_result",
          "data": {
            "text/plain": [
              "1   1.00\n",
              "2   0.00\n",
              "3   0.00\n",
              "5   0.00\n",
              "4   0.00\n",
              "Name: score, dtype: float64"
            ]
          },
          "metadata": {
            "tags": []
          },
          "execution_count": 11
        }
      ]
    },
    {
      "cell_type": "markdown",
      "metadata": {
        "id": "OdNG3ZxEb4UQ"
      },
      "source": [
        "### Authors"
      ]
    },
    {
      "cell_type": "markdown",
      "metadata": {
        "id": "xQ4Bpx-tYaNg"
      },
      "source": [
        "authors who wrote 1, 10 and 100"
      ]
    },
    {
      "cell_type": "code",
      "metadata": {
        "colab": {
          "base_uri": "https://localhost:8080/"
        },
        "id": "E89Va-m2b6ZA",
        "outputId": "826c7294-91f8-4367-909c-d43bc3d0024c"
      },
      "source": [
        "len(trump_df['author'].unique())"
      ],
      "execution_count": null,
      "outputs": [
        {
          "output_type": "execute_result",
          "data": {
            "text/plain": [
              "74090"
            ]
          },
          "metadata": {
            "tags": []
          },
          "execution_count": 94
        }
      ]
    },
    {
      "cell_type": "code",
      "metadata": {
        "colab": {
          "base_uri": "https://localhost:8080/"
        },
        "id": "ijng-hnaVxhN",
        "outputId": "90b9dd8c-746b-4636-e233-1242e58727cf"
      },
      "source": [
        "s = (trump_df['author'].value_counts() == 1)\n",
        "authors_1 = list(s[s].index)\n",
        "print(f\"Authors who wrote only 1 comment: {(len(authors_1) / len(trump_df['author'].unique())) : .2%}\")\n",
        "\n",
        "for i in [1, 10, 100, 1000]:\n",
        "  s = (trump_df['author'].value_counts() > i)\n",
        "  authors = list(s[s].index)\n",
        "  print(f\"Authors who wrote more than {i} comments: {(len(authors)/len(trump_df['author'].unique())) : .2%}\")"
      ],
      "execution_count": null,
      "outputs": [
        {
          "output_type": "stream",
          "text": [
            "Authors who wrote only 1 comment:  43.19%\n",
            "Authors who wrote more than 1 comments:  56.81%\n",
            "Authors who wrote more than 10 comments:  12.43%\n",
            "Authors who wrote more than 100 comments:  1.18%\n",
            "Authors who wrote more than 1000 comments:  0.03%\n"
          ],
          "name": "stdout"
        }
      ]
    },
    {
      "cell_type": "code",
      "metadata": {
        "colab": {
          "base_uri": "https://localhost:8080/"
        },
        "id": "t3iZFS1n0prd",
        "outputId": "ac71d72f-3840-4fa5-90eb-512bff1a9fc4"
      },
      "source": [
        "trump_df['author'].value_counts().describe()"
      ],
      "execution_count": null,
      "outputs": [
        {
          "output_type": "execute_result",
          "data": {
            "text/plain": [
              "count   74097.00\n",
              "mean        8.35\n",
              "std        40.45\n",
              "min         1.00\n",
              "25%         1.00\n",
              "50%         2.00\n",
              "75%         5.00\n",
              "max      3777.00\n",
              "Name: author, dtype: float64"
            ]
          },
          "metadata": {
            "tags": []
          },
          "execution_count": 13
        }
      ]
    },
    {
      "cell_type": "code",
      "metadata": {
        "colab": {
          "base_uri": "https://localhost:8080/"
        },
        "id": "7pGb5XI7yi5k",
        "outputId": "2a91ee90-22b3-4e92-f4a6-510dc80d174a"
      },
      "source": [
        "biden_df['author'].value_counts().describe()"
      ],
      "execution_count": null,
      "outputs": [
        {
          "output_type": "execute_result",
          "data": {
            "text/plain": [
              "count   49677.00\n",
              "mean       10.06\n",
              "std        54.39\n",
              "min         1.00\n",
              "25%         1.00\n",
              "50%         2.00\n",
              "75%         4.00\n",
              "max      3931.00\n",
              "Name: author, dtype: float64"
            ]
          },
          "metadata": {
            "tags": []
          },
          "execution_count": 14
        }
      ]
    },
    {
      "cell_type": "code",
      "metadata": {
        "colab": {
          "base_uri": "https://localhost:8080/",
          "height": 285
        },
        "id": "kEkcIUP3V8Z-",
        "outputId": "3a532b6c-15b3-44bc-a180-09482af0beb3"
      },
      "source": [
        "trump_df['author'].value_counts()[:10].plot.barh()"
      ],
      "execution_count": null,
      "outputs": [
        {
          "output_type": "execute_result",
          "data": {
            "text/plain": [
              "<matplotlib.axes._subplots.AxesSubplot at 0x7f0a738a53d0>"
            ]
          },
          "metadata": {
            "tags": []
          },
          "execution_count": 15
        },
        {
          "output_type": "display_data",
          "data": {
            "image/png": "[encoded data removed]",
            "text/plain": [
              "<Figure size 432x288 with 1 Axes>"
            ]
          },
          "metadata": {
            "tags": [],
            "needs_background": "light"
          }
        }
      ]
    },
    {
      "cell_type": "code",
      "metadata": {
        "colab": {
          "base_uri": "https://localhost:8080/",
          "height": 285
        },
        "id": "khduEcE-yq5x",
        "outputId": "37afb1f2-f963-41ca-dc2b-ad06c133d390"
      },
      "source": [
        "biden_df['author'].value_counts()[:10].plot.barh()"
      ],
      "execution_count": null,
      "outputs": [
        {
          "output_type": "execute_result",
          "data": {
            "text/plain": [
              "<matplotlib.axes._subplots.AxesSubplot at 0x7f0a736e5490>"
            ]
          },
          "metadata": {
            "tags": []
          },
          "execution_count": 16
        },
        {
          "output_type": "display_data",
          "data": {
            "image/png": "[encoded data removed]",
            "text/plain": [
              "<Figure size 432x288 with 1 Axes>"
            ]
          },
          "metadata": {
            "tags": [],
            "needs_background": "light"
          }
        }
      ]
    },
    {
      "cell_type": "code",
      "metadata": {
        "colab": {
          "base_uri": "https://localhost:8080/",
          "height": 352
        },
        "id": "17dOMLCbx1fM",
        "outputId": "f7e63861-eb32-4ba8-db8a-2655f5b181dd"
      },
      "source": [
        "sns.set(rc={'figure.figsize':(12,4)})\n",
        "sns.boxplot(trump_df['author'].value_counts())"
      ],
      "execution_count": null,
      "outputs": [
        {
          "output_type": "stream",
          "text": [
            "/usr/local/lib/python3.7/dist-packages/seaborn/_decorators.py:43: FutureWarning: Pass the following variable as a keyword arg: x. From version 0.12, the only valid positional argument will be `data`, and passing other arguments without an explicit keyword will result in an error or misinterpretation.\n",
            "  FutureWarning\n"
          ],
          "name": "stderr"
        },
        {
          "output_type": "execute_result",
          "data": {
            "text/plain": [
              "<matplotlib.axes._subplots.AxesSubplot at 0x7f0a736ab790>"
            ]
          },
          "metadata": {
            "tags": []
          },
          "execution_count": 17
        },
        {
          "output_type": "display_data",
          "data": {
            "image/png": "[encoded data removed]",
            "text/plain": [
              "<Figure size 864x288 with 1 Axes>"
            ]
          },
          "metadata": {
            "tags": []
          }
        }
      ]
    },
    {
      "cell_type": "code",
      "metadata": {
        "colab": {
          "base_uri": "https://localhost:8080/",
          "height": 352
        },
        "id": "GWxzBP7vyz3O",
        "outputId": "00f3f328-41e4-405e-90fa-95582113d323"
      },
      "source": [
        "sns.set(rc={'figure.figsize':(12,4)})\n",
        "sns.boxplot(biden_df['author'].value_counts())"
      ],
      "execution_count": null,
      "outputs": [
        {
          "output_type": "stream",
          "text": [
            "/usr/local/lib/python3.7/dist-packages/seaborn/_decorators.py:43: FutureWarning: Pass the following variable as a keyword arg: x. From version 0.12, the only valid positional argument will be `data`, and passing other arguments without an explicit keyword will result in an error or misinterpretation.\n",
            "  FutureWarning\n"
          ],
          "name": "stderr"
        },
        {
          "output_type": "execute_result",
          "data": {
            "text/plain": [
              "<matplotlib.axes._subplots.AxesSubplot at 0x7f0a73627750>"
            ]
          },
          "metadata": {
            "tags": []
          },
          "execution_count": 18
        },
        {
          "output_type": "display_data",
          "data": {
            "image/png": "[encoded data removed]",
            "text/plain": [
              "<Figure size 864x288 with 1 Axes>"
            ]
          },
          "metadata": {
            "tags": []
          }
        }
      ]
    },
    {
      "cell_type": "code",
      "metadata": {
        "colab": {
          "base_uri": "https://localhost:8080/",
          "height": 266
        },
        "id": "3uWFD5_iA6c5",
        "outputId": "e67f2c82-9db2-4548-b20d-6ba53a893e28"
      },
      "source": [
        "trump_df['author'].value_counts().hist(bins=9, range=(1,10))\n",
        "biden_df['author'].value_counts().hist(bins=9, range=(1,10), alpha=0.6)"
      ],
      "execution_count": null,
      "outputs": [
        {
          "output_type": "execute_result",
          "data": {
            "text/plain": [
              "<matplotlib.axes._subplots.AxesSubplot at 0x7f0a73570410>"
            ]
          },
          "metadata": {
            "tags": []
          },
          "execution_count": 19
        },
        {
          "output_type": "display_data",
          "data": {
            "image/png": "[encoded data removed]",
            "text/plain": [
              "<Figure size 864x288 with 1 Axes>"
            ]
          },
          "metadata": {
            "tags": []
          }
        }
      ]
    },
    {
      "cell_type": "markdown",
      "metadata": {
        "id": "HTiVvFLa4trm"
      },
      "source": [
        "####  leader-author"
      ]
    },
    {
      "cell_type": "markdown",
      "metadata": {
        "id": "5dTJHleM1Z4r"
      },
      "source": [
        "Interesting to check leader-author comments in time and how changed their opinion"
      ]
    },
    {
      "cell_type": "markdown",
      "metadata": {
        "id": "Zo5nZT0SXyL_"
      },
      "source": [
        "- qty of comments for top authors through time"
      ]
    },
    {
      "cell_type": "markdown",
      "metadata": {
        "id": "z-bWoGJkNyys"
      },
      "source": [
        "top authors in trump"
      ]
    },
    {
      "cell_type": "code",
      "metadata": {
        "colab": {
          "base_uri": "https://localhost:8080/",
          "height": 268
        },
        "id": "vbsEnbOpUP50",
        "outputId": "155e5874-a567-4e04-e0ea-a37bb479d778"
      },
      "source": [
        "plt.plot(trump_df[trump_df['author'] == 'soldio101']\\\n",
        "         .groupby('month')['author'].count())"
      ],
      "execution_count": null,
      "outputs": [
        {
          "output_type": "execute_result",
          "data": {
            "text/plain": [
              "[<matplotlib.lines.Line2D at 0x7f0a640a3750>]"
            ]
          },
          "metadata": {
            "tags": []
          },
          "execution_count": 71
        },
        {
          "output_type": "display_data",
          "data": {
            "image/png": "[encoded data removed]",
            "text/plain": [
              "<Figure size 864x288 with 1 Axes>"
            ]
          },
          "metadata": {
            "tags": []
          }
        }
      ]
    },
    {
      "cell_type": "code",
      "metadata": {
        "colab": {
          "base_uri": "https://localhost:8080/",
          "height": 270
        },
        "id": "WYjnlvWkXgQ4",
        "outputId": "019609dd-67e3-4262-bb9f-776795b1085a"
      },
      "source": [
        "plt.plot(trump_df[trump_df['author'] == 'ifuc---pipeline']\\\n",
        "         .groupby('month')['author'].count())"
      ],
      "execution_count": null,
      "outputs": [
        {
          "output_type": "execute_result",
          "data": {
            "text/plain": [
              "[<matplotlib.lines.Line2D at 0x7f0a64018210>]"
            ]
          },
          "metadata": {
            "tags": []
          },
          "execution_count": 72
        },
        {
          "output_type": "display_data",
          "data": {
            "image/png": "[encoded data removed]",
            "text/plain": [
              "<Figure size 864x288 with 1 Axes>"
            ]
          },
          "metadata": {
            "tags": []
          }
        }
      ]
    },
    {
      "cell_type": "markdown",
      "metadata": {
        "id": "5Wc0baBBVy3t"
      },
      "source": [
        "top authors in biden"
      ]
    },
    {
      "cell_type": "code",
      "metadata": {
        "colab": {
          "base_uri": "https://localhost:8080/",
          "height": 270
        },
        "id": "2GebpaoDNkSZ",
        "outputId": "36c5660f-f35c-4176-ee1e-a879e58e2b69"
      },
      "source": [
        "plt.plot(biden_df[biden_df['author'] == 'backpackwayne']\\\n",
        "         .groupby('month')['author'].count())"
      ],
      "execution_count": null,
      "outputs": [
        {
          "output_type": "execute_result",
          "data": {
            "text/plain": [
              "[<matplotlib.lines.Line2D at 0x7f0a640c19d0>]"
            ]
          },
          "metadata": {
            "tags": []
          },
          "execution_count": 70
        },
        {
          "output_type": "display_data",
          "data": {
            "image/png": "[encoded data removed]",
            "text/plain": [
              "<Figure size 864x288 with 1 Axes>"
            ]
          },
          "metadata": {
            "tags": []
          }
        }
      ]
    },
    {
      "cell_type": "code",
      "metadata": {
        "colab": {
          "base_uri": "https://localhost:8080/",
          "height": 270
        },
        "id": "IGg078wRXsC1",
        "outputId": "b174604c-716e-477f-9da1-37283e1d9d6f"
      },
      "source": [
        "plt.plot(biden_df[biden_df['author'] == '40for60']\\\n",
        "         .groupby('month')['author'].count())"
      ],
      "execution_count": null,
      "outputs": [
        {
          "output_type": "execute_result",
          "data": {
            "text/plain": [
              "[<matplotlib.lines.Line2D at 0x7f0a63ff9650>]"
            ]
          },
          "metadata": {
            "tags": []
          },
          "execution_count": 73
        },
        {
          "output_type": "display_data",
          "data": {
            "image/png": "[encoded data removed]",
            "text/plain": [
              "<Figure size 864x288 with 1 Axes>"
            ]
          },
          "metadata": {
            "tags": []
          }
        }
      ]
    },
    {
      "cell_type": "markdown",
      "metadata": {
        "id": "CfwymzW-X9WI"
      },
      "source": [
        "- opinion dynamic for top authours through time"
      ]
    },
    {
      "cell_type": "markdown",
      "metadata": {
        "id": "d2CAbXw6wmZ0"
      },
      "source": [
        "### Comments"
      ]
    },
    {
      "cell_type": "markdown",
      "metadata": {
        "id": "QKXlUK3Oryk2"
      },
      "source": [
        "Add column with comments length"
      ]
    },
    {
      "cell_type": "code",
      "metadata": {
        "colab": {
          "base_uri": "https://localhost:8080/"
        },
        "id": "uF4rIm3Irudd",
        "outputId": "0faf3474-0c7c-4a58-cec3-5bf50f884811"
      },
      "source": [
        "text_length = tqdm([_ for _ in map(len, trump_df['body'])])\n",
        "trump_df['length'] = text_length\n",
        "del text_length"
      ],
      "execution_count": null,
      "outputs": [
        {
          "output_type": "stream",
          "text": [
            "100%|██████████| 618858/618858 [00:00<00:00, 2875276.19it/s]\n"
          ],
          "name": "stderr"
        }
      ]
    },
    {
      "cell_type": "code",
      "metadata": {
        "colab": {
          "base_uri": "https://localhost:8080/",
          "height": 297
        },
        "id": "0h275keWro6u",
        "outputId": "7e319a94-848d-4fd5-e534-146bd0783d44"
      },
      "source": [
        "trump_df.describe()"
      ],
      "execution_count": null,
      "outputs": [
        {
          "output_type": "execute_result",
          "data": {
            "text/html": [
              "<div>\n",
              "<style scoped>\n",
              "    .dataframe tbody tr th:only-of-type {\n",
              "        vertical-align: middle;\n",
              "    }\n",
              "\n",
              "    .dataframe tbody tr th {\n",
              "        vertical-align: top;\n",
              "    }\n",
              "\n",
              "    .dataframe thead th {\n",
              "        text-align: right;\n",
              "    }\n",
              "</style>\n",
              "<table border=\"1\" class=\"dataframe\">\n",
              "  <thead>\n",
              "    <tr style=\"text-align: right;\">\n",
              "      <th></th>\n",
              "      <th>created_utc</th>\n",
              "      <th>score</th>\n",
              "      <th>length</th>\n",
              "    </tr>\n",
              "  </thead>\n",
              "  <tbody>\n",
              "    <tr>\n",
              "      <th>count</th>\n",
              "      <td>618858.00</td>\n",
              "      <td>618858.00</td>\n",
              "      <td>618858.00</td>\n",
              "    </tr>\n",
              "    <tr>\n",
              "      <th>mean</th>\n",
              "      <td>1598321605.57</td>\n",
              "      <td>1.97</td>\n",
              "      <td>179.73</td>\n",
              "    </tr>\n",
              "    <tr>\n",
              "      <th>std</th>\n",
              "      <td>9460881.52</td>\n",
              "      <td>6.85</td>\n",
              "      <td>282.52</td>\n",
              "    </tr>\n",
              "    <tr>\n",
              "      <th>min</th>\n",
              "      <td>1577836803.00</td>\n",
              "      <td>-176.00</td>\n",
              "      <td>11.00</td>\n",
              "    </tr>\n",
              "    <tr>\n",
              "      <th>25%</th>\n",
              "      <td>1593943855.00</td>\n",
              "      <td>1.00</td>\n",
              "      <td>58.00</td>\n",
              "    </tr>\n",
              "    <tr>\n",
              "      <th>50%</th>\n",
              "      <td>1601479200.50</td>\n",
              "      <td>1.00</td>\n",
              "      <td>101.00</td>\n",
              "    </tr>\n",
              "    <tr>\n",
              "      <th>75%</th>\n",
              "      <td>1605567868.25</td>\n",
              "      <td>2.00</td>\n",
              "      <td>195.00</td>\n",
              "    </tr>\n",
              "    <tr>\n",
              "      <th>max</th>\n",
              "      <td>1609459753.00</td>\n",
              "      <td>1189.00</td>\n",
              "      <td>9984.00</td>\n",
              "    </tr>\n",
              "  </tbody>\n",
              "</table>\n",
              "</div>"
            ],
            "text/plain": [
              "        created_utc     score    length\n",
              "count     618858.00 618858.00 618858.00\n",
              "mean  1598321605.57      1.97    179.73\n",
              "std      9460881.52      6.85    282.52\n",
              "min   1577836803.00   -176.00     11.00\n",
              "25%   1593943855.00      1.00     58.00\n",
              "50%   1601479200.50      1.00    101.00\n",
              "75%   1605567868.25      2.00    195.00\n",
              "max   1609459753.00   1189.00   9984.00"
            ]
          },
          "metadata": {
            "tags": []
          },
          "execution_count": 28
        }
      ]
    },
    {
      "cell_type": "code",
      "metadata": {
        "colab": {
          "base_uri": "https://localhost:8080/"
        },
        "id": "RKHpPQVVzGFj",
        "outputId": "2cd1140e-da9c-45f9-d3a8-5dcd995fe205"
      },
      "source": [
        "text_length = tqdm([_ for _ in map(len, biden_df['body'])])\n",
        "biden_df['length'] = text_length\n",
        "del text_length"
      ],
      "execution_count": null,
      "outputs": [
        {
          "output_type": "stream",
          "text": [
            "100%|██████████| 499528/499528 [00:00<00:00, 2941381.18it/s]\n"
          ],
          "name": "stderr"
        }
      ]
    },
    {
      "cell_type": "code",
      "metadata": {
        "colab": {
          "base_uri": "https://localhost:8080/",
          "height": 297
        },
        "id": "MkxarnUMzMuF",
        "outputId": "f4ac912c-38ef-4bbd-ccff-eaa8a1a41b31"
      },
      "source": [
        "biden_df.describe()"
      ],
      "execution_count": null,
      "outputs": [
        {
          "output_type": "execute_result",
          "data": {
            "text/html": [
              "<div>\n",
              "<style scoped>\n",
              "    .dataframe tbody tr th:only-of-type {\n",
              "        vertical-align: middle;\n",
              "    }\n",
              "\n",
              "    .dataframe tbody tr th {\n",
              "        vertical-align: top;\n",
              "    }\n",
              "\n",
              "    .dataframe thead th {\n",
              "        text-align: right;\n",
              "    }\n",
              "</style>\n",
              "<table border=\"1\" class=\"dataframe\">\n",
              "  <thead>\n",
              "    <tr style=\"text-align: right;\">\n",
              "      <th></th>\n",
              "      <th>created_utc</th>\n",
              "      <th>score</th>\n",
              "      <th>length</th>\n",
              "    </tr>\n",
              "  </thead>\n",
              "  <tbody>\n",
              "    <tr>\n",
              "      <th>count</th>\n",
              "      <td>499528.00</td>\n",
              "      <td>499528.00</td>\n",
              "      <td>499528.00</td>\n",
              "    </tr>\n",
              "    <tr>\n",
              "      <th>mean</th>\n",
              "      <td>1598066736.06</td>\n",
              "      <td>1.04</td>\n",
              "      <td>187.54</td>\n",
              "    </tr>\n",
              "    <tr>\n",
              "      <th>std</th>\n",
              "      <td>7668514.23</td>\n",
              "      <td>1.50</td>\n",
              "      <td>265.41</td>\n",
              "    </tr>\n",
              "    <tr>\n",
              "      <th>min</th>\n",
              "      <td>1577837280.00</td>\n",
              "      <td>-10.00</td>\n",
              "      <td>11.00</td>\n",
              "    </tr>\n",
              "    <tr>\n",
              "      <th>25%</th>\n",
              "      <td>1592502608.00</td>\n",
              "      <td>1.00</td>\n",
              "      <td>64.00</td>\n",
              "    </tr>\n",
              "    <tr>\n",
              "      <th>50%</th>\n",
              "      <td>1601141019.00</td>\n",
              "      <td>1.00</td>\n",
              "      <td>114.00</td>\n",
              "    </tr>\n",
              "    <tr>\n",
              "      <th>75%</th>\n",
              "      <td>1604462328.00</td>\n",
              "      <td>1.00</td>\n",
              "      <td>215.00</td>\n",
              "    </tr>\n",
              "    <tr>\n",
              "      <th>max</th>\n",
              "      <td>1609461313.00</td>\n",
              "      <td>308.00</td>\n",
              "      <td>9972.00</td>\n",
              "    </tr>\n",
              "  </tbody>\n",
              "</table>\n",
              "</div>"
            ],
            "text/plain": [
              "        created_utc     score    length\n",
              "count     499528.00 499528.00 499528.00\n",
              "mean  1598066736.06      1.04    187.54\n",
              "std      7668514.23      1.50    265.41\n",
              "min   1577837280.00    -10.00     11.00\n",
              "25%   1592502608.00      1.00     64.00\n",
              "50%   1601141019.00      1.00    114.00\n",
              "75%   1604462328.00      1.00    215.00\n",
              "max   1609461313.00    308.00   9972.00"
            ]
          },
          "metadata": {
            "tags": []
          },
          "execution_count": 30
        }
      ]
    },
    {
      "cell_type": "markdown",
      "metadata": {
        "id": "kQjSqnpzZMt2"
      },
      "source": [
        "в среднем комменты содержать 15-30 слов"
      ]
    },
    {
      "cell_type": "code",
      "metadata": {
        "colab": {
          "base_uri": "https://localhost:8080/",
          "height": 352
        },
        "id": "PC1gJ-J0xJom",
        "outputId": "434872bb-0c5a-46c1-972d-8b779a02fe0c"
      },
      "source": [
        "sns.boxplot(trump_df['length'])\n",
        "plt.axvline(400, color='r')"
      ],
      "execution_count": null,
      "outputs": [
        {
          "output_type": "stream",
          "text": [
            "/usr/local/lib/python3.7/dist-packages/seaborn/_decorators.py:43: FutureWarning: Pass the following variable as a keyword arg: x. From version 0.12, the only valid positional argument will be `data`, and passing other arguments without an explicit keyword will result in an error or misinterpretation.\n",
            "  FutureWarning\n"
          ],
          "name": "stderr"
        },
        {
          "output_type": "execute_result",
          "data": {
            "text/plain": [
              "<matplotlib.lines.Line2D at 0x7f0a733ee290>"
            ]
          },
          "metadata": {
            "tags": []
          },
          "execution_count": 31
        },
        {
          "output_type": "display_data",
          "data": {
            "image/png": "[encoded data removed]",
            "text/plain": [
              "<Figure size 864x288 with 1 Axes>"
            ]
          },
          "metadata": {
            "tags": []
          }
        }
      ]
    },
    {
      "cell_type": "code",
      "metadata": {
        "colab": {
          "base_uri": "https://localhost:8080/",
          "height": 352
        },
        "id": "wVgItIozzaO9",
        "outputId": "22fd7220-231f-4672-9c54-8637412ad1e6"
      },
      "source": [
        "sns.boxplot(biden_df['length'])\n",
        "plt.axvline(400, color='r')"
      ],
      "execution_count": null,
      "outputs": [
        {
          "output_type": "stream",
          "text": [
            "/usr/local/lib/python3.7/dist-packages/seaborn/_decorators.py:43: FutureWarning: Pass the following variable as a keyword arg: x. From version 0.12, the only valid positional argument will be `data`, and passing other arguments without an explicit keyword will result in an error or misinterpretation.\n",
            "  FutureWarning\n"
          ],
          "name": "stderr"
        },
        {
          "output_type": "execute_result",
          "data": {
            "text/plain": [
              "<matplotlib.lines.Line2D at 0x7f0a733a8350>"
            ]
          },
          "metadata": {
            "tags": []
          },
          "execution_count": 32
        },
        {
          "output_type": "display_data",
          "data": {
            "image/png": "[encoded data removed]",
            "text/plain": [
              "<Figure size 864x288 with 1 Axes>"
            ]
          },
          "metadata": {
            "tags": []
          }
        }
      ]
    },
    {
      "cell_type": "code",
      "metadata": {
        "colab": {
          "base_uri": "https://localhost:8080/",
          "height": 305
        },
        "id": "QwvncwBw8pgk",
        "outputId": "cb1eddc6-9bdd-4707-a7d4-85ff61d064da"
      },
      "source": [
        "trump_df['length'].hist(bins=50, range=(0,500))\n",
        "plt.axvline(trump_df['length'].mean(), color='r')\n",
        "biden_df['length'].hist(bins=50, range=(0,500), alpha=0.6)\n",
        "plt.axvline(biden_df['length'].mean(), color='g')"
      ],
      "execution_count": null,
      "outputs": [
        {
          "output_type": "execute_result",
          "data": {
            "text/plain": [
              "<matplotlib.lines.Line2D at 0x7f0a73247990>"
            ]
          },
          "metadata": {
            "tags": []
          },
          "execution_count": 33
        },
        {
          "output_type": "display_data",
          "data": {
            "image/png": "[encoded data removed]",
            "text/plain": [
              "<Figure size 864x288 with 1 Axes>"
            ]
          },
          "metadata": {
            "tags": []
          }
        }
      ]
    },
    {
      "cell_type": "markdown",
      "metadata": {
        "id": "7O1tzTrqZY6S"
      },
      "source": [
        "доля комментов более 1000 символов (более 150-200 слов)"
      ]
    },
    {
      "cell_type": "code",
      "metadata": {
        "colab": {
          "base_uri": "https://localhost:8080/"
        },
        "id": "wyTijq6jZgIY",
        "outputId": "7d913b25-9dc5-49f8-cdae-dd2aec11de0a"
      },
      "source": [
        "print(f\"Доля комментов в сообществе Трампа более 1000 знаков: {len(trump_df[trump_df['length'] > 1000]) / len(trump_df):.2%}\")"
      ],
      "execution_count": null,
      "outputs": [
        {
          "output_type": "stream",
          "text": [
            "Доля комментов в сообществе Трампа более 1000 знаков: 1.57%\n"
          ],
          "name": "stdout"
        }
      ]
    },
    {
      "cell_type": "code",
      "metadata": {
        "colab": {
          "base_uri": "https://localhost:8080/"
        },
        "id": "fwLFhY_UZSLX",
        "outputId": "159b1fc7-baa6-442f-dc49-aae0b83e2bfc"
      },
      "source": [
        "print(f\"Доля комментов в сообществе Байдена более 1000 знаков: {len(biden_df[biden_df['length'] > 1000]) / len(biden_df):.2%}\")"
      ],
      "execution_count": null,
      "outputs": [
        {
          "output_type": "stream",
          "text": [
            "Доля комментов в сообществе Байдена более 1000 знаков: 1.40%\n"
          ],
          "name": "stdout"
        }
      ]
    },
    {
      "cell_type": "code",
      "metadata": {
        "colab": {
          "base_uri": "https://localhost:8080/"
        },
        "id": "xHY2ziQ18TU4",
        "outputId": "195ab62d-4c86-4bf7-cdeb-edaed37d160e"
      },
      "source": [
        "trump_df[trump_df['length'] < 20]['body']"
      ],
      "execution_count": null,
      "outputs": [
        {
          "output_type": "execute_result",
          "data": {
            "text/plain": [
              "4150             T of P K E K\n",
              "12276     . . . love it . . .\n",
              "13047           M A G A A G A\n",
              "24668       Sum Dum Gai . . .\n",
              "25806       ##M I N I M I K E\n",
              "                 ...         \n",
              "602203    Can I cop a on this\n",
              "607437    I have to DM it tho\n",
              "607534          L I B T A R D\n",
              "609198         C r y m of r e\n",
              "616320       F you C K of F F\n",
              "Name: body, Length: 80, dtype: object"
            ]
          },
          "metadata": {
            "tags": []
          },
          "execution_count": 35
        }
      ]
    },
    {
      "cell_type": "code",
      "metadata": {
        "id": "zOw_TxYGw9i1"
      },
      "source": [
        "trump_df = trump_df[trump_df['length'] > 20]\n",
        "biden_df = biden_df[biden_df['length'] > 20]"
      ],
      "execution_count": null,
      "outputs": []
    },
    {
      "cell_type": "code",
      "metadata": {
        "colab": {
          "base_uri": "https://localhost:8080/",
          "height": 1000
        },
        "id": "LeqQr7KZQibC",
        "outputId": "b7db7116-beaa-4d32-c9d0-93763fc88dc2"
      },
      "source": [
        "pd.options.display.max_colwidth = 4000\n",
        "trump_df[trump_df['length'] > 4000][['body', 'author']]"
      ],
      "execution_count": null,
      "outputs": [
        {
          "output_type": "execute_result",
          "data": {
            "text/html": [
              "<div>\n",
              "<style scoped>\n",
              "    .dataframe tbody tr th:only-of-type {\n",
              "        vertical-align: middle;\n",
              "    }\n",
              "\n",
              "    .dataframe tbody tr th {\n",
              "        vertical-align: top;\n",
              "    }\n",
              "\n",
              "    .dataframe thead th {\n",
              "        text-align: right;\n",
              "    }\n",
              "</style>\n",
              "<table border=\"1\" class=\"dataframe\">\n",
              "  <thead>\n",
              "    <tr style=\"text-align: right;\">\n",
              "      <th></th>\n",
              "      <th>body</th>\n",
              "      <th>author</th>\n",
              "    </tr>\n",
              "  </thead>\n",
              "  <tbody>\n",
              "    <tr>\n",
              "      <th>744</th>\n",
              "      <td>Happy New Year! Well since you asked, maybe some bedtime reading for you here. How many times have you heard that \"impeachment does not require a crime\"? See it sort of like Impeachment in the Constitution literally written *(Treason, Bribery, or other high Crimes and misdemeanors*) requires to charge a *High Crime, High Crime, or other high Crime and (lesser) crimes*, for the House to have the power of Impeachment; and yet volumes of nonsense are written about justifying ignoring/stretching/lying about this sentence/fact of Impeachment requiring a crime; and thus abusing the Constitution without citing a crime, and using past abuses/violations/caselaw to justify continued violations. So Yang will cite, Rubio/Cruz, Rubio/Cruz will cite… going back and back, listing everyone who is violated the Constitution on the topic and gotten away with it; but it does not change the facts in the Constitution's extra requirement for POTUS vs any other office. Well I can only speculate as to why others do not say it, but from my experiences in life: 1. Most people do not read the Constitution.2. Most people and even most people in law or history or politics do not read through nearly the entirety of laws and piles of Case laws (including ones which they themselves cite).3. Writing that link is like writing a legal brief, in that people will respond with this argument/court ruling/amendments/case law/*Federalist Papers*/etc. and so it is a relatively big task; for something which most people will find pointless since they realize most of these ineligible candidates will not get their party's nomination at the convention anyhow.4. Most lawyers, judges, and law professors (like the 4 Constitutional scholars testifying) do not actually believe in the Constitution as written. Overall I would say it is about 70% do not, but of course that means some places the % is much higher than others.5. Corruptions of the most basic elements of American law. Such as citing Case Law as if it was Law (this is how many bar exam essays are written to pass rather than citing the Constitution, in fact if you look at for instance the CA bar exam, by far the most popular, the essays require citing case law which violates the Constitution as a default position); and citing Case Law in Constitutional Matters is particularly wrong since no Case Law, just as no congressional law, can trump or override the US Constitution. One long and particularly corrupting practice is consulting *The Federalist Papers* (and particularly the least wise Hamilton) as if they are part of the Constitution or American Law, which they are not.6. The Ashwander Rules/Guidelines were put in place by I am going to the worst Justice in American History. It basically tells the courts to NOT do their job aka ruling things unConstitutional, so this is key to how the unConstitutional case law goalposts and new legislation gets created over these nearly 100 years.7. Mass importation of non-Americans into (higher) education, including law schools; means instead of foreigners learning American law, American law gets shifted to global, parliamentary or other systems. So like you hear from Yang or Bernie or others saying things like \"well other countries have \\_\\_\\_\\_\\_\\_, why not the USA\" as in Universal Healthcare, VoterIDs, VAT Tax, etc. And this then gets applied to other areas of laws including things like international treaties and then injected unconstitutionally into US laws/court rulings/etc. or injected \"legally\" like removing our American First to Invent Patent System under 44, and put in place the globalist First to File Patent System. Or the \"Platform vs Publisher\" nonsense also is a two-law system common in parliamentary systems, but not legal in America. Other countries do NOT have our American legal framework, where the gov needs our permission rather than people needing the gov's permission slips to do things; or where we do not have nobility, and all citizens are equal in the law.8. I...</td>\n",
              "      <td>540k</td>\n",
              "    </tr>\n",
              "    <tr>\n",
              "      <th>1165</th>\n",
              "      <td>*Presidential* - it is all subjective based on the person, of course. But a lot of what the media reports is based on hearsay, anonymous sources, and manipulated quotes. For instance, the most famous - \"Grab them by the pussy\" line gets repeated a lot for evidence of his character...though the media always ignores the first part of the quote in which it is clear that he is talking about women who, because of a man's wealth or celebrity status, will *let* a man do *whatever* to them. it is like, after 2016, the entire world forgot that the gold digger stereotype existed. Is it something uncouth to say? Sure. Is it worth losing your vote? that is up to you. *On His Resorts* - Trump initially purchased Mar-A-Lago in 1985 and kept an actual residence there, so returning to his own property is no different than when a president goes back \"home\" to his ranch, like GDubs or Obama heading back to his home in Chicago. it is just a little glitzier than most other presidential second homes. Plus, depending on how conspiratorial you want to get, the whole wire-tapping/FISA court abuse scandal probably indicates that spending time on his own property is far safer than risking high-level decision making or campaign strategy in a private location. *Eliminating the TPPP* - The program was slated to end in 2020 anyway, and the administration claimed the program was ineffectual. This is one of those issues you can go either way on, depending on if you think the program itself was actually effective. But, as the rulings went to court and the program was done in 2020 anyway, you will have to decide if it was the most important issue for you. *Immigration* - No one wants people to be detained at the border, but it is a symptom of a broken system that encouraged people to attempt to cross the border illegally. We need to discourage that mentality at all costs, especially as almost 3/4 of all women and children who make the journey are sexually assaulted along the way. However, what do we do with these people when they do cross the border? We have no ways to vet who they are, where they have come from, or if they are simply economic migrants who need a better life. They might be harboring tuberculosis or other diseases. They might be terrorists slipping through a weak point in our country's security who intend to do harm. They might be working for the cartels or members of gangs who will plague those southern border cities. There is no simple solution, but a firmer stance on immigration will protect American lives, whether it is from actual gang related violence or just someone who should not have been in this country who commits a crime against a citizen. And do not forget, this is not something new. we have always had border patrols, detention centers, and deportations. The media is just using it as a talking point now to stir up division within the country. Plus, one of the biggest redpills out there might just be the sheer amount of illegal immigrants we have in the country. Estimations range from **11 Million** people (larger than the population of Wyoming, Vermont, Alaska, North Dakota, South Dakota, Delaware, Rhode Island, Montana, Maine, New Hampshire, and Hawaii *combined*) to upwards of **30 million** people. The strain of that many people on our school districts, municipal services, emergency rooms, social services etc is astronomical. *Manufacturing Jobs* - According to the Bureau of Labor Statistics, Trump added more manufacturing jobs in his first few years than Obama did in his last term. In 2018, 284,000 positions were added, the best year since 1997. This comes from cutting regulations on certain sectors like the coal industry, encouraging the country to become energy independent with gas and oil drilling, and incentivizing certain industries (like the auto industry) to reopen plants in the US. do not always trust what the media tells you--they do not like to report on Trump successes. *Coal Jobs* - Be careful that you do not fa...</td>\n",
              "      <td>HungryAngryHangry</td>\n",
              "    </tr>\n",
              "    <tr>\n",
              "      <th>9214</th>\n",
              "      <td>Former you.S. Senator Timothy Wirth (D-CO), then representing the Clinton-Gore administration as you.S undersecretary of state for global issues, addressing the same Rio Climate Summit audience, agreed: “We have got to ride the global warming issue. Even if the theory of global warming is wrong, we will be doing the right thing in terms of economic policy and environmental policy.” (Wirth is the President of the United Nations Foundation and the Better World Fund. He now heads the you.N. Foundation which lobbies for hundreds of billions of you.S. taxpayer dollars to help underdeveloped countries fight climate change. Timothy Wirth is also the senator who brought in the fraud Dr. James Hansen, Director of NASA Goddard institute for 35 years back in 1988 to congress which led to the whole climate change hysteria and formation of the IPCC. Hansen and Wirth has sabotaged the air conditioner the day before the testimony to make things worse. He admitted to this himself here: So a number of things came together that, for the first time, people began to think about it. I knew it was important because there was a big article in, I believe, the Swimsuit Issue of Sports Illustrated on climate change. [Laughs.] So there was a correlation. You figure, well, if we are making Sports Illustrated on this issue, you know, we have got to be making some real headway. So Hansen's giving this testimony, you have got these television cameras back there heating up the room, and the air conditioning in the room did not appear to work. So it was sort of a perfect collection of events that happened that day, with the wonderful Jim Hansen, who was wiping his brow at the witness table and giving this remarkable testimony. ... Dr. Richard Benedict is the former President of the internationally powerful National Council for Science and the Environment, an organization of more than 500 universities, scientific societies, industry and civic groups dedicated to improving the scientific basis for environmental decision making. He said this at Rio: “A global warming treaty must be implemented even if there is no scientific evidence to back the greenhouse effect.” • Mikhail Gorbachev said in 1996: “The threat of environmental crisis will be the international disaster key to unlock the New World Order.” • French President Jacques Chirac said: “For the first time, humanity is instituting a genuine instrument of global governance, one that should find a place within the World Environmental Organization which France and the European Union would like to see established.” • IPCC official Ottmar Edenhofer said in 2010: “One has to free oneself from the illusion that international climate policy is environmental policy. Climate change policy is about how we redistribute the world’s wealth.” Christiana Figueres, Executive secretary of the United Nations Framework Convention on Climate Change,(UNFCCC) from 2010 right up through the 2015 Paris Flopapaloosa: “This is the first time in the history of mankind that we are setting ourselves the task of intentionally, within a defined period of time, to change the economic development model that has reigned for at least 150 years, since the Industrial Revolution.”Oh, you know what? Given what I have just told you I think The Huffington Post’s take on the report is even better than Michael’s: “We cannot fight climate change with capitalism, says the report.” In 1988, former Canadian Minister of the Environment, told editors and reporters of the Calgary Herald: “No matter if the science of global warming is all phony…climate change [provides] the greatest opportunity to bring about justice and equality in the world.” In 1996, former Soviet Union President Mikhail Gorbachev emphasized the importance of using climate alarmism to advance socialist Marxist objectives: “The threat of environmental crisis will be the international disaster key to unlock the New World Order.” Speaking at the 2000 you.N. Conference on Climate Change ...</td>\n",
              "      <td>iRubGuacOnMyArmpits</td>\n",
              "    </tr>\n",
              "    <tr>\n",
              "      <th>10530</th>\n",
              "      <td>**Article text for anyone pay-walled out:** As a former commander of you.S. forces in Iraq and Afghanistan and a former CIA director, retired Gen. David Petraeus is keenly familiar with Qassem Suleimani, the powerful chief of Iran’s Quds Force, who was killed in a you.S. airstrike in Baghdad Friday morning.After months of a muted you.S. response to Tehran’s repeated lashing out—the downing of a you.S. military drone, a devastating attack on Saudi oil infrastructure, and more—Suleimani’s killing was designed to send a pointed message to the regime that the United States will not tolerate continued provocation, he said.Petraeus spoke to Foreign Policy on Friday about the implications of an action he called “more significant than the killing of Osama bin Laden.” This interview has been edited for clarity and length.Foreign Policy: What impact will the killing of Gen. Suleimani have on regional tensions?David Petraeus: It is impossible to overstate the importance of this particular action. It is more significant than the killing of Osama bin Laden or even the death of [Islamic State leader Abu Bakr] al-Baghdadi. Suleimani was the architect and operational commander of the Iranian effort to solidify control of the so-called Shia crescent, stretching from Iran to Iraq through Syria into southern Lebanon. He is responsible for providing explosives, projectiles, and arms and other munitions that killed well over 600 American soldiers and many more of our coalition and Iraqi partners just in Iraq, as well as in many other countries such as Syria. So his death is of enormous significance.The question of course is how does Iran respond in terms of direct action by its military and Revolutionary Guard Corps forces? And how does it direct its proxies—the Iranian-supported Shia militia in Iraq and Syria and southern Lebanon, and throughout the world?FP: Two previous administrations have reportedly considered this course of action and dismissed it. Why did Trump act now?DP: The reasoning seems to be to show in the most significant way possible that the you.S. is just not going to allow the continued violence—the rocketing of our bases, the killing of an American contractor, the attacks on shipping, on unarmed drones—without a very significant response.Many people had rightly questioned whether American deterrence had eroded somewhat because of the relatively insignificant responses to the earlier actions. This clearly was of vastly greater importance. Of course it also, per the Defense Department statement, was a defensive action given the reported planning and contingencies that Suleimani was going to Iraq to discuss and presumably approve.This was in response to the killing of an American contractor, the wounding of American forces, and just a sense of how this could go downhill from here if the Iranians do not realize that this cannot continue.FP: Do you think this response was proportionate?DP: It was a defensive response and this is, again, of enormous consequence and significance. But now the question is: How does Iran respond with its own forces and its proxies, and then what does that lead the you.S. to do?Iran is in a very precarious economic situation, it is very fragile domestically—they have killed many, many hundreds if not thousands of Iranian citizens who were demonstrating on the streets of Iran in response to the dismal economic situation and the mismanagement and corruption. I just do not see the Iranians as anywhere near as supportive of the regime at this point as they were decades ago during the Iran-Iraq War. Clearly the supreme leader has to consider that as Iran considers the potential responses to what the you.S. has done.It will be interesting now to see if there is a you.S. diplomatic initiative to reach out to Iran and to say, “Okay, the next move could be strikes against your oil infrastructure and your forces in your country—where does that end?”FP: Will Iran consider this an act of war?DP: I do not know wha...</td>\n",
              "      <td>Slayer101010</td>\n",
              "    </tr>\n",
              "    <tr>\n",
              "      <th>13182</th>\n",
              "      <td>Transcript: As long as I am President of the United States, Iran will never be allowed to have a nuclear weapon. Good morning. I am pleased to inform you the American people should be extremely grateful and happy. No Americans were harmed in last night’s attack by the Iranian regime. We suffered no casualties. All of our soldiers are safe and only minimal damage was sustained at our military bases. Our great American forces are prepared for anything. Iran appears to be standing down, which is a good thing for all parties concerned and a very good thing for the world. No American or Iraqi lives were lost because of the precautions taken, the dispersal of forces, and an early warning system that worked very well. I salute the incredible skill and courage of America’s men and women in uniform. For far too long, all the way back to 1979 to be exact, nations have tolerated Iran’s destructive and destabilizing behavior in the Middle East and beyond. Those days are over. Iran has been the leading sponsor of terrorism, and their pursuit of nuclear weapons threatens the civilized world. We will never let that happen. Last week, we took decisive action to stop a ruthless terrorist from threatening American lives. At my direction the US military eliminated the world’s top terrorist, Qasem Soleimani. As the head fo the Quds force, Soleimani was personally responsible for some of the absolutely worst atrocities. He trained terrorist armies, including Hezbollah, launching terror strikes against civilian targets. He fueled bloody civil wars all across the region. He viciously wounded and murdered thousands of US troops, including the planting of roadside bombs that maim and dismember their victims. Soleimani directed the recent attacks on us personnel in Iraq that badly wounded four service members and killed one American, and he orchestrated the violent assault on the US embassy in Baghdad. In recent days, he was planning new attacks on American targets, but we stopped him. Soleimani’s hands were drenched in both American and Iranian blood. He should have been terminated long ago. By removing Soleimani we have sent a powerful message to terrorists: if you value your own lives you will not threaten the lives of our people. As we continue to evaluate options in response to Iranian aggression, the US will immediately impose additional punishing economic sanctions on the Iranian regime. These powerful sanctions will remain until Iran changes its behavior. In recent months alone, Iran has seized ships in international waters, fired an unprovoked strike on Saudi Arabia and shot down two US drones. Iran’s hostilities substantially increased after the foolish Iran deal was signed in 2013 and they were given $150 billion, not to mention $1.8 billion in cash. Instead of saying, “Thank you,” to the US, they chanted, “Death to America.” In fact, they chanted, Death to America” the day the agreement was signed Then iran went on a terror spree funded by the money from the deal and created hell in Yemen, Syria, Lebanon, Afghanistan and Iraq. The missiles fired last night at us and our allies were paid for with the funds made available by the last administration. The regime also tightened the reins on their own country, even recently killing 1,500 people at the many protests that are taking place all throughout Iran. The very defective JCPOA expires shortly anyway and gives Iran a clear and quick path to nuclear breakout. Iran must abandon its nuclear ambitions and end its support for terrorism. The time has come for the UK, Germany, France, Russia and China to recognize this reality. They must now break away from the remnants of the Iran deal, or JCPOA, and we must all work together toward making a deal with Iran that makes the world a safer and more peaceful place. We must also make a deal that allows Iran to thrive and prosper and take advantage of its enormous untapped potential. Iran can be a great country. Peace and stability cannot prevail in th...</td>\n",
              "      <td>scout77</td>\n",
              "    </tr>\n",
              "    <tr>\n",
              "      <th>...</th>\n",
              "      <td>...</td>\n",
              "      <td>...</td>\n",
              "    </tr>\n",
              "    <tr>\n",
              "      <th>614208</th>\n",
              "      <td>Feel free to check it here, it is not a blind link, it will not redirect you anywhere else. but of course, you would balk at the idea and call it a blind link just so you do not have to open it and deal with the fact that Trump is the president with the MOST LIESi've prepped for that and type some of those lies he would said. i can not help you if you do not help yourself, i can bring a thirsty donkey to the river, but it is entirely possible it would rather drown than drink. you falsely calling it a blind link shows you would rather drown then learn. I would also bet you would have open at least a 100 blind links from OANN websites LOL he said he is filed tax returns, he lied. “They went through everything I had, including my tax returns …” Repeated 4 times that is 4 lies. Special counsel Robert S. Mueller III and his team did not get access to Trump’s tax returns, according to a book by Andrew Weissmann, one of the prosecutors. “Early on, we issued a subpoena to Deutsche Bank in connection with Paul Manafort’s finances, and the White House got wind of that and demanded to know whether we were investigating the president’s finances,” Weissman told NPR's \"Fresh Air.\" “ Another of Trump LIE, “China is paying, they are paying billions and billions of dollars. I just gave $28 billion, I just gave $28 billion to our farmers....Money. that is what taxpayers’ money. And I know the taxpayer, as it is called China.” Repeated 223 times Trump regularly brags that the United States reaps billions of dollars from tariffs he has imposed on other countries, such as China But tariffs — essentially a tax — are generally paid by importers, such as you.S. companies, who in turn pass on most or all of the costs to consumers or producers who may use Chinese materials in their products. So, ultimately, Americans are footing the bill for Trump’s tariffs, not the Chinese. The president is fooling himself if he thinks otherwise. Trump LYING again ! “For the first time, we do not need all of these countries that we had to fight war over because we needed their energy. We are energy-independent.” Repeated 31 times Flat-out false. The United States continues to import millions of barrels of oil per day. “In 2019, the United States imported about 9.14 million barrels per day (MMb/d) of petroleum from about 90 countries,” according to the you.S. Energy Information Administration, with 48 percent coming from Canada and 11 percent from Persian Gulf countries. Blaming Obama for H1N1 Frankly, he ran the H1N1 swine flu and it was a total disaster, far less lethal. But he -- it was a total disaster.” Repeated 43 times Under fire for a sluggish response, Trump started to target the Obama administration, especially its handling of the 2009 swine flu outbreak. But it is false to suggest Obama did not do anything about it. In fact, Obama’s handling was widely praised at the time as the right mix of action and no overreaction. On April 26, 2009, when only 20 cases of H1N1 — and no deaths — around the country had been confirmed, the Obama administration declared H1N1 a public health emergency. The administration quickly sought funding from Congress, receiving almost $8 billion. Six weeks later, the World Health Organization declared a pandemic. On october 24, after more than 1,000 Americans had died of H1N1, Obama declared a national emergency. The estimated death toll in the United States during the H1N1 epidemic was 12,469 from April 2009 to April 2010, but that was much less than a forecast of 30,000 to 90,000 deaths made in August of 2009 by the President’s Council of Advisors on Science and Technology. (Sometimes Trump claims that Biden was in charge of the effort but that is not true.) Once again LIED that he built 400 miles of wall “we are over 400 miles of brand new wall.” Repeated 77 times As of the end of November 2020, only 25 miles of his border barrier had been built on land where there had been no previous barrier. Congress balked at funding the con...</td>\n",
              "      <td>k3nn3s3</td>\n",
              "    </tr>\n",
              "    <tr>\n",
              "      <th>614212</th>\n",
              "      <td>it is okay, I will spell them all out for you in detail, I would like very much to see how you respond to facts; what are you going to do now that you have facts blown up in your face? say it is fake news ? feel free to do your own research, the link he provided shows THOUSANDS more cases like that. it is not that you do not open blind links, it is just that you close your eyes to the TRUTH. remember this post where two cartoon figures are talking to each other, guy A ask for proof, guy B shows proof, guy A just burns the source of truth, congrats, you are guy A. the ignorant one. TRUMP LIED: CASE 1 “We closed up the greatest economy in the world in order to fight this horrible disease that came from China.” FACT CHECK: Before the coronavirus pandemic shuttered businesses and sent unemployment soaring, the president could certainly brag about the state of the economy in his first three years as president. But he ran into trouble when he made a play for the history books to say it was the best economy in you.S. history. By just about any important measure, the economy under Trump did not do as well as it did under Presidents Dwight D. Eisenhower, Lyndon B. Johnson or Bill Clinton. The gross domestic product grew at an annual rate of 2.3 percent in 2019, slipping from 2.9 percent in 2018 and 2.4 percent in 2017. But in 1997, 1998 and 1999, GDP grew 4.5 percent, 4.5 percent and 4.7 percent, respectively. Yet even that period paled in comparison against the 1950s and 1960s. Growth between 1962 and 1966 ranged from 4.4 percent to 6.6 percent. In postwar 1950 and 1951, it was 8.7 percent and 8 percent, respectively. Meanwhile, the unemployment rate reached a low of 3.5 percent under Trump, but it dipped as low as 2.5 percent in 1953. (After the virus tanked the economy, Trump jacked up his claim even more, falsely saying it had been the greatest economy in the history of the world.) LIE REPEATED 461 TIMES: OCT 22 2020 TRUMP LIED: CASE 2 “2.2 million people modeled out were expected to die.” Repeated 110 times Trump loves to use this statistic. But it is incredibly misleading. Trump is citing a possible death figure that was a worst-case scenario produced by Imperial College London, which assumed that 81 percent of the population became infected ­— 268 million people — and that 0.9 percent of them would die. It did so by also assuming people took no actions against the coronavirus — nobody avoided crowded elevators, wore masks, washed their hands more often, or bought gloves or hand sanitizer — which the study acknowledged was unrealistic: “It is highly likely that there would be significant spontaneous change in population behavior even in the absence of government‐mandated interventions.” Moreover, even the 1918 flu pandemic is believed to have infected no more than 28 percent of the population, making the 81 percent figure suspect. Trump routinely mentions this figure to suggest he saved that many people from death, even as the actual death toll rises far above many of his earlier predictions. On March 29, he even said that a “very good job” would be if the death toll was between 100,000 and 200,000 dead. That assessment appears no longer operative. TRUMP LIED CASE 3: “Catch-and-release is a disaster. A murderer would come in, a rapist would come in, a very bad person would come in. We would take their name. We have to release them into our country. And then you say they come back. Less than 1 percent of the people come back.” Repeated 89 times Most of this is false. The phrase “catch-and-release” usually serves as shorthand for you.S. immigration authorities’ practice of releasing undocumented migrants into the country while they await immigration hearings, rather than keeping them in custody. With some exceptions, only children and asylum seekers are eligible for this kind of release. Those convicted of crimes are not eligible for release. Trump’s claim that less than 1 percent of people released into the country show up to ...</td>\n",
              "      <td>k3nn3s3</td>\n",
              "    </tr>\n",
              "    <tr>\n",
              "      <th>614823</th>\n",
              "      <td>Hey, I will agree that the chart label, which the author of the article was clearly reading from, was misleading. If I was the guy writing up the chart, I would probably make the label \"Date Application Processed\" or \"Date Application Confirmed\", as it is more informative to the information it is supposed to convey, whereas \"Ballot Mailed Date\" certainly does suggest the direct interpretation that you and the author took. However, to ignore that the table label is further defined in a manner that clarifies it to mean that the ballot was not, in fact, in the mail on such a date, but rather was the date at which the application was confirmed is what they are represented, is just willing ignorance. People can be dumb and label things poorly, but that does not excuse us for continuing to misinterpret it after the correct interpretation of the label is understood. Regarding grammar...you skip the one substitution in which is does work. Look, there is two verbs, and one of them is a transitive verb (a verb that can take an object). In the sentence \"This is the date the county **confirmed the application to queue** **a ballot label** to mail the ballot materials to the voter\", queue is a transitive verb and ballot label (described further by \"to mail the ballot materials to the voter\") is its object. You were so close, but after having this verb you only used the definition of queue as a noun for a waiting line. This sounds a bit weird, as you point out, since normally we see waiting lines as things in which people or other objects which have an innate ability to perform a motion are waiting, but that is not a grammatical requirement. I can have a stack of papers and say they are waiting in line for me to deal with them...it sounds a bit weird, like maybe English is my second language, but it is still grammatically correct. However, even better is definition 3a of the noun \" a sequence of messages or jobs held in temporary storage awaiting transmission or processing\". Ah, does not this make sense. The ballot label was added to a queue that was a sequence of messages or jobs awaiting transmission/processing. This makes perfect sense for a ballot label that is waiting for the appropriate date for the ballot materials to be transmitted to the voter. The ballot is a message that is awaiting transmission. It has been added to a structure containing multiple of such. Thus, it has been queued. Regarding the 14,408 number, I believe this is the article you are referring to ( [PA Department of State Website Shows 14,408 More Votes Than Voters (pafreethinkers.com)]( )? There are some parts I agree with, but I disagree with the title/conclusion. What I agree with: there is some discrepancy in the exact # of mail in ballots counted depending on the source (DoS webpage, PA Open Data, SURE...not sure where that data is, I have been trying to find it a while but have not, got better things to do now). I do want to know why, is this due to clerical errors that one accounted for and another did not, is one including rejected ballots while others are not, etc. Furthermore, it is not clear to me exactly what numbers were used to get 76.5% for the turnout, I would like transparency as to how that was calculated. HOWEVER. The reason I disagree with the conclusion/title that 14,408 more votes were counted than voters is that of the 115,899 provisional ballots, 19,571 were rejected and 5,644 partially counted (whatever that means). In calculating the 14,408 votes though, the author used the 115,899 total provisional ballots, but by subtracting the 19,571 provisional ballots that were rejected we, if anything, get an undervote. I would like to see an explanation for that too. I guess the article weaseled around this by just saying \"more votes than voters\"...but in their math counted rejected provisional votes as votes but did not count them as voters, which of course would create an overvote situation. To be honest, I am a bit sketched out by this websi...</td>\n",
              "      <td>fishicle</td>\n",
              "    </tr>\n",
              "    <tr>\n",
              "      <th>615038</th>\n",
              "      <td>Ya know, there are a lot of things here that I think we agree on, or at least are close on. Last bit on queues, in compsci we have the data structure called a queue in which objects wait, even though those objects have no innate ability to move - it is pretty much the difference between a physical queue you wait in vs a conceptual queue that tasks to be done wait in. let us just drop the queue stuff since it is pretty much just semantics at this point, the label of \"Ballot Mailed Date\" was definitely a terrible label, that we agree on, but the statistic it actually represented according to the table legend was not itself an indicator of fraudulent activities, that is all. One thing it seems we agree on is flaws in voting machines. Having a very minor experience with computer security (a course when I did a compsci major in undergrad), I agree with the sentiment that ballots should be done on paper since it is more secure, there is a saying in computer security along the lines of \"everyone/everything will be hacked, those with good security know when it is happened and what was affected, those with bad security are clueless\". However, as far as popular sentiment has gone, I think the focus on Dominion is a bit awry. All the Dominion machines at least produce a paper trail that is (supposed to be) voter verified, which provides the ability to audit against tabulation errors. However, some of the machines by the largest provider of voting machines to US elections, ES&amp;amp;S, are direct-recording only, they do not keep an auditable paper trail (GA was actually switching to paper-trail Dominion machines from such past direct-recording only ES&amp;amp;S machines). My stance is that the ballots should be paper only, as it is more secure, but for the use of voting machines they should at least be ones that produce a voter-verified paper trail. We also agree on the detrimental effect of the American \"I WANT IT NOW\" sentiment. Having protestors saying \"keep counting\" and others \"stop the count\" and then people praying for the safe harbor deadline to stop litigation...it is just people on all sides wanting proper care in the election to be cast aside to ensure they win and is quite frankly embarrassing. I am not familiar with the Florida 1999 situation intimately, but I slightly disagree on media calling election = disenfranchisement. Is it jumping the gun and sensationalism? Yup. Part of the \"I WANT IT NOW\"? Yup. But I consider disenfranchisement to have a higher bar of directly affecting the ability of someone to vote without repercussions (fearing for their safety if they went to vote due to threats, being unable to access polling places, etc.). At some point personal responsibility steps in, my friend telling me that Biden will totally win does not affect my ability to vote, neither does it if the media says so. Now if the media falsely reported bomb threats at polling places to scare off voters, that would be suppression/disenfranchisement. And it is an issue I have with some of the lawsuits that have occurred, since they would invalidate the vote of people that attempted to vote correctly (like challenges to absentee ballot laws put in place before the election that people followed and are being challenged after the election to throw out those votes, disenfranchising them, rather than having been challenged before it when new guidance could have been given to voters so that anyone that wanted to could vote properly) (some challenges have been more reasonable, like those about filling in fields that were left blank and whether those should be counted or not, but some did stray into the territory of throwing out ones that were casted entirely fine according to available guidance at the time). Regardless of who is in office at the end of this, I hope we will see some cleaning up of our electoral system after this. The power mainly rests in state hands for how they operate their elections, so hopefully everyone votes in local elections ...</td>\n",
              "      <td>fishicle</td>\n",
              "    </tr>\n",
              "    <tr>\n",
              "      <th>616658</th>\n",
              "      <td>[Section 7046(a)(2)(A) of the Department of State, Foreign Operations,\\rand Related Programs Appropriations Act, 2012 (division I of Public Law\\r112–74) shall apply to funds appropriated by this Act for assistance for\\rAfghanistan.]Funds appropriated or otherwise made available for this and\\rprior Acts for assistance for Afghanistan may be made available as a United\\rStates contribution to other multi-donor trust funds: Provided, That amounts\\rmade available pursuant to this paragraph from prior Acts that were previously\\rdesignated by the Congress for Overseas Contingency Operations/Global War\\ron Terrorism pursuant to section 251(b)(2)(A)(ii) of the Balanced Budget and\\rEmergency Deficit Control Act of 1985, as amended, are designated by the\\rCongress for Overseas Contingency Operations/Global War on Terrorism\\rpursuant to section 251(b)(2)(A)(ii) of such Act and shall be available only if\\rthe President subsequently so designates all such amounts and transmits such\\rdesignations to the Congress.\\r(C) [Of the funds appropriated by this Act under the heading \"Diplomatic\\rPrograms\", up to $3,000,000 may be transferred to any other appropriation of\\rany department or agency of the United States Government, upon the concur-\\rrence of the head of such department or agency, to support operations in, and\\rassistance for, Afghanistan and to carry out the provisions of the Foreign As-\\rsistance Act of 1961: Provided, That any such transfer shall be subject to the\\rregular notification procedures of the Committees on Appropriations.]Section\\r1102(c) of the Supplemental Appropriations Act, 2009 (title XI of Public Law\\r11132) shall continue in effect during fiscal year 2021 as if part of this Act.\\r[(4) AGREEMENT AND CERTIFICATION.—Funds appropriated by this Act shall\\rbe made available for the following purposes—\\r(A) the submission to the appropriate congressional committees by the\\rPresident of a copy of any agreement or arrangement between the Government\\rof the United States and the Taliban relating to the United States presence in\\rAfghanistan or Taliban commitments on the future of Afghanistan, which shall\\rbe submitted not later than 30 days after finalizing such an agreement or ar-\\rrangement; and\\r(B) the submission to the appropriate congressional committees of a joint\\rcertification by the Secretary of State and Secretary of Defense that such\\ragreement or arrangement will further the objective of setting conditions for\\rthe long-term defeat of al Qaeda and Islamic State and will not make the United\\rStates more vulnerable to terrorist attacks originating from Afghanistan or\\rsupported by terrorist elements in Afghanistan.]\\r[(5) BASING RIGHTS AGREEMENT.—None of the funds made available by\\rthis Act may be used by the United States Government to enter into a permanent\\rbasing rights agreement between the United States and Afghanistan.]\\r[(b) BANGLADESH.—Of the funds appropriated under titles III and IV of this\\rAct, not less than $198,323,000 shall be made available for assistance for\\rBangladesh, of which—\\r(1) not less than $23,500,000 shall be made available to address the needs of\\rcommunities impacted by refugees from Burma;\\r(2) not less than $10,000,000 shall be made available for programs to protect\\rfreedom of expression and due process of law; and\\r(3) not less than $23,300,000 shall be made available for democracy programs,\\rof which not less than $2,000,000 shall be made available for such programs for\\rthe Rohingya community in Bangladesh.]\\r[(c) NEPAL.—\\r(1) ASSISTANCE.—Of the funds appropriated under titles III and IV of this\\rAct, not less than $130,265,000 shall be made available for assistance for Nepal,\\rincluding for earthquake recovery and reconstruction programs and democracy\\rprograms.\\r(2) FOREIGN MILITARY FINANCING PROGRAM.—Funds appropriated by this\\rAct under the heading \"Foreign Military Financing Program\" shall only be made\\ravailable for humanitarian and disaster relief and reconstruction a...</td>\n",
              "      <td>Greyhuk</td>\n",
              "    </tr>\n",
              "  </tbody>\n",
              "</table>\n",
              "<p>441 rows × 2 columns</p>\n",
              "</div>"
            ],
            "text/plain": [
              "                                                                                                                                                                                                                                                                                                                                                                                                                                                                                                                                                                                                                                                                                                                                                                                                                                                                                                                                                                                                                                                                                                                                                                                                                                                                                                                                                                                                                                                                                                                                                                                                                                                                                                                                                                                                                                                                                                                                                                                                                                                                                                                                                                                                                                                                                                                                                                                                                                                                                                                                                                                                                                                                                                                                                                                                                                                                                                                                                                                                                                                                                                                                                                                                                                                                                                                                                                                                                                                                                                                                                                                                                                                                                                                                                                                                                                                                                                                                                                                                                                                                                                                                                                   body               author\n",
              "744     Happy New Year! Well since you asked, maybe some bedtime reading for you here. How many times have you heard that \"impeachment does not require a crime\"? See it sort of like Impeachment in the Constitution literally written *(Treason, Bribery, or other high Crimes and misdemeanors*) requires to charge a *High Crime, High Crime, or other high Crime and (lesser) crimes*, for the House to have the power of Impeachment; and yet volumes of nonsense are written about justifying ignoring/stretching/lying about this sentence/fact of Impeachment requiring a crime; and thus abusing the Constitution without citing a crime, and using past abuses/violations/caselaw to justify continued violations. So Yang will cite, Rubio/Cruz, Rubio/Cruz will cite… going back and back, listing everyone who is violated the Constitution on the topic and gotten away with it; but it does not change the facts in the Constitution's extra requirement for POTUS vs any other office. Well I can only speculate as to why others do not say it, but from my experiences in life: 1. Most people do not read the Constitution.2. Most people and even most people in law or history or politics do not read through nearly the entirety of laws and piles of Case laws (including ones which they themselves cite).3. Writing that link is like writing a legal brief, in that people will respond with this argument/court ruling/amendments/case law/*Federalist Papers*/etc. and so it is a relatively big task; for something which most people will find pointless since they realize most of these ineligible candidates will not get their party's nomination at the convention anyhow.4. Most lawyers, judges, and law professors (like the 4 Constitutional scholars testifying) do not actually believe in the Constitution as written. Overall I would say it is about 70% do not, but of course that means some places the % is much higher than others.5. Corruptions of the most basic elements of American law. Such as citing Case Law as if it was Law (this is how many bar exam essays are written to pass rather than citing the Constitution, in fact if you look at for instance the CA bar exam, by far the most popular, the essays require citing case law which violates the Constitution as a default position); and citing Case Law in Constitutional Matters is particularly wrong since no Case Law, just as no congressional law, can trump or override the US Constitution. One long and particularly corrupting practice is consulting *The Federalist Papers* (and particularly the least wise Hamilton) as if they are part of the Constitution or American Law, which they are not.6. The Ashwander Rules/Guidelines were put in place by I am going to the worst Justice in American History. It basically tells the courts to NOT do their job aka ruling things unConstitutional, so this is key to how the unConstitutional case law goalposts and new legislation gets created over these nearly 100 years.7. Mass importation of non-Americans into (higher) education, including law schools; means instead of foreigners learning American law, American law gets shifted to global, parliamentary or other systems. So like you hear from Yang or Bernie or others saying things like \"well other countries have \\_\\_\\_\\_\\_\\_, why not the USA\" as in Universal Healthcare, VoterIDs, VAT Tax, etc. And this then gets applied to other areas of laws including things like international treaties and then injected unconstitutionally into US laws/court rulings/etc. or injected \"legally\" like removing our American First to Invent Patent System under 44, and put in place the globalist First to File Patent System. Or the \"Platform vs Publisher\" nonsense also is a two-law system common in parliamentary systems, but not legal in America. Other countries do NOT have our American legal framework, where the gov needs our permission rather than people needing the gov's permission slips to do things; or where we do not have nobility, and all citizens are equal in the law.8. I...                 540k\n",
              "1165    *Presidential* - it is all subjective based on the person, of course. But a lot of what the media reports is based on hearsay, anonymous sources, and manipulated quotes. For instance, the most famous - \"Grab them by the pussy\" line gets repeated a lot for evidence of his character...though the media always ignores the first part of the quote in which it is clear that he is talking about women who, because of a man's wealth or celebrity status, will *let* a man do *whatever* to them. it is like, after 2016, the entire world forgot that the gold digger stereotype existed. Is it something uncouth to say? Sure. Is it worth losing your vote? that is up to you. *On His Resorts* - Trump initially purchased Mar-A-Lago in 1985 and kept an actual residence there, so returning to his own property is no different than when a president goes back \"home\" to his ranch, like GDubs or Obama heading back to his home in Chicago. it is just a little glitzier than most other presidential second homes. Plus, depending on how conspiratorial you want to get, the whole wire-tapping/FISA court abuse scandal probably indicates that spending time on his own property is far safer than risking high-level decision making or campaign strategy in a private location. *Eliminating the TPPP* - The program was slated to end in 2020 anyway, and the administration claimed the program was ineffectual. This is one of those issues you can go either way on, depending on if you think the program itself was actually effective. But, as the rulings went to court and the program was done in 2020 anyway, you will have to decide if it was the most important issue for you. *Immigration* - No one wants people to be detained at the border, but it is a symptom of a broken system that encouraged people to attempt to cross the border illegally. We need to discourage that mentality at all costs, especially as almost 3/4 of all women and children who make the journey are sexually assaulted along the way. However, what do we do with these people when they do cross the border? We have no ways to vet who they are, where they have come from, or if they are simply economic migrants who need a better life. They might be harboring tuberculosis or other diseases. They might be terrorists slipping through a weak point in our country's security who intend to do harm. They might be working for the cartels or members of gangs who will plague those southern border cities. There is no simple solution, but a firmer stance on immigration will protect American lives, whether it is from actual gang related violence or just someone who should not have been in this country who commits a crime against a citizen. And do not forget, this is not something new. we have always had border patrols, detention centers, and deportations. The media is just using it as a talking point now to stir up division within the country. Plus, one of the biggest redpills out there might just be the sheer amount of illegal immigrants we have in the country. Estimations range from **11 Million** people (larger than the population of Wyoming, Vermont, Alaska, North Dakota, South Dakota, Delaware, Rhode Island, Montana, Maine, New Hampshire, and Hawaii *combined*) to upwards of **30 million** people. The strain of that many people on our school districts, municipal services, emergency rooms, social services etc is astronomical. *Manufacturing Jobs* - According to the Bureau of Labor Statistics, Trump added more manufacturing jobs in his first few years than Obama did in his last term. In 2018, 284,000 positions were added, the best year since 1997. This comes from cutting regulations on certain sectors like the coal industry, encouraging the country to become energy independent with gas and oil drilling, and incentivizing certain industries (like the auto industry) to reopen plants in the US. do not always trust what the media tells you--they do not like to report on Trump successes. *Coal Jobs* - Be careful that you do not fa...    HungryAngryHangry\n",
              "9214     Former you.S. Senator Timothy Wirth (D-CO), then representing the Clinton-Gore administration as you.S undersecretary of state for global issues, addressing the same Rio Climate Summit audience, agreed: “We have got to ride the global warming issue. Even if the theory of global warming is wrong, we will be doing the right thing in terms of economic policy and environmental policy.” (Wirth is the President of the United Nations Foundation and the Better World Fund. He now heads the you.N. Foundation which lobbies for hundreds of billions of you.S. taxpayer dollars to help underdeveloped countries fight climate change. Timothy Wirth is also the senator who brought in the fraud Dr. James Hansen, Director of NASA Goddard institute for 35 years back in 1988 to congress which led to the whole climate change hysteria and formation of the IPCC. Hansen and Wirth has sabotaged the air conditioner the day before the testimony to make things worse. He admitted to this himself here: So a number of things came together that, for the first time, people began to think about it. I knew it was important because there was a big article in, I believe, the Swimsuit Issue of Sports Illustrated on climate change. [Laughs.] So there was a correlation. You figure, well, if we are making Sports Illustrated on this issue, you know, we have got to be making some real headway. So Hansen's giving this testimony, you have got these television cameras back there heating up the room, and the air conditioning in the room did not appear to work. So it was sort of a perfect collection of events that happened that day, with the wonderful Jim Hansen, who was wiping his brow at the witness table and giving this remarkable testimony. ... Dr. Richard Benedict is the former President of the internationally powerful National Council for Science and the Environment, an organization of more than 500 universities, scientific societies, industry and civic groups dedicated to improving the scientific basis for environmental decision making. He said this at Rio: “A global warming treaty must be implemented even if there is no scientific evidence to back the greenhouse effect.” • Mikhail Gorbachev said in 1996: “The threat of environmental crisis will be the international disaster key to unlock the New World Order.” • French President Jacques Chirac said: “For the first time, humanity is instituting a genuine instrument of global governance, one that should find a place within the World Environmental Organization which France and the European Union would like to see established.” • IPCC official Ottmar Edenhofer said in 2010: “One has to free oneself from the illusion that international climate policy is environmental policy. Climate change policy is about how we redistribute the world’s wealth.” Christiana Figueres, Executive secretary of the United Nations Framework Convention on Climate Change,(UNFCCC) from 2010 right up through the 2015 Paris Flopapaloosa: “This is the first time in the history of mankind that we are setting ourselves the task of intentionally, within a defined period of time, to change the economic development model that has reigned for at least 150 years, since the Industrial Revolution.”Oh, you know what? Given what I have just told you I think The Huffington Post’s take on the report is even better than Michael’s: “We cannot fight climate change with capitalism, says the report.” In 1988, former Canadian Minister of the Environment, told editors and reporters of the Calgary Herald: “No matter if the science of global warming is all phony…climate change [provides] the greatest opportunity to bring about justice and equality in the world.” In 1996, former Soviet Union President Mikhail Gorbachev emphasized the importance of using climate alarmism to advance socialist Marxist objectives: “The threat of environmental crisis will be the international disaster key to unlock the New World Order.” Speaking at the 2000 you.N. Conference on Climate Change ...  iRubGuacOnMyArmpits\n",
              "10530   **Article text for anyone pay-walled out:** As a former commander of you.S. forces in Iraq and Afghanistan and a former CIA director, retired Gen. David Petraeus is keenly familiar with Qassem Suleimani, the powerful chief of Iran’s Quds Force, who was killed in a you.S. airstrike in Baghdad Friday morning.After months of a muted you.S. response to Tehran’s repeated lashing out—the downing of a you.S. military drone, a devastating attack on Saudi oil infrastructure, and more—Suleimani’s killing was designed to send a pointed message to the regime that the United States will not tolerate continued provocation, he said.Petraeus spoke to Foreign Policy on Friday about the implications of an action he called “more significant than the killing of Osama bin Laden.” This interview has been edited for clarity and length.Foreign Policy: What impact will the killing of Gen. Suleimani have on regional tensions?David Petraeus: It is impossible to overstate the importance of this particular action. It is more significant than the killing of Osama bin Laden or even the death of [Islamic State leader Abu Bakr] al-Baghdadi. Suleimani was the architect and operational commander of the Iranian effort to solidify control of the so-called Shia crescent, stretching from Iran to Iraq through Syria into southern Lebanon. He is responsible for providing explosives, projectiles, and arms and other munitions that killed well over 600 American soldiers and many more of our coalition and Iraqi partners just in Iraq, as well as in many other countries such as Syria. So his death is of enormous significance.The question of course is how does Iran respond in terms of direct action by its military and Revolutionary Guard Corps forces? And how does it direct its proxies—the Iranian-supported Shia militia in Iraq and Syria and southern Lebanon, and throughout the world?FP: Two previous administrations have reportedly considered this course of action and dismissed it. Why did Trump act now?DP: The reasoning seems to be to show in the most significant way possible that the you.S. is just not going to allow the continued violence—the rocketing of our bases, the killing of an American contractor, the attacks on shipping, on unarmed drones—without a very significant response.Many people had rightly questioned whether American deterrence had eroded somewhat because of the relatively insignificant responses to the earlier actions. This clearly was of vastly greater importance. Of course it also, per the Defense Department statement, was a defensive action given the reported planning and contingencies that Suleimani was going to Iraq to discuss and presumably approve.This was in response to the killing of an American contractor, the wounding of American forces, and just a sense of how this could go downhill from here if the Iranians do not realize that this cannot continue.FP: Do you think this response was proportionate?DP: It was a defensive response and this is, again, of enormous consequence and significance. But now the question is: How does Iran respond with its own forces and its proxies, and then what does that lead the you.S. to do?Iran is in a very precarious economic situation, it is very fragile domestically—they have killed many, many hundreds if not thousands of Iranian citizens who were demonstrating on the streets of Iran in response to the dismal economic situation and the mismanagement and corruption. I just do not see the Iranians as anywhere near as supportive of the regime at this point as they were decades ago during the Iran-Iraq War. Clearly the supreme leader has to consider that as Iran considers the potential responses to what the you.S. has done.It will be interesting now to see if there is a you.S. diplomatic initiative to reach out to Iran and to say, “Okay, the next move could be strikes against your oil infrastructure and your forces in your country—where does that end?”FP: Will Iran consider this an act of war?DP: I do not know wha...         Slayer101010\n",
              "13182   Transcript: As long as I am President of the United States, Iran will never be allowed to have a nuclear weapon. Good morning. I am pleased to inform you the American people should be extremely grateful and happy. No Americans were harmed in last night’s attack by the Iranian regime. We suffered no casualties. All of our soldiers are safe and only minimal damage was sustained at our military bases. Our great American forces are prepared for anything. Iran appears to be standing down, which is a good thing for all parties concerned and a very good thing for the world. No American or Iraqi lives were lost because of the precautions taken, the dispersal of forces, and an early warning system that worked very well. I salute the incredible skill and courage of America’s men and women in uniform. For far too long, all the way back to 1979 to be exact, nations have tolerated Iran’s destructive and destabilizing behavior in the Middle East and beyond. Those days are over. Iran has been the leading sponsor of terrorism, and their pursuit of nuclear weapons threatens the civilized world. We will never let that happen. Last week, we took decisive action to stop a ruthless terrorist from threatening American lives. At my direction the US military eliminated the world’s top terrorist, Qasem Soleimani. As the head fo the Quds force, Soleimani was personally responsible for some of the absolutely worst atrocities. He trained terrorist armies, including Hezbollah, launching terror strikes against civilian targets. He fueled bloody civil wars all across the region. He viciously wounded and murdered thousands of US troops, including the planting of roadside bombs that maim and dismember their victims. Soleimani directed the recent attacks on us personnel in Iraq that badly wounded four service members and killed one American, and he orchestrated the violent assault on the US embassy in Baghdad. In recent days, he was planning new attacks on American targets, but we stopped him. Soleimani’s hands were drenched in both American and Iranian blood. He should have been terminated long ago. By removing Soleimani we have sent a powerful message to terrorists: if you value your own lives you will not threaten the lives of our people. As we continue to evaluate options in response to Iranian aggression, the US will immediately impose additional punishing economic sanctions on the Iranian regime. These powerful sanctions will remain until Iran changes its behavior. In recent months alone, Iran has seized ships in international waters, fired an unprovoked strike on Saudi Arabia and shot down two US drones. Iran’s hostilities substantially increased after the foolish Iran deal was signed in 2013 and they were given $150 billion, not to mention $1.8 billion in cash. Instead of saying, “Thank you,” to the US, they chanted, “Death to America.” In fact, they chanted, Death to America” the day the agreement was signed Then iran went on a terror spree funded by the money from the deal and created hell in Yemen, Syria, Lebanon, Afghanistan and Iraq. The missiles fired last night at us and our allies were paid for with the funds made available by the last administration. The regime also tightened the reins on their own country, even recently killing 1,500 people at the many protests that are taking place all throughout Iran. The very defective JCPOA expires shortly anyway and gives Iran a clear and quick path to nuclear breakout. Iran must abandon its nuclear ambitions and end its support for terrorism. The time has come for the UK, Germany, France, Russia and China to recognize this reality. They must now break away from the remnants of the Iran deal, or JCPOA, and we must all work together toward making a deal with Iran that makes the world a safer and more peaceful place. We must also make a deal that allows Iran to thrive and prosper and take advantage of its enormous untapped potential. Iran can be a great country. Peace and stability cannot prevail in th...              scout77\n",
              "...                                                                                                                                                                                                                                                                                                                                                                                                                                                                                                                                                                                                                                                                                                                                                                                                                                                                                                                                                                                                                                                                                                                                                                                                                                                                                                                                                                                                                                                                                                                                                                                                                                                                                                                                                                                                                                                                                                                                                                                                                                                                                                                                                                                                                                                                                                                                                                                                                                                                                                                                                                                                                                                                                                                                                                                                                                                                                                                                                                                                                                                                                                                                                                                                                                                                                                                                                                                                                                                                                                                                                                                                                                                                                                                                                                                                                                                                                                                                                                                                                                                                                                                                                                 ...                  ...\n",
              "614208  Feel free to check it here, it is not a blind link, it will not redirect you anywhere else. but of course, you would balk at the idea and call it a blind link just so you do not have to open it and deal with the fact that Trump is the president with the MOST LIESi've prepped for that and type some of those lies he would said. i can not help you if you do not help yourself, i can bring a thirsty donkey to the river, but it is entirely possible it would rather drown than drink. you falsely calling it a blind link shows you would rather drown then learn. I would also bet you would have open at least a 100 blind links from OANN websites LOL he said he is filed tax returns, he lied. “They went through everything I had, including my tax returns …” Repeated 4 times that is 4 lies. Special counsel Robert S. Mueller III and his team did not get access to Trump’s tax returns, according to a book by Andrew Weissmann, one of the prosecutors. “Early on, we issued a subpoena to Deutsche Bank in connection with Paul Manafort’s finances, and the White House got wind of that and demanded to know whether we were investigating the president’s finances,” Weissman told NPR's \"Fresh Air.\" “ Another of Trump LIE, “China is paying, they are paying billions and billions of dollars. I just gave $28 billion, I just gave $28 billion to our farmers....Money. that is what taxpayers’ money. And I know the taxpayer, as it is called China.” Repeated 223 times Trump regularly brags that the United States reaps billions of dollars from tariffs he has imposed on other countries, such as China But tariffs — essentially a tax — are generally paid by importers, such as you.S. companies, who in turn pass on most or all of the costs to consumers or producers who may use Chinese materials in their products. So, ultimately, Americans are footing the bill for Trump’s tariffs, not the Chinese. The president is fooling himself if he thinks otherwise. Trump LYING again ! “For the first time, we do not need all of these countries that we had to fight war over because we needed their energy. We are energy-independent.” Repeated 31 times Flat-out false. The United States continues to import millions of barrels of oil per day. “In 2019, the United States imported about 9.14 million barrels per day (MMb/d) of petroleum from about 90 countries,” according to the you.S. Energy Information Administration, with 48 percent coming from Canada and 11 percent from Persian Gulf countries. Blaming Obama for H1N1 Frankly, he ran the H1N1 swine flu and it was a total disaster, far less lethal. But he -- it was a total disaster.” Repeated 43 times Under fire for a sluggish response, Trump started to target the Obama administration, especially its handling of the 2009 swine flu outbreak. But it is false to suggest Obama did not do anything about it. In fact, Obama’s handling was widely praised at the time as the right mix of action and no overreaction. On April 26, 2009, when only 20 cases of H1N1 — and no deaths — around the country had been confirmed, the Obama administration declared H1N1 a public health emergency. The administration quickly sought funding from Congress, receiving almost $8 billion. Six weeks later, the World Health Organization declared a pandemic. On october 24, after more than 1,000 Americans had died of H1N1, Obama declared a national emergency. The estimated death toll in the United States during the H1N1 epidemic was 12,469 from April 2009 to April 2010, but that was much less than a forecast of 30,000 to 90,000 deaths made in August of 2009 by the President’s Council of Advisors on Science and Technology. (Sometimes Trump claims that Biden was in charge of the effort but that is not true.) Once again LIED that he built 400 miles of wall “we are over 400 miles of brand new wall.” Repeated 77 times As of the end of November 2020, only 25 miles of his border barrier had been built on land where there had been no previous barrier. Congress balked at funding the con...              k3nn3s3\n",
              "614212  it is okay, I will spell them all out for you in detail, I would like very much to see how you respond to facts; what are you going to do now that you have facts blown up in your face? say it is fake news ? feel free to do your own research, the link he provided shows THOUSANDS more cases like that. it is not that you do not open blind links, it is just that you close your eyes to the TRUTH. remember this post where two cartoon figures are talking to each other, guy A ask for proof, guy B shows proof, guy A just burns the source of truth, congrats, you are guy A. the ignorant one. TRUMP LIED: CASE 1 “We closed up the greatest economy in the world in order to fight this horrible disease that came from China.” FACT CHECK: Before the coronavirus pandemic shuttered businesses and sent unemployment soaring, the president could certainly brag about the state of the economy in his first three years as president. But he ran into trouble when he made a play for the history books to say it was the best economy in you.S. history. By just about any important measure, the economy under Trump did not do as well as it did under Presidents Dwight D. Eisenhower, Lyndon B. Johnson or Bill Clinton. The gross domestic product grew at an annual rate of 2.3 percent in 2019, slipping from 2.9 percent in 2018 and 2.4 percent in 2017. But in 1997, 1998 and 1999, GDP grew 4.5 percent, 4.5 percent and 4.7 percent, respectively. Yet even that period paled in comparison against the 1950s and 1960s. Growth between 1962 and 1966 ranged from 4.4 percent to 6.6 percent. In postwar 1950 and 1951, it was 8.7 percent and 8 percent, respectively. Meanwhile, the unemployment rate reached a low of 3.5 percent under Trump, but it dipped as low as 2.5 percent in 1953. (After the virus tanked the economy, Trump jacked up his claim even more, falsely saying it had been the greatest economy in the history of the world.) LIE REPEATED 461 TIMES: OCT 22 2020 TRUMP LIED: CASE 2 “2.2 million people modeled out were expected to die.” Repeated 110 times Trump loves to use this statistic. But it is incredibly misleading. Trump is citing a possible death figure that was a worst-case scenario produced by Imperial College London, which assumed that 81 percent of the population became infected ­— 268 million people — and that 0.9 percent of them would die. It did so by also assuming people took no actions against the coronavirus — nobody avoided crowded elevators, wore masks, washed their hands more often, or bought gloves or hand sanitizer — which the study acknowledged was unrealistic: “It is highly likely that there would be significant spontaneous change in population behavior even in the absence of government‐mandated interventions.” Moreover, even the 1918 flu pandemic is believed to have infected no more than 28 percent of the population, making the 81 percent figure suspect. Trump routinely mentions this figure to suggest he saved that many people from death, even as the actual death toll rises far above many of his earlier predictions. On March 29, he even said that a “very good job” would be if the death toll was between 100,000 and 200,000 dead. That assessment appears no longer operative. TRUMP LIED CASE 3: “Catch-and-release is a disaster. A murderer would come in, a rapist would come in, a very bad person would come in. We would take their name. We have to release them into our country. And then you say they come back. Less than 1 percent of the people come back.” Repeated 89 times Most of this is false. The phrase “catch-and-release” usually serves as shorthand for you.S. immigration authorities’ practice of releasing undocumented migrants into the country while they await immigration hearings, rather than keeping them in custody. With some exceptions, only children and asylum seekers are eligible for this kind of release. Those convicted of crimes are not eligible for release. Trump’s claim that less than 1 percent of people released into the country show up to ...              k3nn3s3\n",
              "614823  Hey, I will agree that the chart label, which the author of the article was clearly reading from, was misleading. If I was the guy writing up the chart, I would probably make the label \"Date Application Processed\" or \"Date Application Confirmed\", as it is more informative to the information it is supposed to convey, whereas \"Ballot Mailed Date\" certainly does suggest the direct interpretation that you and the author took. However, to ignore that the table label is further defined in a manner that clarifies it to mean that the ballot was not, in fact, in the mail on such a date, but rather was the date at which the application was confirmed is what they are represented, is just willing ignorance. People can be dumb and label things poorly, but that does not excuse us for continuing to misinterpret it after the correct interpretation of the label is understood. Regarding grammar...you skip the one substitution in which is does work. Look, there is two verbs, and one of them is a transitive verb (a verb that can take an object). In the sentence \"This is the date the county **confirmed the application to queue** **a ballot label** to mail the ballot materials to the voter\", queue is a transitive verb and ballot label (described further by \"to mail the ballot materials to the voter\") is its object. You were so close, but after having this verb you only used the definition of queue as a noun for a waiting line. This sounds a bit weird, as you point out, since normally we see waiting lines as things in which people or other objects which have an innate ability to perform a motion are waiting, but that is not a grammatical requirement. I can have a stack of papers and say they are waiting in line for me to deal with them...it sounds a bit weird, like maybe English is my second language, but it is still grammatically correct. However, even better is definition 3a of the noun \" a sequence of messages or jobs held in temporary storage awaiting transmission or processing\". Ah, does not this make sense. The ballot label was added to a queue that was a sequence of messages or jobs awaiting transmission/processing. This makes perfect sense for a ballot label that is waiting for the appropriate date for the ballot materials to be transmitted to the voter. The ballot is a message that is awaiting transmission. It has been added to a structure containing multiple of such. Thus, it has been queued. Regarding the 14,408 number, I believe this is the article you are referring to ( [PA Department of State Website Shows 14,408 More Votes Than Voters (pafreethinkers.com)]( )? There are some parts I agree with, but I disagree with the title/conclusion. What I agree with: there is some discrepancy in the exact # of mail in ballots counted depending on the source (DoS webpage, PA Open Data, SURE...not sure where that data is, I have been trying to find it a while but have not, got better things to do now). I do want to know why, is this due to clerical errors that one accounted for and another did not, is one including rejected ballots while others are not, etc. Furthermore, it is not clear to me exactly what numbers were used to get 76.5% for the turnout, I would like transparency as to how that was calculated. HOWEVER. The reason I disagree with the conclusion/title that 14,408 more votes were counted than voters is that of the 115,899 provisional ballots, 19,571 were rejected and 5,644 partially counted (whatever that means). In calculating the 14,408 votes though, the author used the 115,899 total provisional ballots, but by subtracting the 19,571 provisional ballots that were rejected we, if anything, get an undervote. I would like to see an explanation for that too. I guess the article weaseled around this by just saying \"more votes than voters\"...but in their math counted rejected provisional votes as votes but did not count them as voters, which of course would create an overvote situation. To be honest, I am a bit sketched out by this websi...             fishicle\n",
              "615038  Ya know, there are a lot of things here that I think we agree on, or at least are close on. Last bit on queues, in compsci we have the data structure called a queue in which objects wait, even though those objects have no innate ability to move - it is pretty much the difference between a physical queue you wait in vs a conceptual queue that tasks to be done wait in. let us just drop the queue stuff since it is pretty much just semantics at this point, the label of \"Ballot Mailed Date\" was definitely a terrible label, that we agree on, but the statistic it actually represented according to the table legend was not itself an indicator of fraudulent activities, that is all. One thing it seems we agree on is flaws in voting machines. Having a very minor experience with computer security (a course when I did a compsci major in undergrad), I agree with the sentiment that ballots should be done on paper since it is more secure, there is a saying in computer security along the lines of \"everyone/everything will be hacked, those with good security know when it is happened and what was affected, those with bad security are clueless\". However, as far as popular sentiment has gone, I think the focus on Dominion is a bit awry. All the Dominion machines at least produce a paper trail that is (supposed to be) voter verified, which provides the ability to audit against tabulation errors. However, some of the machines by the largest provider of voting machines to US elections, ES&amp;S, are direct-recording only, they do not keep an auditable paper trail (GA was actually switching to paper-trail Dominion machines from such past direct-recording only ES&amp;S machines). My stance is that the ballots should be paper only, as it is more secure, but for the use of voting machines they should at least be ones that produce a voter-verified paper trail. We also agree on the detrimental effect of the American \"I WANT IT NOW\" sentiment. Having protestors saying \"keep counting\" and others \"stop the count\" and then people praying for the safe harbor deadline to stop litigation...it is just people on all sides wanting proper care in the election to be cast aside to ensure they win and is quite frankly embarrassing. I am not familiar with the Florida 1999 situation intimately, but I slightly disagree on media calling election = disenfranchisement. Is it jumping the gun and sensationalism? Yup. Part of the \"I WANT IT NOW\"? Yup. But I consider disenfranchisement to have a higher bar of directly affecting the ability of someone to vote without repercussions (fearing for their safety if they went to vote due to threats, being unable to access polling places, etc.). At some point personal responsibility steps in, my friend telling me that Biden will totally win does not affect my ability to vote, neither does it if the media says so. Now if the media falsely reported bomb threats at polling places to scare off voters, that would be suppression/disenfranchisement. And it is an issue I have with some of the lawsuits that have occurred, since they would invalidate the vote of people that attempted to vote correctly (like challenges to absentee ballot laws put in place before the election that people followed and are being challenged after the election to throw out those votes, disenfranchising them, rather than having been challenged before it when new guidance could have been given to voters so that anyone that wanted to could vote properly) (some challenges have been more reasonable, like those about filling in fields that were left blank and whether those should be counted or not, but some did stray into the territory of throwing out ones that were casted entirely fine according to available guidance at the time). Regardless of who is in office at the end of this, I hope we will see some cleaning up of our electoral system after this. The power mainly rests in state hands for how they operate their elections, so hopefully everyone votes in local elections ...             fishicle\n",
              "616658  [Section 7046(a)(2)(A) of the Department of State, Foreign Operations,\\rand Related Programs Appropriations Act, 2012 (division I of Public Law\\r112–74) shall apply to funds appropriated by this Act for assistance for\\rAfghanistan.]Funds appropriated or otherwise made available for this and\\rprior Acts for assistance for Afghanistan may be made available as a United\\rStates contribution to other multi-donor trust funds: Provided, That amounts\\rmade available pursuant to this paragraph from prior Acts that were previously\\rdesignated by the Congress for Overseas Contingency Operations/Global War\\ron Terrorism pursuant to section 251(b)(2)(A)(ii) of the Balanced Budget and\\rEmergency Deficit Control Act of 1985, as amended, are designated by the\\rCongress for Overseas Contingency Operations/Global War on Terrorism\\rpursuant to section 251(b)(2)(A)(ii) of such Act and shall be available only if\\rthe President subsequently so designates all such amounts and transmits such\\rdesignations to the Congress.\\r(C) [Of the funds appropriated by this Act under the heading \"Diplomatic\\rPrograms\", up to $3,000,000 may be transferred to any other appropriation of\\rany department or agency of the United States Government, upon the concur-\\rrence of the head of such department or agency, to support operations in, and\\rassistance for, Afghanistan and to carry out the provisions of the Foreign As-\\rsistance Act of 1961: Provided, That any such transfer shall be subject to the\\rregular notification procedures of the Committees on Appropriations.]Section\\r1102(c) of the Supplemental Appropriations Act, 2009 (title XI of Public Law\\r11132) shall continue in effect during fiscal year 2021 as if part of this Act.\\r[(4) AGREEMENT AND CERTIFICATION.—Funds appropriated by this Act shall\\rbe made available for the following purposes—\\r(A) the submission to the appropriate congressional committees by the\\rPresident of a copy of any agreement or arrangement between the Government\\rof the United States and the Taliban relating to the United States presence in\\rAfghanistan or Taliban commitments on the future of Afghanistan, which shall\\rbe submitted not later than 30 days after finalizing such an agreement or ar-\\rrangement; and\\r(B) the submission to the appropriate congressional committees of a joint\\rcertification by the Secretary of State and Secretary of Defense that such\\ragreement or arrangement will further the objective of setting conditions for\\rthe long-term defeat of al Qaeda and Islamic State and will not make the United\\rStates more vulnerable to terrorist attacks originating from Afghanistan or\\rsupported by terrorist elements in Afghanistan.]\\r[(5) BASING RIGHTS AGREEMENT.—None of the funds made available by\\rthis Act may be used by the United States Government to enter into a permanent\\rbasing rights agreement between the United States and Afghanistan.]\\r[(b) BANGLADESH.—Of the funds appropriated under titles III and IV of this\\rAct, not less than $198,323,000 shall be made available for assistance for\\rBangladesh, of which—\\r(1) not less than $23,500,000 shall be made available to address the needs of\\rcommunities impacted by refugees from Burma;\\r(2) not less than $10,000,000 shall be made available for programs to protect\\rfreedom of expression and due process of law; and\\r(3) not less than $23,300,000 shall be made available for democracy programs,\\rof which not less than $2,000,000 shall be made available for such programs for\\rthe Rohingya community in Bangladesh.]\\r[(c) NEPAL.—\\r(1) ASSISTANCE.—Of the funds appropriated under titles III and IV of this\\rAct, not less than $130,265,000 shall be made available for assistance for Nepal,\\rincluding for earthquake recovery and reconstruction programs and democracy\\rprograms.\\r(2) FOREIGN MILITARY FINANCING PROGRAM.—Funds appropriated by this\\rAct under the heading \"Foreign Military Financing Program\" shall only be made\\ravailable for humanitarian and disaster relief and reconstruction a...              Greyhuk\n",
              "\n",
              "[441 rows x 2 columns]"
            ]
          },
          "metadata": {
            "tags": []
          },
          "execution_count": 37
        }
      ]
    },
    {
      "cell_type": "code",
      "metadata": {
        "id": "qpyT4pujSdlw"
      },
      "source": [
        "pd.options.display.max_colwidth = 20"
      ],
      "execution_count": null,
      "outputs": []
    },
    {
      "cell_type": "code",
      "metadata": {
        "id": "ePJ7fb0mTANM"
      },
      "source": [
        ""
      ],
      "execution_count": null,
      "outputs": []
    }
  ]
}