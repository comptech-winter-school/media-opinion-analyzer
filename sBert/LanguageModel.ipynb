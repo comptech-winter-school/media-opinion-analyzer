{
 "cells": [
  {
   "cell_type": "markdown",
   "metadata": {
    "id": "Z1cb5_FV3mus"
   },
   "source": [
    "# Расчет близости текстов"
   ]
  },
  {
   "cell_type": "markdown",
   "metadata": {
    "id": "8_fWz_ad_UVT"
   },
   "source": [
    "Посмотрим что за видеокарта нам досталась. Если никакой - запускать берт бессмыслено, считаться будет вечность. Выберете GPU."
   ]
  },
  {
   "cell_type": "code",
   "execution_count": null,
   "metadata": {
    "colab": {
     "base_uri": "https://localhost:8080/",
     "height": 384
    },
    "id": "D6rs7W_ymZ0Z",
    "outputId": "12b002e5-50d3-43ea-a627-4d25d6177bfc"
   },
   "outputs": [
    {
     "name": "stdout",
     "output_type": "stream",
     "text": [
      "Thu Aug 13 11:24:01 2020       \n",
      "+-----------------------------------------------------------------------------+\n",
      "| NVIDIA-SMI 450.57       Driver Version: 418.67       CUDA Version: 10.1     |\n",
      "|-------------------------------+----------------------+----------------------+\n",
      "| GPU  Name        Persistence-M| Bus-Id        Disp.A | Volatile Uncorr. ECC |\n",
      "| Fan  Temp  Perf  Pwr:Usage/Cap|         Memory-Usage | GPU-Util  Compute M. |\n",
      "|                               |                      |               MIG M. |\n",
      "|===============================+======================+======================|\n",
      "|   0  Tesla P100-PCIE...  Off  | 00000000:00:04.0 Off |                    0 |\n",
      "| N/A   39C    P0    32W / 250W |   2205MiB / 16280MiB |      0%      Default |\n",
      "|                               |                      |                 ERR! |\n",
      "+-------------------------------+----------------------+----------------------+\n",
      "                                                                               \n",
      "+-----------------------------------------------------------------------------+\n",
      "| Processes:                                                                  |\n",
      "|  GPU   GI   CI        PID   Type   Process name                  GPU Memory |\n",
      "|        ID   ID                                                   Usage      |\n",
      "|=============================================================================|\n",
      "|  No running processes found                                                 |\n",
      "+-----------------------------------------------------------------------------+\n"
     ]
    }
   ],
   "source": [
    "!nvidia-smi"
   ]
  },
  {
   "cell_type": "markdown",
   "metadata": {
    "id": "39Xwa5n_3qns"
   },
   "source": [
    "Устанавливаем библиотеку [Sentence Transformers](https://github.com/UKPLab/sentence-transformers)"
   ]
  },
  {
   "cell_type": "code",
   "execution_count": null,
   "metadata": {
    "colab": {
     "base_uri": "https://localhost:8080/",
     "height": 864
    },
    "id": "7fi0yZs03opS",
    "outputId": "3a71c638-1085-4f0f-b05f-f6a05226183d"
   },
   "outputs": [
    {
     "name": "stdout",
     "output_type": "stream",
     "text": [
      "Collecting sentence-transformers\n",
      "\u001b[?25l  Downloading https://files.pythonhosted.org/packages/ee/71/acfb3f1016f83d90590130dc2ee0d8cd36b005aa7afa45b465837b711070/sentence-transformers-0.3.3.tar.gz (65kB)\n",
      "\u001b[K     |████████████████████████████████| 71kB 2.0MB/s \n",
      "\u001b[?25hCollecting transformers>=3.0.2\n",
      "\u001b[?25l  Downloading https://files.pythonhosted.org/packages/27/3c/91ed8f5c4e7ef3227b4119200fc0ed4b4fd965b1f0172021c25701087825/transformers-3.0.2-py3-none-any.whl (769kB)\n",
      "\u001b[K     |████████████████████████████████| 778kB 6.9MB/s \n",
      "\u001b[?25hRequirement already satisfied, skipping upgrade: tqdm in /usr/local/lib/python3.6/dist-packages (from sentence-transformers) (4.41.1)\n",
      "Requirement already satisfied, skipping upgrade: torch>=1.2.0 in /usr/local/lib/python3.6/dist-packages (from sentence-transformers) (1.6.0+cu101)\n",
      "Requirement already satisfied, skipping upgrade: numpy in /usr/local/lib/python3.6/dist-packages (from sentence-transformers) (1.18.5)\n",
      "Requirement already satisfied, skipping upgrade: scikit-learn in /usr/local/lib/python3.6/dist-packages (from sentence-transformers) (0.22.2.post1)\n",
      "Requirement already satisfied, skipping upgrade: scipy in /usr/local/lib/python3.6/dist-packages (from sentence-transformers) (1.4.1)\n",
      "Requirement already satisfied, skipping upgrade: nltk in /usr/local/lib/python3.6/dist-packages (from sentence-transformers) (3.2.5)\n",
      "Collecting tokenizers==0.8.1.rc1\n",
      "\u001b[?25l  Downloading https://files.pythonhosted.org/packages/40/d0/30d5f8d221a0ed981a186c8eb986ce1c94e3a6e87f994eae9f4aa5250217/tokenizers-0.8.1rc1-cp36-cp36m-manylinux1_x86_64.whl (3.0MB)\n",
      "\u001b[K     |████████████████████████████████| 3.0MB 32.4MB/s \n",
      "\u001b[?25hCollecting sacremoses\n",
      "\u001b[?25l  Downloading https://files.pythonhosted.org/packages/7d/34/09d19aff26edcc8eb2a01bed8e98f13a1537005d31e95233fd48216eed10/sacremoses-0.0.43.tar.gz (883kB)\n",
      "\u001b[K     |████████████████████████████████| 890kB 48.3MB/s \n",
      "\u001b[?25hRequirement already satisfied, skipping upgrade: regex!=2019.12.17 in /usr/local/lib/python3.6/dist-packages (from transformers>=3.0.2->sentence-transformers) (2019.12.20)\n",
      "Collecting sentencepiece!=0.1.92\n",
      "\u001b[?25l  Downloading https://files.pythonhosted.org/packages/d4/a4/d0a884c4300004a78cca907a6ff9a5e9fe4f090f5d95ab341c53d28cbc58/sentencepiece-0.1.91-cp36-cp36m-manylinux1_x86_64.whl (1.1MB)\n",
      "\u001b[K     |████████████████████████████████| 1.1MB 60.3MB/s \n",
      "\u001b[?25hRequirement already satisfied, skipping upgrade: dataclasses; python_version < \"3.7\" in /usr/local/lib/python3.6/dist-packages (from transformers>=3.0.2->sentence-transformers) (0.7)\n",
      "Requirement already satisfied, skipping upgrade: packaging in /usr/local/lib/python3.6/dist-packages (from transformers>=3.0.2->sentence-transformers) (20.4)\n",
      "Requirement already satisfied, skipping upgrade: filelock in /usr/local/lib/python3.6/dist-packages (from transformers>=3.0.2->sentence-transformers) (3.0.12)\n",
      "Requirement already satisfied, skipping upgrade: requests in /usr/local/lib/python3.6/dist-packages (from transformers>=3.0.2->sentence-transformers) (2.23.0)\n",
      "Requirement already satisfied, skipping upgrade: future in /usr/local/lib/python3.6/dist-packages (from torch>=1.2.0->sentence-transformers) (0.16.0)\n",
      "Requirement already satisfied, skipping upgrade: joblib>=0.11 in /usr/local/lib/python3.6/dist-packages (from scikit-learn->sentence-transformers) (0.16.0)\n",
      "Requirement already satisfied, skipping upgrade: six in /usr/local/lib/python3.6/dist-packages (from nltk->sentence-transformers) (1.15.0)\n",
      "Requirement already satisfied, skipping upgrade: click in /usr/local/lib/python3.6/dist-packages (from sacremoses->transformers>=3.0.2->sentence-transformers) (7.1.2)\n",
      "Requirement already satisfied, skipping upgrade: pyparsing>=2.0.2 in /usr/local/lib/python3.6/dist-packages (from packaging->transformers>=3.0.2->sentence-transformers) (2.4.7)\n",
      "Requirement already satisfied, skipping upgrade: chardet<4,>=3.0.2 in /usr/local/lib/python3.6/dist-packages (from requests->transformers>=3.0.2->sentence-transformers) (3.0.4)\n",
      "Requirement already satisfied, skipping upgrade: certifi>=2017.4.17 in /usr/local/lib/python3.6/dist-packages (from requests->transformers>=3.0.2->sentence-transformers) (2020.6.20)\n",
      "Requirement already satisfied, skipping upgrade: idna<3,>=2.5 in /usr/local/lib/python3.6/dist-packages (from requests->transformers>=3.0.2->sentence-transformers) (2.10)\n",
      "Requirement already satisfied, skipping upgrade: urllib3!=1.25.0,!=1.25.1,<1.26,>=1.21.1 in /usr/local/lib/python3.6/dist-packages (from requests->transformers>=3.0.2->sentence-transformers) (1.24.3)\n",
      "Building wheels for collected packages: sentence-transformers, sacremoses\n",
      "  Building wheel for sentence-transformers (setup.py) ... \u001b[?25l\u001b[?25hdone\n",
      "  Created wheel for sentence-transformers: filename=sentence_transformers-0.3.3-cp36-none-any.whl size=97299 sha256=3ea4e76593d0045a2c69deace0c9daa56f715aeb22aeca964d71037dcf4b5f13\n",
      "  Stored in directory: /root/.cache/pip/wheels/75/d6/0a/cab163b21d0597cc1580bc344487b11ad405e0d1d314725f2b\n",
      "  Building wheel for sacremoses (setup.py) ... \u001b[?25l\u001b[?25hdone\n",
      "  Created wheel for sacremoses: filename=sacremoses-0.0.43-cp36-none-any.whl size=893260 sha256=c72e1c4eddbd14f26db0b871087123f7d2c13605752383f58986de2d04cbc5f4\n",
      "  Stored in directory: /root/.cache/pip/wheels/29/3c/fd/7ce5c3f0666dab31a50123635e6fb5e19ceb42ce38d4e58f45\n",
      "Successfully built sentence-transformers sacremoses\n",
      "Installing collected packages: tokenizers, sacremoses, sentencepiece, transformers, sentence-transformers\n",
      "Successfully installed sacremoses-0.0.43 sentence-transformers-0.3.3 sentencepiece-0.1.91 tokenizers-0.8.1rc1 transformers-3.0.2\n"
     ]
    }
   ],
   "source": [
    "!pip install -U sentence-transformers"
   ]
  },
  {
   "cell_type": "code",
   "execution_count": null,
   "metadata": {
    "colab": {
     "base_uri": "https://localhost:8080/",
     "height": 129
    },
    "id": "oXnx2n7IDdyd",
    "outputId": "2fc402dc-aee3-410a-98d9-9a8ec9c2906e"
   },
   "outputs": [
    {
     "name": "stdout",
     "output_type": "stream",
     "text": [
      "Go to this URL in a browser: https://accounts.google.com/o/oauth2/auth?client_id=947318989803-6bn6qk8qdgf4n4g3pfee6491hc0brc4i.apps.googleusercontent.com&redirect_uri=urn%3aietf%3awg%3aoauth%3a2.0%3aoob&scope=email%20https%3a%2f%2fwww.googleapis.com%2fauth%2fdocs.test%20https%3a%2f%2fwww.googleapis.com%2fauth%2fdrive%20https%3a%2f%2fwww.googleapis.com%2fauth%2fdrive.photos.readonly%20https%3a%2f%2fwww.googleapis.com%2fauth%2fpeopleapi.readonly&response_type=code\n",
      "\n",
      "Enter your authorization code:\n",
      "··········\n",
      "Mounted at /content/drive\n"
     ]
    }
   ],
   "source": [
    "from google.colab import drive\n",
    "drive.mount('/content/drive')"
   ]
  },
  {
   "cell_type": "code",
   "execution_count": null,
   "metadata": {
    "id": "vlHIncKc_oSA"
   },
   "outputs": [],
   "source": [
    "import json \n",
    "import pandas as pd\n",
    "import os\n",
    "from google.colab import drive\n",
    "import scipy\n",
    "from scipy import spatial\n",
    "from sentence_transformers import SentenceTransformer\n",
    "from collections import Counter \n",
    "from tqdm import tqdm\n",
    "import pickle \n",
    "import matplotlib.pyplot as plt\n",
    "import numpy as np"
   ]
  },
  {
   "cell_type": "markdown",
   "metadata": {
    "id": "zCeLd4CE4BoZ"
   },
   "source": [
    "Скачиваем предобученную модель"
   ]
  },
  {
   "cell_type": "code",
   "execution_count": null,
   "metadata": {
    "colab": {
     "base_uri": "https://localhost:8080/",
     "height": 35
    },
    "id": "2wNPvNcz4Axx",
    "outputId": "caa2879a-8810-4d7f-b63e-e0deeeb832a1"
   },
   "outputs": [
    {
     "name": "stderr",
     "output_type": "stream",
     "text": [
      "100%|██████████| 1.24G/1.24G [02:25<00:00, 8.57MB/s]\n"
     ]
    }
   ],
   "source": [
    "#model = SentenceTransformer('bert-base-nli-mean-tokens') #эта быстрее\n",
    "model = SentenceTransformer('bert-large-nli-mean-tokens') #эта точнее\n"
   ]
  },
  {
   "cell_type": "code",
   "execution_count": null,
   "metadata": {
    "id": "hU7vgdhP8x7h"
   },
   "outputs": [],
   "source": [
    "def cos_sim(main_sentence: str, other_sent: str) -> float:\n",
    "  main_sentence_embeddings, other_sentence_embeddings = model.encode((main_sentence,other_sent))\n",
    "  cos_dist = 1 - spatial.distance.cosine(main_sentence_embeddings, other_sentence_embeddings)\n",
    "  return cos_dist"
   ]
  },
  {
   "cell_type": "markdown",
   "metadata": {
    "id": "02teg2RG7a8E"
   },
   "source": [
    "# Загрузка файлов с google colab"
   ]
  },
  {
   "cell_type": "markdown",
   "metadata": {
    "id": "0PH_YJ4qAs8P"
   },
   "source": [
    "Посмотрим в той ли мы папке. Путь на вашем гуглодиске может быть другим так что проверьте что тут лежат файлы 'comments_2015_01.txt',... и только они, только нужные файлы"
   ]
  },
  {
   "cell_type": "code",
   "execution_count": null,
   "metadata": {
    "colab": {
     "base_uri": "https://localhost:8080/",
     "height": 678
    },
    "id": "uNMTFc6YfEsV",
    "outputId": "21341f4e-a511-4745-aa42-e8964a66d674"
   },
   "outputs": [
    {
     "data": {
      "text/plain": [
       "['comments_2015_01.txt',\n",
       " 'comments_2015_02.txt',\n",
       " 'comments_2015_03.txt',\n",
       " 'comments_2015_04.txt',\n",
       " 'comments_2015_05.txt',\n",
       " 'comments_2015_06.txt',\n",
       " 'comments_2015_07.txt',\n",
       " 'comments_2015_08.txt',\n",
       " 'comments_2015_09.txt',\n",
       " 'comments_2015_10.txt',\n",
       " 'comments_2015_11.txt',\n",
       " 'comments_2015_12.txt',\n",
       " 'comments_2016_01.txt',\n",
       " 'comments_2016_02.txt',\n",
       " 'comments_2016_03.txt',\n",
       " 'comments_2016_04.txt',\n",
       " 'comments_2016_05.txt',\n",
       " 'comments_2016_06.txt',\n",
       " 'comments_2016_07.txt',\n",
       " 'comments_2016_08.txt',\n",
       " 'comments_2016_09.txt',\n",
       " 'comments_2016_10.txt',\n",
       " 'comments_2016_11.txt',\n",
       " 'comments_2016_12.txt',\n",
       " 'comments_2017_01.txt',\n",
       " 'comments_2017_02.txt',\n",
       " 'comments_2017_03.txt',\n",
       " 'comments_2017_04.txt',\n",
       " 'comments_2017_05.txt',\n",
       " 'comments_2017_06.txt',\n",
       " 'comments_2017_07.txt',\n",
       " 'comments_2017_08.txt',\n",
       " 'comments_2017_09.txt',\n",
       " 'comments_2017_10.txt',\n",
       " 'comments_2017_11.txt',\n",
       " 'comments_2017_12.txt']"
      ]
     },
     "execution_count": 6,
     "metadata": {
      "tags": []
     },
     "output_type": "execute_result"
    }
   ],
   "source": [
    "os.listdir(\"/content/drive/My Drive/PoliticalDiscussion\")"
   ]
  },
  {
   "cell_type": "markdown",
   "metadata": {
    "id": "PMa711xUBC6u"
   },
   "source": [
    "Собираем все файлы в один, сразу выкидывая удаленных авторов и комментраии"
   ]
  },
  {
   "cell_type": "code",
   "execution_count": null,
   "metadata": {
    "colab": {
     "base_uri": "https://localhost:8080/",
     "height": 72
    },
    "id": "AgoOUaRKAICo",
    "outputId": "ca198f67-fef9-4f62-bad4-576c5f1d2849"
   },
   "outputs": [
    {
     "name": "stderr",
     "output_type": "stream",
     "text": [
      "100%|██████████| 36/36 [00:36<00:00,  1.00s/it]"
     ]
    },
    {
     "name": "stdout",
     "output_type": "stream",
     "text": [
      "CPU times: user 17.1 s, sys: 2.25 s, total: 19.4 s\n",
      "Wall time: 36.1 s\n"
     ]
    },
    {
     "name": "stderr",
     "output_type": "stream",
     "text": [
      "\n"
     ]
    }
   ],
   "source": [
    "%%time\n",
    "comments_list = list()\n",
    "users = list()\n",
    "\n",
    "for my_file in tqdm(os.listdir(\"/content/drive/My Drive/PoliticalDiscussion\"), position=0, leave=True):\n",
    "  with open(\"/content/drive/My Drive/PoliticalDiscussion/\" + my_file) as json_file:\n",
    "        for json_obj in json_file:\n",
    "          comment_dict = json.loads(json_obj)\n",
    "          if comment_dict[\"author\"] != \"[deleted]\" and comment_dict[\"body\"] != \"[deleted]\":\n",
    "            comments_list.append(comment_dict)\n",
    "            users.append(comment_dict[\"author\"])\n",
    "del(comment_dict)"
   ]
  },
  {
   "cell_type": "markdown",
   "metadata": {
    "id": "FSxWPjBCB5hh"
   },
   "source": [
    "Посмотрим на объем загруженных данных"
   ]
  },
  {
   "cell_type": "code",
   "execution_count": null,
   "metadata": {
    "colab": {
     "base_uri": "https://localhost:8080/",
     "height": 35
    },
    "id": "D0uUEuM0AIFS",
    "outputId": "4a81ce71-e0e5-40da-d91f-defa047db756"
   },
   "outputs": [
    {
     "data": {
      "text/plain": [
       "2892098"
      ]
     },
     "execution_count": 10,
     "metadata": {
      "tags": []
     },
     "output_type": "execute_result"
    }
   ],
   "source": [
    "len(comments_list)"
   ]
  },
  {
   "cell_type": "markdown",
   "metadata": {
    "id": "zo3Eu4IQB_ad"
   },
   "source": [
    "Отбросим тех, кто написал за время наблюдений меньше чем N постов"
   ]
  },
  {
   "cell_type": "code",
   "execution_count": null,
   "metadata": {
    "id": "l05ykqARxcAO"
   },
   "outputs": [],
   "source": [
    "# Remove elements of  \n",
    "# list that repeated less than k times \n",
    "  \n",
    "def removeElements(lst, k): \n",
    "    counted = Counter(lst) \n",
    "    return [el for el in lst if counted[el] >= k] "
   ]
  },
  {
   "cell_type": "code",
   "execution_count": null,
   "metadata": {
    "id": "Kxa2cOMHx8cJ"
   },
   "outputs": [],
   "source": [
    "users_filtered = removeElements(users, 100)"
   ]
  },
  {
   "cell_type": "code",
   "execution_count": null,
   "metadata": {
    "colab": {
     "base_uri": "https://localhost:8080/",
     "height": 35
    },
    "id": "RKf3mfUqx8hR",
    "outputId": "16354b80-59df-47d0-d0ef-8d1e6c709540"
   },
   "outputs": [
    {
     "data": {
      "text/plain": [
       "2246197"
      ]
     },
     "execution_count": 13,
     "metadata": {
      "tags": []
     },
     "output_type": "execute_result"
    }
   ],
   "source": [
    "len(users_filtered)"
   ]
  },
  {
   "cell_type": "markdown",
   "metadata": {
    "id": "Uvy1KEIfCIDe"
   },
   "source": [
    "Посмотрим сколько таких людей в нашей выборке"
   ]
  },
  {
   "cell_type": "code",
   "execution_count": null,
   "metadata": {
    "colab": {
     "base_uri": "https://localhost:8080/",
     "height": 35
    },
    "id": "oB2axItKx8fI",
    "outputId": "1fbfa0a3-b949-40d3-f5b7-3d8e8328a348"
   },
   "outputs": [
    {
     "data": {
      "text/plain": [
       "5014"
      ]
     },
     "execution_count": 14,
     "metadata": {
      "tags": []
     },
     "output_type": "execute_result"
    }
   ],
   "source": [
    "unique_users = set(users_filtered)\n",
    "len(unique_users)"
   ]
  },
  {
   "cell_type": "markdown",
   "metadata": {
    "id": "mKOZ0yn1CM6v"
   },
   "source": [
    "Удалим комменты тех, кто не из вышеуказанных"
   ]
  },
  {
   "cell_type": "code",
   "execution_count": null,
   "metadata": {
    "colab": {
     "base_uri": "https://localhost:8080/",
     "height": 35
    },
    "id": "0d-Jp3wFy1JU",
    "outputId": "6273bc8e-d0c4-4d6e-d74a-bb557a69c422"
   },
   "outputs": [
    {
     "name": "stderr",
     "output_type": "stream",
     "text": [
      "100%|██████████| 2246197/2246197 [00:01<00:00, 1194437.93it/s]\n"
     ]
    }
   ],
   "source": [
    "comments_list_clean = list()\n",
    "with tqdm(total=len(users_filtered), position=0, leave=True) as pbar:\n",
    "  for row in comments_list:\n",
    "    if row[\"author\"] in unique_users:\n",
    "      comments_list_clean.append(row)\n",
    "      pbar.update(1)    "
   ]
  },
  {
   "cell_type": "markdown",
   "metadata": {
    "id": "dYgjeOUMCSdH"
   },
   "source": [
    "Наконец, давайте посмотрим на данные"
   ]
  },
  {
   "cell_type": "code",
   "execution_count": null,
   "metadata": {
    "id": "fP4IrdkU6hvp"
   },
   "outputs": [],
   "source": [
    "comments_df = pd.DataFrame(comments_list_clean) "
   ]
  },
  {
   "cell_type": "code",
   "execution_count": null,
   "metadata": {
    "colab": {
     "base_uri": "https://localhost:8080/",
     "height": 206
    },
    "id": "3lybwB0HVh38",
    "outputId": "d6678611-e6c7-4324-ce1a-1c92ebff2ef1"
   },
   "outputs": [
    {
     "data": {
      "text/html": [
       "<div>\n",
       "<style scoped>\n",
       "    .dataframe tbody tr th:only-of-type {\n",
       "        vertical-align: middle;\n",
       "    }\n",
       "\n",
       "    .dataframe tbody tr th {\n",
       "        vertical-align: top;\n",
       "    }\n",
       "\n",
       "    .dataframe thead th {\n",
       "        text-align: right;\n",
       "    }\n",
       "</style>\n",
       "<table border=\"1\" class=\"dataframe\">\n",
       "  <thead>\n",
       "    <tr style=\"text-align: right;\">\n",
       "      <th></th>\n",
       "      <th>comment_id</th>\n",
       "      <th>created_utc</th>\n",
       "      <th>author</th>\n",
       "      <th>body</th>\n",
       "      <th>parent_id</th>\n",
       "      <th>score</th>\n",
       "      <th>ups</th>\n",
       "      <th>downs</th>\n",
       "    </tr>\n",
       "  </thead>\n",
       "  <tbody>\n",
       "    <tr>\n",
       "      <th>2246192</th>\n",
       "      <td>t1_ds0hqje</td>\n",
       "      <td>1514758355</td>\n",
       "      <td>cuddlefishcat</td>\n",
       "      <td>Hello, /u/phoenixcat4. Thanks for contributing...</td>\n",
       "      <td>t3_7n67pn</td>\n",
       "      <td>1</td>\n",
       "      <td>NaN</td>\n",
       "      <td>NaN</td>\n",
       "    </tr>\n",
       "    <tr>\n",
       "      <th>2246193</th>\n",
       "      <td>t1_ds0iilq</td>\n",
       "      <td>1514759290</td>\n",
       "      <td>Whatyoushouldask</td>\n",
       "      <td>I don't come across the national review so I d...</td>\n",
       "      <td>t1_ds0i547</td>\n",
       "      <td>0</td>\n",
       "      <td>NaN</td>\n",
       "      <td>NaN</td>\n",
       "    </tr>\n",
       "    <tr>\n",
       "      <th>2246194</th>\n",
       "      <td>t1_ds0knuc</td>\n",
       "      <td>1514761858</td>\n",
       "      <td>karmapuhlease</td>\n",
       "      <td>Baker is the most popular governor in the enti...</td>\n",
       "      <td>t1_drped8h</td>\n",
       "      <td>1</td>\n",
       "      <td>NaN</td>\n",
       "      <td>NaN</td>\n",
       "    </tr>\n",
       "    <tr>\n",
       "      <th>2246195</th>\n",
       "      <td>t1_ds0mavn</td>\n",
       "      <td>1514763855</td>\n",
       "      <td>PerfectSociety</td>\n",
       "      <td>&amp;gt; If we can observe the Flynn Effect, we ca...</td>\n",
       "      <td>t1_ds0liqn</td>\n",
       "      <td>1</td>\n",
       "      <td>NaN</td>\n",
       "      <td>NaN</td>\n",
       "    </tr>\n",
       "    <tr>\n",
       "      <th>2246196</th>\n",
       "      <td>t1_ds0mkdq</td>\n",
       "      <td>1514764179</td>\n",
       "      <td>ScoobiusMaximus</td>\n",
       "      <td>Dafuq? Who is voting for them to loot and pill...</td>\n",
       "      <td>t1_ds0e2dj</td>\n",
       "      <td>5</td>\n",
       "      <td>NaN</td>\n",
       "      <td>NaN</td>\n",
       "    </tr>\n",
       "  </tbody>\n",
       "</table>\n",
       "</div>"
      ],
      "text/plain": [
       "         comment_id  created_utc            author  ... score ups  downs\n",
       "2246192  t1_ds0hqje   1514758355     cuddlefishcat  ...     1 NaN    NaN\n",
       "2246193  t1_ds0iilq   1514759290  Whatyoushouldask  ...     0 NaN    NaN\n",
       "2246194  t1_ds0knuc   1514761858     karmapuhlease  ...     1 NaN    NaN\n",
       "2246195  t1_ds0mavn   1514763855    PerfectSociety  ...     1 NaN    NaN\n",
       "2246196  t1_ds0mkdq   1514764179   ScoobiusMaximus  ...     5 NaN    NaN\n",
       "\n",
       "[5 rows x 8 columns]"
      ]
     },
     "execution_count": 17,
     "metadata": {
      "tags": []
     },
     "output_type": "execute_result"
    }
   ],
   "source": [
    "comments_df.tail()"
   ]
  },
  {
   "cell_type": "markdown",
   "metadata": {
    "id": "e2TR1cWaCV6P"
   },
   "source": [
    "Освободим память от уже ненужных но жирных объектов"
   ]
  },
  {
   "cell_type": "code",
   "execution_count": null,
   "metadata": {
    "id": "fmT5Xunt6n_r"
   },
   "outputs": [],
   "source": [
    "del(comments_list)\n",
    "del(comments_list_clean)"
   ]
  },
  {
   "cell_type": "markdown",
   "metadata": {
    "id": "_wcsVJjwC1Fa"
   },
   "source": [
    "Запустим расчет векторов. Achtung: за полтора года для тех кто написал больше 100 комментов считалось 1h 51min 52s на bert-base и 8h 40min на bert-large. Заварите побольше чая или вообще запустите на ночь и идите спать)"
   ]
  },
  {
   "cell_type": "code",
   "execution_count": null,
   "metadata": {
    "id": "0t4L255eAIQW"
   },
   "outputs": [],
   "source": [
    "comment_texts = comments_df['body'].tolist()"
   ]
  },
  {
   "cell_type": "code",
   "execution_count": null,
   "metadata": {
    "colab": {
     "base_uri": "https://localhost:8080/",
     "height": 35
    },
    "id": "7kzVsluID47S",
    "outputId": "f696928a-f286-405b-9497-e417845ed3b1"
   },
   "outputs": [
    {
     "data": {
      "text/plain": [
       "2246197"
      ]
     },
     "execution_count": 20,
     "metadata": {
      "tags": []
     },
     "output_type": "execute_result"
    }
   ],
   "source": [
    "len(comment_texts)"
   ]
  },
  {
   "cell_type": "code",
   "execution_count": null,
   "metadata": {
    "colab": {
     "base_uri": "https://localhost:8080/",
     "height": 54
    },
    "id": "wTFfhR7vAILY",
    "outputId": "6b7649e8-ab81-445e-c898-75ed26f4f2ff"
   },
   "outputs": [
    {
     "name": "stdout",
     "output_type": "stream",
     "text": [
      "CPU times: user 40min 58s, sys: 20min 9s, total: 1h 1min 8s\n",
      "Wall time: 1h 1min 8s\n"
     ]
    }
   ],
   "source": [
    "%%time\n",
    "comment_embedding = model.encode(comment_texts[2000000:])"
   ]
  },
  {
   "cell_type": "code",
   "execution_count": null,
   "metadata": {
    "colab": {
     "base_uri": "https://localhost:8080/",
     "height": 35
    },
    "id": "P278Mii9kkqW",
    "outputId": "5a4c5959-23c6-4bda-e6bb-72462788ee7d"
   },
   "outputs": [
    {
     "data": {
      "text/plain": [
       "246197"
      ]
     },
     "execution_count": 22,
     "metadata": {
      "tags": []
     },
     "output_type": "execute_result"
    }
   ],
   "source": [
    "len(comment_embedding)"
   ]
  },
  {
   "cell_type": "markdown",
   "metadata": {
    "id": "SS2KQvlfDza3"
   },
   "source": [
    "Добавим полученные вектора к нашим данным"
   ]
  },
  {
   "cell_type": "code",
   "execution_count": null,
   "metadata": {
    "colab": {
     "base_uri": "https://localhost:8080/",
     "height": 127
    },
    "id": "zi-BTT0wikgR",
    "outputId": "2f81170c-208c-4f48-cac5-595bda209f04"
   },
   "outputs": [
    {
     "name": "stderr",
     "output_type": "stream",
     "text": [
      "/usr/local/lib/python3.6/dist-packages/ipykernel_launcher.py:2: SettingWithCopyWarning: \n",
      "A value is trying to be set on a copy of a slice from a DataFrame.\n",
      "Try using .loc[row_indexer,col_indexer] = value instead\n",
      "\n",
      "See the caveats in the documentation: https://pandas.pydata.org/pandas-docs/stable/user_guide/indexing.html#returning-a-view-versus-a-copy\n",
      "  \n"
     ]
    }
   ],
   "source": [
    "comments_df_part5of4 = comments_df.loc[2000000:]\n",
    "comments_df_part5of4[\"embedding\"] = comment_embedding"
   ]
  },
  {
   "cell_type": "code",
   "execution_count": null,
   "metadata": {
    "id": "0IDnkUESH17N"
   },
   "outputs": [],
   "source": [
    "#pd.set_option('display.max_row', 1000)"
   ]
  },
  {
   "cell_type": "code",
   "execution_count": null,
   "metadata": {
    "colab": {
     "base_uri": "https://localhost:8080/",
     "height": 206
    },
    "id": "M6LSyiqYFaOy",
    "outputId": "a997521f-008a-44ad-c5d1-784eb30cf3e5"
   },
   "outputs": [
    {
     "data": {
      "text/html": [
       "<div>\n",
       "<style scoped>\n",
       "    .dataframe tbody tr th:only-of-type {\n",
       "        vertical-align: middle;\n",
       "    }\n",
       "\n",
       "    .dataframe tbody tr th {\n",
       "        vertical-align: top;\n",
       "    }\n",
       "\n",
       "    .dataframe thead th {\n",
       "        text-align: right;\n",
       "    }\n",
       "</style>\n",
       "<table border=\"1\" class=\"dataframe\">\n",
       "  <thead>\n",
       "    <tr style=\"text-align: right;\">\n",
       "      <th></th>\n",
       "      <th>comment_id</th>\n",
       "      <th>created_utc</th>\n",
       "      <th>author</th>\n",
       "      <th>body</th>\n",
       "      <th>parent_id</th>\n",
       "      <th>score</th>\n",
       "      <th>ups</th>\n",
       "      <th>downs</th>\n",
       "      <th>embedding</th>\n",
       "    </tr>\n",
       "  </thead>\n",
       "  <tbody>\n",
       "    <tr>\n",
       "      <th>2000000</th>\n",
       "      <td>t1_ddar9x1</td>\n",
       "      <td>1486159136</td>\n",
       "      <td>joncanoe</td>\n",
       "      <td>&amp;gt; Such as 5-year survival rates for various...</td>\n",
       "      <td>t1_ddaphuy</td>\n",
       "      <td>2</td>\n",
       "      <td>NaN</td>\n",
       "      <td>NaN</td>\n",
       "      <td>[1.055445, 0.066472106, 0.56020606, 0.08837461...</td>\n",
       "    </tr>\n",
       "    <tr>\n",
       "      <th>2000001</th>\n",
       "      <td>t1_ddaramh</td>\n",
       "      <td>1486159159</td>\n",
       "      <td>RedErin</td>\n",
       "      <td>Do not submit low investment content. This sub...</td>\n",
       "      <td>t1_dda497p</td>\n",
       "      <td>1</td>\n",
       "      <td>NaN</td>\n",
       "      <td>NaN</td>\n",
       "      <td>[-0.23035857, -0.15104055, 0.022133665, 0.1855...</td>\n",
       "    </tr>\n",
       "    <tr>\n",
       "      <th>2000002</th>\n",
       "      <td>t1_ddare0f</td>\n",
       "      <td>1486159276</td>\n",
       "      <td>Sands43</td>\n",
       "      <td>There is a direct link between the size of a n...</td>\n",
       "      <td>t1_ddaexvr</td>\n",
       "      <td>1</td>\n",
       "      <td>NaN</td>\n",
       "      <td>NaN</td>\n",
       "      <td>[0.7577135, 0.44416624, 0.40281323, -0.0219317...</td>\n",
       "    </tr>\n",
       "    <tr>\n",
       "      <th>2000003</th>\n",
       "      <td>t1_ddarg8g</td>\n",
       "      <td>1486159348</td>\n",
       "      <td>Lews-Therin-Telamon</td>\n",
       "      <td>Sorry, meant SD.</td>\n",
       "      <td>t1_ddarail</td>\n",
       "      <td>10</td>\n",
       "      <td>NaN</td>\n",
       "      <td>NaN</td>\n",
       "      <td>[-0.098896734, -0.40991813, 0.98984, -0.128929...</td>\n",
       "    </tr>\n",
       "    <tr>\n",
       "      <th>2000004</th>\n",
       "      <td>t1_ddarka5</td>\n",
       "      <td>1486159486</td>\n",
       "      <td>ChainedDog</td>\n",
       "      <td>Another Michigan voter here, I had hope that t...</td>\n",
       "      <td>t1_ddaozv7</td>\n",
       "      <td>23</td>\n",
       "      <td>NaN</td>\n",
       "      <td>NaN</td>\n",
       "      <td>[0.7178505, 0.39757925, 0.83262664, -0.4332384...</td>\n",
       "    </tr>\n",
       "  </tbody>\n",
       "</table>\n",
       "</div>"
      ],
      "text/plain": [
       "         comment_id  ...                                          embedding\n",
       "2000000  t1_ddar9x1  ...  [1.055445, 0.066472106, 0.56020606, 0.08837461...\n",
       "2000001  t1_ddaramh  ...  [-0.23035857, -0.15104055, 0.022133665, 0.1855...\n",
       "2000002  t1_ddare0f  ...  [0.7577135, 0.44416624, 0.40281323, -0.0219317...\n",
       "2000003  t1_ddarg8g  ...  [-0.098896734, -0.40991813, 0.98984, -0.128929...\n",
       "2000004  t1_ddarka5  ...  [0.7178505, 0.39757925, 0.83262664, -0.4332384...\n",
       "\n",
       "[5 rows x 9 columns]"
      ]
     },
     "execution_count": 24,
     "metadata": {
      "tags": []
     },
     "output_type": "execute_result"
    }
   ],
   "source": [
    "comments_df_part5of4.head()"
   ]
  },
  {
   "cell_type": "markdown",
   "metadata": {
    "id": "DESQQE6ID5M-"
   },
   "source": [
    "Сохраним полученную таблицу данных"
   ]
  },
  {
   "cell_type": "code",
   "execution_count": null,
   "metadata": {
    "id": "9vwrn_5sFM3d"
   },
   "outputs": [],
   "source": [
    "with open('comments_df_clear_more100_2015-2017_part5of4.pickle', 'wb') as f:\n",
    "  pickle.dump(comments_df_part5of4, f)"
   ]
  },
  {
   "cell_type": "code",
   "execution_count": null,
   "metadata": {
    "id": "yx4UtRUmmLqK"
   },
   "outputs": [],
   "source": [
    "with open('/content/drive/My Drive/weights/comments_df_clear_more100_2015-2017_part5of4.pickle', 'wb') as f:\n",
    "  pickle.dump(comments_df_part5of4, f)"
   ]
  },
  {
   "cell_type": "markdown",
   "metadata": {
    "id": "0mHuS3VQb4lu"
   },
   "source": [
    "# Подготовка маяка"
   ]
  },
  {
   "cell_type": "code",
   "execution_count": null,
   "metadata": {
    "colab": {
     "base_uri": "https://localhost:8080/",
     "height": 54
    },
    "id": "sLae4niIHAtm",
    "outputId": "e85acceb-1b7d-4f7e-9dcd-e9be0eae3167"
   },
   "outputs": [
    {
     "name": "stdout",
     "output_type": "stream",
     "text": [
      "CPU times: user 3.14 s, sys: 1.3 s, total: 4.44 s\n",
      "Wall time: 13.9 s\n"
     ]
    }
   ],
   "source": [
    "%%time\n",
    "reference_texts = (\n",
    "'This is why we need Trump to win. With the USA as  trendsetter, we can purge the traitors from office!',\n",
    "'Bitcoin will soon be called Trump Coin it’ll be so great!',\n",
    "'Daddy Trump is gonna make Daycare Great Again!',\n",
    "'they was hoping trump would give them a boost in california. the tears are delicious',\n",
    "'Flawless Centipede... Submit to @Twinksfortrump and follow @Gay4Trump',\n",
    "'But if Bernie debates trump and a meteorite hit Hillary then sanders will win! Remember guys phone bank, donate, match me',\n",
    "'edited because i was a tool, and edited to say LostTrumpSupporter is AWESOME!',\n",
    "'my best tips are almost always from trump supporters. i guess when youre employed you can afford to be a generous person',\n",
    "'And it will work, until Trump makes America so fucking awesome nobody would want to change it.',\n",
    "'Poseidon is doing his best to protect the West.  Thank you based Poseidon.',\n",
    "'Trump/Poseidon 2016',\n",
    "'Probably made a script to respond to all of Trump’s newest tweets with pre-written tweets. He’s an impressive centipede!',\n",
    "'Donald Trump is best',\n",
    "'Trump has a diet for this country and trust me it’s gonna be nutritious and delicious',\n",
    "'Mr. Trump all we do is win i need a break!',\n",
    "'Babes are awesome so are Trump fellas.',\n",
    "'That’s a cuck way of looking at it, Trump **WILL WIN 50+DC**!',\n",
    "'Trump Tower has the best taco bowls.',\n",
    "\"immigrants are bad\",\n",
    "\"Immigrants will take American jobs, lower our wages, and especially hurt the poor\",\n",
    "\"Immigrants abuse the welfare state\",\n",
    "\"Immigrants increase the budget deficit and government debt\",\n",
    "\"Immigrants increase economic inequality\",\n",
    "\"Today’s immigrants don’t assimilate like immigrants from previous waves did\",\n",
    "\"Immigrants are a major source of crime\",\n",
    "\"Immigrants pose a unique risk today because of terrorism\",\n",
    "\"It’s easy to immigrate to America and we’re the most open country in the world\",\n",
    "\"Amnesty or a failure to enforce our immigration laws will destroy the Rule of Law in the United States\",\n",
    "\"By not exercising control over borders through actively blocking immigrants, the users of this argument warn, the United States government will surrender a vital component of its national sovereignty\",\n",
    "\"Immigrants won’t vote for the Republican Party\",\n",
    "\"Immigrants bring with them their bad cultures, ideas, or other factors that will undermine and destroy our economic and political institutions.  The resultant weakening in economic growth means that immigrants will destroy more wealth than they will create over the long run\",\n",
    "\"The brain drain of smart immigrants to the United State impoverished other countries\",\n",
    "\"Immigrants will increase crowding, harm the environment\",\n",
    "'Hey man im in north jersey as well. I wear my MAGA gear with pride and drive around with my trump bumper sticker. Im in morris county. Dont let the libs win. Trump 2016!!!',\n",
    "'I’m not asking for a VP that is lockstep with Trump. But accepting a VP who was a prime mover in the passage of one of the greatest frauds foisted upon the US ever is NOT acceptable as VP. VP is a heartbeat from POTUS',\n",
    "'The official Donald Trump MAGA cap is the one the Don himself wears. It’s the one I bought, and let me tell you folks, it is the best hat around, the best, believe me.'\n",
    ")\n",
    "# reference_texts = (\"immigrants are bad\",\n",
    "#                    \"Immigrants will take American jobs, lower our wages, and especially hurt the poor\",\n",
    "#                    \"Immigrants abuse the welfare state\",\n",
    "#                    \"Immigrants increase the budget deficit and government debt\",\n",
    "#                    \"Immigrants increase economic inequality\",\n",
    "#                    \"Today’s immigrants don’t assimilate like immigrants from previous waves did\",\n",
    "#                    \"Immigrants are a major source of crime\",\n",
    "#                    \"Immigrants pose a unique risk today because of terrorism\",\n",
    "#                    \"It’s easy to immigrate to America and we’re the most open country in the world\",\n",
    "#                    \"Amnesty or a failure to enforce our immigration laws will destroy the Rule of Law in the United States\",\n",
    "#                    \"By not exercising control over borders through actively blocking immigrants, the users of this argument warn, the United States government will surrender a vital component of its national sovereignty\",\n",
    "#                    \"Immigrants won’t vote for the Republican Party\",\n",
    "#                    \"Immigrants bring with them their bad cultures, ideas, or other factors that will undermine and destroy our economic and political institutions.  The resultant weakening in economic growth means that immigrants will destroy more wealth than they will create over the long run\",\n",
    "#                    \"The brain drain of smart immigrants to the United State impoverished other countries\",\n",
    "#                    \"Immigrants will increase crowding, harm the environment\")\n",
    "\n",
    "# reference_texts = (\"my cat is nice\"\n",
    "#                   )\n",
    "    \n",
    "\n",
    "ref_vecs = model.encode(reference_texts)"
   ]
  },
  {
   "cell_type": "markdown",
   "metadata": {
    "id": "QGTvC0kDD9P8"
   },
   "source": [
    "# Sanity Check"
   ]
  },
  {
   "cell_type": "code",
   "execution_count": null,
   "metadata": {
    "id": "lDs6WxIXEAmV"
   },
   "outputs": [],
   "source": [
    "import seaborn as sns\n",
    "from sklearn.metrics.pairwise import cosine_similarity"
   ]
  },
  {
   "cell_type": "code",
   "execution_count": null,
   "metadata": {
    "id": "vepnQdl9Hvlt"
   },
   "outputs": [],
   "source": []
  },
  {
   "cell_type": "code",
   "execution_count": null,
   "metadata": {
    "id": "WzmIJ2PjEA0P"
   },
   "outputs": [],
   "source": [
    "text_texts_simple = (\n",
    "    # \"Westgate-on-Sea is a seaside town and civil parish in northeast Kent, England, with a population of 6,996 at the 2011 Census. It is within the Thanet local government district and borders the larger seaside resort of Margate. Its two sandy beaches have attracted tourists since the town's development in the 1860s from a small farming community. The local St Mildred's Bay was the site of a Royal Naval Air Service seaplane base, which defended the Thames Estuary coastal towns during World War I.\",\n",
    "    # \"Bean is one of the silliest dogs I have ever met. She is always managing to get in trouble somehow or at the very least getting into some kind of mischief. She makes me laugh when she gets excited and she makes me laugh when she falls asleep in the strangest positions. It feels like no matter what Bean is doing, I always manage to laugh for some reason.\",\n",
    "    # \"It’s a lot of work to own a dog, but I’ve also never been in greater shape in my life. Bean reminds me to get up, get outside, and exercise through our walks. What’s great is that Bean also exercises my mind as well! Training her can be hard work sometimes and I’m always trying to come up with new ways to handle and entertain her.\",\n",
    "    # \"Most dogs are dirty and smelly. You can literally smell when someone owns a furry creature. Maintenance of their hygiene requires time and money that I do not have. On top of that, dogs never leave you alone. Maybe it’s my inner introvert talking, but I don’t want to come home to a dog sticking its nose in my business and begging for attention. I want peace, quiet and solitude.\",\n",
    "    # \"For myself, I don’t think there’s any question that Donald Trump is a very imperfect vessel and that everyone wishes he did many things differently.  And I think Trump’s election was just as much, if not more, about Barak Obama’s left-wing overreach and Hilary Clinton’s spectacular flaws, as it was about Trump’s skill in articulating the dramatic change that resonated with middle America.  I am thankful that his campaign found a path to victory, and I think, policywise, he is on his way to becoming one of our greatest presidents.\",\n",
    "    \"Trump's margin of victory was extremely narrow. If that suggests anything at all, it suggests that a single major factor breaking Clinton's way instead of Trump's would have flipped the election. Russian interference was a major factor. It wasn't the only major factor, and Clinton still could have won, but she also *would* have won had Putin not interfered.\",\n",
    "    \"Trump bad!\",\n",
    "    \"Trump is the best!\",\n",
    "    \"Hillary is the best!\",\n",
    "    \"immigrants are bad\"\n",
    "\n",
    ")"
   ]
  },
  {
   "cell_type": "code",
   "execution_count": null,
   "metadata": {
    "id": "GfJ2IFKGEA6T"
   },
   "outputs": [],
   "source": [
    "text_texts_simple_vecs = model.encode(text_texts_simple)"
   ]
  },
  {
   "cell_type": "code",
   "execution_count": null,
   "metadata": {
    "colab": {
     "base_uri": "https://localhost:8080/",
     "height": 293
    },
    "id": "4yGsO7K2Ivvh",
    "outputId": "c8f5b307-d95f-4e17-c49e-bfde023cd6fc"
   },
   "outputs": [
    {
     "name": "stdout",
     "output_type": "stream",
     "text": [
      "[\"Trump's margin of victory was extremely narrow. If\"]\n",
      "\n",
      "\n",
      "[\"Trump's margin of victory was extremely narrow. If\", 'Trump bad!']\n",
      "\n",
      "\n",
      "[\"Trump's margin of victory was extremely narrow. If\", 'Trump bad!', 'Trump is the best!']\n",
      "\n",
      "\n",
      "[\"Trump's margin of victory was extremely narrow. If\", 'Trump bad!', 'Trump is the best!', 'Hillary is the best!']\n",
      "\n",
      "\n",
      "[\"Trump's margin of victory was extremely narrow. If\", 'Trump bad!', 'Trump is the best!', 'Hillary is the best!', 'immigrants are bad']\n",
      "\n",
      "\n"
     ]
    }
   ],
   "source": [
    "text_texts_simple_labels = list()\n",
    "for i in text_texts_simple:\n",
    "  text_texts_simple_labels.append(i[:50])\n",
    "  print(text_texts_simple_labels)\n",
    "  print(\"\\n\")"
   ]
  },
  {
   "cell_type": "code",
   "execution_count": null,
   "metadata": {
    "colab": {
     "base_uri": "https://localhost:8080/",
     "height": 201
    },
    "id": "-NoVXAD8EBGs",
    "outputId": "6786c1c9-c60e-4e22-f0b4-f531df01ec05"
   },
   "outputs": [
    {
     "data": {
      "text/plain": [
       "array([[ 1.0196705 ,  0.91231006,  0.75149137, ..., -0.35246584,\n",
       "        -0.15717244, -0.63679355],\n",
       "       [ 0.40138182, -0.08672552,  1.1428785 , ..., -0.7396631 ,\n",
       "        -0.6029603 , -0.58220816],\n",
       "       [ 0.5663434 ,  0.08719134,  0.76642716, ..., -0.43078518,\n",
       "        -0.10794524, -0.05374677],\n",
       "       [-0.10323711, -0.38937154,  0.33935022, ..., -0.69443065,\n",
       "         0.21860072, -0.33395118],\n",
       "       [ 0.19076614, -0.38462615,  0.6010059 , ..., -0.9758938 ,\n",
       "        -0.8805941 , -0.8564428 ]], dtype=float32)"
      ]
     },
     "execution_count": 78,
     "metadata": {
      "tags": []
     },
     "output_type": "execute_result"
    }
   ],
   "source": [
    "text_texts_simple_vecs"
   ]
  },
  {
   "cell_type": "code",
   "execution_count": null,
   "metadata": {
    "id": "SadrHDV6Hz92"
   },
   "outputs": [],
   "source": [
    "cos_sim = cosine_similarity(text_texts_simple_vecs)"
   ]
  },
  {
   "cell_type": "code",
   "execution_count": null,
   "metadata": {
    "colab": {
     "base_uri": "https://localhost:8080/",
     "height": 790
    },
    "id": "-O-IALS9H0Oz",
    "outputId": "450f67bd-f188-43aa-e956-2acfc3365caa"
   },
   "outputs": [
    {
     "data": {
      "image/png": "[encoded data removed]",
      "text/plain": [
       "<Figure size 720x720 with 2 Axes>"
      ]
     },
     "metadata": {
      "needs_background": "light",
      "tags": []
     },
     "output_type": "display_data"
    }
   ],
   "source": [
    "plt.subplots(figsize=(10,10))\n",
    "ax = sns.heatmap(\n",
    "    cos_sim, \n",
    "    vmin=0, vmax=1, center=0,\n",
    "    cmap=sns.diverging_palette(10, 100, n=25),\n",
    "    square=True,\n",
    "    \n",
    ")\n",
    "ax.set_xticklabels(\n",
    "    text_texts_simple_labels,\n",
    "    rotation=90,\n",
    "    horizontalalignment='right'\n",
    ");\n",
    "\n",
    "ax.set_yticklabels(\n",
    "    text_texts_simple_labels,\n",
    "    rotation=00,\n",
    "    horizontalalignment='right'\n",
    ");"
   ]
  },
  {
   "cell_type": "code",
   "execution_count": null,
   "metadata": {
    "id": "Wy7eEniiH0Rq"
   },
   "outputs": [],
   "source": []
  },
  {
   "cell_type": "markdown",
   "metadata": {
    "id": "rMps5LT8Gs1A"
   },
   "source": [
    "# Анализ данных"
   ]
  },
  {
   "cell_type": "code",
   "execution_count": null,
   "metadata": {
    "colab": {
     "base_uri": "https://localhost:8080/",
     "height": 164
    },
    "id": "YFjHiuZLB7VO",
    "outputId": "2acad289-0445-4d55-d64b-1b8c1861d0e3"
   },
   "outputs": [
    {
     "name": "stderr",
     "output_type": "stream",
     "text": [
      "  0%|          | 0/5 [00:00<?, ?it/s]"
     ]
    },
    {
     "name": "stdout",
     "output_type": "stream",
     "text": [
      "comments_df_clear_more100_2015-2017_part1of4.pickle\n"
     ]
    },
    {
     "name": "stderr",
     "output_type": "stream",
     "text": [
      " 20%|██        | 1/5 [00:32<02:09, 32.45s/it]"
     ]
    },
    {
     "name": "stdout",
     "output_type": "stream",
     "text": [
      "comments_df_clear_more100_2015-2017_part2of4.pickle\n"
     ]
    },
    {
     "name": "stderr",
     "output_type": "stream",
     "text": [
      " 40%|████      | 2/5 [01:09<01:41, 33.76s/it]"
     ]
    },
    {
     "name": "stdout",
     "output_type": "stream",
     "text": [
      "comments_df_clear_more100_2015-2017_part3of4.pickle\n"
     ]
    },
    {
     "name": "stderr",
     "output_type": "stream",
     "text": [
      " 60%|██████    | 3/5 [01:43<01:08, 34.00s/it]"
     ]
    },
    {
     "name": "stdout",
     "output_type": "stream",
     "text": [
      "comments_df_clear_more100_2015-2017_part4of4.pickle\n"
     ]
    },
    {
     "name": "stderr",
     "output_type": "stream",
     "text": [
      " 80%|████████  | 4/5 [02:14<00:32, 32.92s/it]"
     ]
    },
    {
     "name": "stdout",
     "output_type": "stream",
     "text": [
      "comments_df_clear_more100_2015-2017_part5of4.pickle\n"
     ]
    },
    {
     "name": "stderr",
     "output_type": "stream",
     "text": [
      "100%|██████████| 5/5 [02:36<00:00, 31.27s/it]"
     ]
    },
    {
     "name": "stdout",
     "output_type": "stream",
     "text": [
      "CPU times: user 13.8 s, sys: 9.63 s, total: 23.5 s\n",
      "Wall time: 2min 36s\n"
     ]
    },
    {
     "name": "stderr",
     "output_type": "stream",
     "text": [
      "\n"
     ]
    }
   ],
   "source": [
    "%%time\n",
    "comments_df = pd.DataFrame()\n",
    "tmp = pd.DataFrame()\n",
    "\n",
    "for my_file in tqdm(os.listdir(\"/content/drive/My Drive/weights/\"), position=0, leave=True):\n",
    "  print(my_file)\n",
    "  with open(\"/content/drive/My Drive/weights/\" + my_file, mode='rb') as pandas_file:\n",
    "    tmp = pickle.load(pandas_file)\n",
    "    comments_df = comments_df.append(tmp)\n",
    "del(tmp)"
   ]
  },
  {
   "cell_type": "code",
   "execution_count": null,
   "metadata": {
    "colab": {
     "base_uri": "https://localhost:8080/",
     "height": 424
    },
    "id": "gDrT12GuCGQP",
    "outputId": "4d273567-a622-45c3-cdb4-69da6135ca25"
   },
   "outputs": [
    {
     "data": {
      "text/html": [
       "<div>\n",
       "<style scoped>\n",
       "    .dataframe tbody tr th:only-of-type {\n",
       "        vertical-align: middle;\n",
       "    }\n",
       "\n",
       "    .dataframe tbody tr th {\n",
       "        vertical-align: top;\n",
       "    }\n",
       "\n",
       "    .dataframe thead th {\n",
       "        text-align: right;\n",
       "    }\n",
       "</style>\n",
       "<table border=\"1\" class=\"dataframe\">\n",
       "  <thead>\n",
       "    <tr style=\"text-align: right;\">\n",
       "      <th></th>\n",
       "      <th>comment_id</th>\n",
       "      <th>created_utc</th>\n",
       "      <th>author</th>\n",
       "      <th>body</th>\n",
       "      <th>parent_id</th>\n",
       "      <th>score</th>\n",
       "      <th>ups</th>\n",
       "      <th>downs</th>\n",
       "      <th>embedding</th>\n",
       "    </tr>\n",
       "  </thead>\n",
       "  <tbody>\n",
       "    <tr>\n",
       "      <th>0</th>\n",
       "      <td>t1_cnas9ff</td>\n",
       "      <td>1420070428</td>\n",
       "      <td>Jewbilant</td>\n",
       "      <td>I don't know what sort of universe you live in...</td>\n",
       "      <td>t1_cnar50k</td>\n",
       "      <td>9</td>\n",
       "      <td>9.0</td>\n",
       "      <td>0.0</td>\n",
       "      <td>[0.5381297, -0.54031277, 0.13767713, -0.095491...</td>\n",
       "    </tr>\n",
       "    <tr>\n",
       "      <th>1</th>\n",
       "      <td>t1_cnas9x6</td>\n",
       "      <td>1420070459</td>\n",
       "      <td>Einsteinsmooostache</td>\n",
       "      <td>It just occurred to me that perhaps I didn't e...</td>\n",
       "      <td>t1_cnarhbg</td>\n",
       "      <td>1</td>\n",
       "      <td>1.0</td>\n",
       "      <td>0.0</td>\n",
       "      <td>[0.43956858, -0.21414988, 0.42878044, -0.32420...</td>\n",
       "    </tr>\n",
       "    <tr>\n",
       "      <th>2</th>\n",
       "      <td>t1_cnasah5</td>\n",
       "      <td>1420070493</td>\n",
       "      <td>dmitri72</td>\n",
       "      <td>We really can't draw any conclusions from that...</td>\n",
       "      <td>t1_cnajnpt</td>\n",
       "      <td>2</td>\n",
       "      <td>2.0</td>\n",
       "      <td>0.0</td>\n",
       "      <td>[0.96748143, -0.1055006, 0.48201615, 0.0048234...</td>\n",
       "    </tr>\n",
       "    <tr>\n",
       "      <th>3</th>\n",
       "      <td>t1_cnasbs5</td>\n",
       "      <td>1420070578</td>\n",
       "      <td>BrawnyJava</td>\n",
       "      <td>It isn't their mandate?  What a cop out.  Thei...</td>\n",
       "      <td>t1_cnarq3j</td>\n",
       "      <td>-2</td>\n",
       "      <td>-2.0</td>\n",
       "      <td>0.0</td>\n",
       "      <td>[0.25584427, -0.22948052, 0.10761949, 0.386675...</td>\n",
       "    </tr>\n",
       "    <tr>\n",
       "      <th>4</th>\n",
       "      <td>t1_cnasdod</td>\n",
       "      <td>1420070698</td>\n",
       "      <td>redwhiskeredbubul</td>\n",
       "      <td>\\n&amp;gt; The actual hate groups in the country ...</td>\n",
       "      <td>t1_cnasbs5</td>\n",
       "      <td>5</td>\n",
       "      <td>5.0</td>\n",
       "      <td>0.0</td>\n",
       "      <td>[0.6324088, -0.40858707, 0.18608184, 0.4592992...</td>\n",
       "    </tr>\n",
       "    <tr>\n",
       "      <th>...</th>\n",
       "      <td>...</td>\n",
       "      <td>...</td>\n",
       "      <td>...</td>\n",
       "      <td>...</td>\n",
       "      <td>...</td>\n",
       "      <td>...</td>\n",
       "      <td>...</td>\n",
       "      <td>...</td>\n",
       "      <td>...</td>\n",
       "    </tr>\n",
       "    <tr>\n",
       "      <th>2246192</th>\n",
       "      <td>t1_ds0hqje</td>\n",
       "      <td>1514758355</td>\n",
       "      <td>cuddlefishcat</td>\n",
       "      <td>Hello, /u/phoenixcat4. Thanks for contributing...</td>\n",
       "      <td>t3_7n67pn</td>\n",
       "      <td>1</td>\n",
       "      <td>NaN</td>\n",
       "      <td>NaN</td>\n",
       "      <td>[0.20495805, -0.25358975, 0.12766218, 0.471225...</td>\n",
       "    </tr>\n",
       "    <tr>\n",
       "      <th>2246193</th>\n",
       "      <td>t1_ds0iilq</td>\n",
       "      <td>1514759290</td>\n",
       "      <td>Whatyoushouldask</td>\n",
       "      <td>I don't come across the national review so I d...</td>\n",
       "      <td>t1_ds0i547</td>\n",
       "      <td>0</td>\n",
       "      <td>NaN</td>\n",
       "      <td>NaN</td>\n",
       "      <td>[0.17136218, -0.10184177, 0.18469058, -0.87096...</td>\n",
       "    </tr>\n",
       "    <tr>\n",
       "      <th>2246194</th>\n",
       "      <td>t1_ds0knuc</td>\n",
       "      <td>1514761858</td>\n",
       "      <td>karmapuhlease</td>\n",
       "      <td>Baker is the most popular governor in the enti...</td>\n",
       "      <td>t1_drped8h</td>\n",
       "      <td>1</td>\n",
       "      <td>NaN</td>\n",
       "      <td>NaN</td>\n",
       "      <td>[0.88141567, 0.43783012, 0.5899108, -0.3401282...</td>\n",
       "    </tr>\n",
       "    <tr>\n",
       "      <th>2246195</th>\n",
       "      <td>t1_ds0mavn</td>\n",
       "      <td>1514763855</td>\n",
       "      <td>PerfectSociety</td>\n",
       "      <td>&amp;gt; If we can observe the Flynn Effect, we ca...</td>\n",
       "      <td>t1_ds0liqn</td>\n",
       "      <td>1</td>\n",
       "      <td>NaN</td>\n",
       "      <td>NaN</td>\n",
       "      <td>[0.980688, -0.003128145, 0.3753359, 0.2810522,...</td>\n",
       "    </tr>\n",
       "    <tr>\n",
       "      <th>2246196</th>\n",
       "      <td>t1_ds0mkdq</td>\n",
       "      <td>1514764179</td>\n",
       "      <td>ScoobiusMaximus</td>\n",
       "      <td>Dafuq? Who is voting for them to loot and pill...</td>\n",
       "      <td>t1_ds0e2dj</td>\n",
       "      <td>5</td>\n",
       "      <td>NaN</td>\n",
       "      <td>NaN</td>\n",
       "      <td>[0.4164097, -0.08599207, 0.47052434, 0.0748240...</td>\n",
       "    </tr>\n",
       "  </tbody>\n",
       "</table>\n",
       "<p>2246197 rows × 9 columns</p>\n",
       "</div>"
      ],
      "text/plain": [
       "         comment_id  ...                                          embedding\n",
       "0        t1_cnas9ff  ...  [0.5381297, -0.54031277, 0.13767713, -0.095491...\n",
       "1        t1_cnas9x6  ...  [0.43956858, -0.21414988, 0.42878044, -0.32420...\n",
       "2        t1_cnasah5  ...  [0.96748143, -0.1055006, 0.48201615, 0.0048234...\n",
       "3        t1_cnasbs5  ...  [0.25584427, -0.22948052, 0.10761949, 0.386675...\n",
       "4        t1_cnasdod  ...  [0.6324088, -0.40858707, 0.18608184, 0.4592992...\n",
       "...             ...  ...                                                ...\n",
       "2246192  t1_ds0hqje  ...  [0.20495805, -0.25358975, 0.12766218, 0.471225...\n",
       "2246193  t1_ds0iilq  ...  [0.17136218, -0.10184177, 0.18469058, -0.87096...\n",
       "2246194  t1_ds0knuc  ...  [0.88141567, 0.43783012, 0.5899108, -0.3401282...\n",
       "2246195  t1_ds0mavn  ...  [0.980688, -0.003128145, 0.3753359, 0.2810522,...\n",
       "2246196  t1_ds0mkdq  ...  [0.4164097, -0.08599207, 0.47052434, 0.0748240...\n",
       "\n",
       "[2246197 rows x 9 columns]"
      ]
     },
     "execution_count": 9,
     "metadata": {
      "tags": []
     },
     "output_type": "execute_result"
    }
   ],
   "source": [
    "comments_df"
   ]
  },
  {
   "cell_type": "code",
   "execution_count": null,
   "metadata": {
    "colab": {
     "base_uri": "https://localhost:8080/",
     "height": 35
    },
    "id": "awybCrklBZzW",
    "outputId": "87597459-bc68-43e2-bc28-4cd776f0b8ef"
   },
   "outputs": [
    {
     "data": {
      "text/plain": [
       "2246197"
      ]
     },
     "execution_count": 12,
     "metadata": {
      "tags": []
     },
     "output_type": "execute_result"
    }
   ],
   "source": [
    "len(comments_df)"
   ]
  },
  {
   "cell_type": "markdown",
   "metadata": {
    "id": "DH6TZfuDGv6B"
   },
   "source": [
    "посчитаем косинусные расстояния"
   ]
  },
  {
   "cell_type": "code",
   "execution_count": null,
   "metadata": {
    "colab": {
     "base_uri": "https://localhost:8080/",
     "height": 35
    },
    "id": "f5BaFIqnFbwa",
    "outputId": "4c247f14-bc61-4d7c-ae6f-25313c4f3d6e"
   },
   "outputs": [
    {
     "name": "stderr",
     "output_type": "stream",
     "text": [
      "100%|██████████| 2246197/2246197 [58:25<00:00, 640.70it/s]\n"
     ]
    }
   ],
   "source": [
    "scores = list()\n",
    "for vec in tqdm(comments_df.embedding, position=0, leave=True):\n",
    "  tmp = list()\n",
    "  for ref_vec in ref_vecs:    \n",
    "    tmp.append(1 - spatial.distance.cosine(vec, ref_vec))\n",
    "  \n",
    "  scores.append(max(tmp))"
   ]
  },
  {
   "cell_type": "markdown",
   "metadata": {
    "id": "F22O1XMNGzG_"
   },
   "source": [
    "И добавим их к нашим данным"
   ]
  },
  {
   "cell_type": "code",
   "execution_count": null,
   "metadata": {
    "id": "YoUlEJl6Fcnb"
   },
   "outputs": [],
   "source": [
    "comments_df[\"similarity\"] = scores\n",
    "del(tmp)\n",
    "del(scores)"
   ]
  },
  {
   "cell_type": "code",
   "execution_count": null,
   "metadata": {
    "colab": {
     "base_uri": "https://localhost:8080/",
     "height": 1000
    },
    "id": "cFG8hMfXFcqV",
    "outputId": "c3d228d0-1625-4072-ca6f-428df095e002"
   },
   "outputs": [
    {
     "data": {
      "text/plain": [
       "array(['BrawnyJava', 'redwhiskeredbubul', 'cassander', 'JohnnyBeagle',\n",
       "       'eletheros', 'Quetzalcoatls', 'down42roads', 'GEAUXUL',\n",
       "       'PubliusPontifex', 'mrhymer', 'TitoTheMidget', 'ClockOfTheLongNow',\n",
       "       'Nonsanguinity', 'teddilicious', 'Vayate', 'repmack',\n",
       "       'thatnameagain', 'RoundSimbacca', 'Trot1217', 'krabbby',\n",
       "       'zoidberg1339', 'imrightandyoutknowit', 'houinator', 'bartink',\n",
       "       'DevonWeeks', 'looklistencreate', 'yoda133113', 'mrbobsthegreat',\n",
       "       'BagOnuts', 'bit99', 'bookerevan', 'joecity856', 'DarthGinger',\n",
       "       'prizepig', 'Sam_Munhi', 'CarolinaPunk', 'Fuckdabullshit',\n",
       "       'CrapNeck5000', 'tomanonimos', 'decatur8r', 'buffalo_pete',\n",
       "       'cantletthatstand', 'Quierochurros', 'kanklesonmybreath',\n",
       "       'bleahdeebleah', 'gaviidae', 'RogueLeaderJ', 'urnbabyurn',\n",
       "       'lannister80', 'Gnome_Sane', 'GrandEthos', 'cipahs', 'noelsusman',\n",
       "       'Ambiwlans', 'Frostiken', 'zaron5551', 'iliveintexas', 'Gonzzzo',\n",
       "       'PyreDruid', 'kerouacrimbaud', 'matts2', 'kingvitaman',\n",
       "       'RushAndAttack', 'mcapello', 'IUhoosier_KCCO', 'Lite-brite',\n",
       "       'PARK_THE_BUS', 'ultimis', 'awa64', 'slam7211', 'stripes_by_proxy',\n",
       "       'WhiteyDude', 'Miskellaneousness', 'evanb_', 'rstcp', 'TheChange1',\n",
       "       'Phunk131', 'RollofDuctTape', 'Fuzzyphilosopher', 'pjabrony',\n",
       "       'Yosarian2', 'MeowTheMixer', 'gprime', 'molotoviphone',\n",
       "       'TeddysBigStick', 'TsarPerhaps', 'Memetic1', 'ZenerDiod',\n",
       "       'TracyMorganFreeman', 'Dynamaxion', 'dubalubdub',\n",
       "       'TheInternetHivemind', 'ben1204', 'BKGPrints', 'KabIoski',\n",
       "       'Dennis_Wangley', 'the_sam_ryan', 'Daedalus1907', 'Cycloptichorn',\n",
       "       'Sollexs', 'yankeesyes', 'allmilhouse', 'Braver_Incident',\n",
       "       'KeyzerSozee', 'Mrgoodtrips64', 'bluecamel2015', 'XooDumbLuckooX',\n",
       "       'hitbyacar1', 'BoiseNTheHood', 'StudentofDuckworth', 'Foxtrot56',\n",
       "       'RECIPR0C1TY', 'SapCPark', 'heisgone', 'intravenus_de_milo',\n",
       "       'RationalRattachist', 'clkou', 'CompactedConscience', 'GTFErinyes',\n",
       "       'rikross22', 'dfaraci', 'Precursor2552', 'Old_Army90',\n",
       "       'Velvetrose-2', 'secondsbest', 'antimarkovnikov', 'balorina',\n",
       "       'TheNaBr', 'Feurbach_sock', 'Dr_Eam', 'alexmikli', 'goethean',\n",
       "       'PerfectSociety', 'deadlast', 'terminator3456', 'lollersauce914',\n",
       "       'hatramroany', 'RealBlueShirt', 'ScoobiusMaximus',\n",
       "       'Lambchops_Legion', 'PoppyOncrack', 'birlik54', 'Shotgun_Sentinel',\n",
       "       'Political_Throwawayz', 'linkns86', 'narutouz', 'gbinasia',\n",
       "       'MrIvysaur', 'maddata', 'bergie321', 'presidentparrot',\n",
       "       'TheGreatWolfy', 'Captainobvvious', 'DeHominisDignitate',\n",
       "       'bashar_al_assad', 'Lord_Bubbington', 'suto', 'MCRemix',\n",
       "       'Circumin', 'no-sound_somuch_fury', 'GhostofRFS', 'Starbuckrogers',\n",
       "       'mytimeoutside', '_watching', 'TheDarkShepard',\n",
       "       'CatRelatedUsername', 'xHeero', 'zcleghern', 'onewiseowl',\n",
       "       'somethingratherother', 'desmando', 'Hickle', 'mdude04',\n",
       "       'xxLetheanxx', 'JinxsLover', 'keenan123', 'Isz82', 'Travisdk',\n",
       "       'SixBiscuit', 'Psyduckisnotaduck', 'OccupyGravelpit', 'Tolve',\n",
       "       'Citizen00001', 'jonawesome', 'Valanarch', 'team_satan',\n",
       "       'Donald_T_Rump', 'Marco_Antonio_Rubio', 'studdbeefpile',\n",
       "       'LumpyArryhead', 'kajkajete', 'jckgat', 'lost_send_berries',\n",
       "       'Anxa', '_Bubba_Ho-Tep_', 'JustAnotherNut', 'Time4Red',\n",
       "       'CANOODLING_SOCIOPATH', 'limeade09', 'klug3', 'loki8481', 'FWdem',\n",
       "       'johnmannn', 'AutoModerator', 'spiritcrusher77', 'dudeguyy23',\n",
       "       'CursedNobleman', 'gray1ify', 'Bokononism4Life', 'herticalt',\n",
       "       'eukomos', 'spoiled_generation', 'dbdevil1', 'wellblessherheart',\n",
       "       '2rio2', 'Jewnadian', 'ElCaminoSS396', 'ScottLux', 'eagledog',\n",
       "       'IMPERATOR_TRUMP_2016', 'jimbo831', 'ElvenAshwin', 'WhenX', '0149',\n",
       "       'XSavageWalrusX', 'tuckfrump69', 'piyochama', 'TheGoddamnShrike',\n",
       "       'Santoron', 'row_guy', 'farseer2', 'SandersCantWin', 'ZimZimA1',\n",
       "       'jonesrr', 'S629A', 'takeashill_pill', 'Semperi95', 'Leadback',\n",
       "       'lol-da-mar-s-cool', 'PlayMp1', 'Milskidasith', 'semaphore-1842',\n",
       "       'KingEsjayW', 'YungSnuggie', 'saturninus', 'xjayroox',\n",
       "       'CowboyNinjaAstronaut', 'SolomonBlack', 'Geistbar', 'HappyNazgul',\n",
       "       'artosduhlord', 'BernieSandersBernie', 'TheLongerCon', 'katarh',\n",
       "       'WeyardSun', 'Barack-Obama-', 'wjbc', 'Bradykinn',\n",
       "       'democraticwhre', '-dachande-', 'brod2484', 'cejmp'], dtype=object)"
      ]
     },
     "execution_count": 41,
     "metadata": {
      "tags": []
     },
     "output_type": "execute_result"
    }
   ],
   "source": [
    "#comments_df.author.unique()"
   ]
  },
  {
   "cell_type": "code",
   "execution_count": null,
   "metadata": {
    "id": "OwlZk3HWFc3o"
   },
   "outputs": [],
   "source": [
    "\n",
    "def moving_average(a, n=15):\n",
    "    ret = np.cumsum(a, dtype=float)\n",
    "    ret[n:] = ret[n:] - ret[:-n]\n",
    "    return ret[n - 1:] / n\n"
   ]
  },
  {
   "cell_type": "code",
   "execution_count": null,
   "metadata": {
    "colab": {
     "base_uri": "https://localhost:8080/",
     "height": 54
    },
    "id": "R6glm1a68ocQ",
    "outputId": "202304fd-fea3-47d7-fc80-ff4ab2495f81"
   },
   "outputs": [
    {
     "name": "stdout",
     "output_type": "stream",
     "text": [
      "CPU times: user 5.41 s, sys: 209 ms, total: 5.62 s\n",
      "Wall time: 5.66 s\n"
     ]
    }
   ],
   "source": [
    "%%time\n",
    "comments_df_sorted = comments_df.sort_values(by=['author'],ignore_index=True,kind='mergesort')"
   ]
  },
  {
   "cell_type": "code",
   "execution_count": null,
   "metadata": {
    "colab": {
     "base_uri": "https://localhost:8080/",
     "height": 424
    },
    "id": "nopmXh5BOxua",
    "outputId": "2e70d844-7453-4aaf-cd1b-6b0ec2fe5fb8"
   },
   "outputs": [
    {
     "data": {
      "text/html": [
       "<div>\n",
       "<style scoped>\n",
       "    .dataframe tbody tr th:only-of-type {\n",
       "        vertical-align: middle;\n",
       "    }\n",
       "\n",
       "    .dataframe tbody tr th {\n",
       "        vertical-align: top;\n",
       "    }\n",
       "\n",
       "    .dataframe thead th {\n",
       "        text-align: right;\n",
       "    }\n",
       "</style>\n",
       "<table border=\"1\" class=\"dataframe\">\n",
       "  <thead>\n",
       "    <tr style=\"text-align: right;\">\n",
       "      <th></th>\n",
       "      <th>comment_id</th>\n",
       "      <th>created_utc</th>\n",
       "      <th>author</th>\n",
       "      <th>body</th>\n",
       "      <th>parent_id</th>\n",
       "      <th>score</th>\n",
       "      <th>ups</th>\n",
       "      <th>downs</th>\n",
       "      <th>embedding</th>\n",
       "      <th>similarity</th>\n",
       "    </tr>\n",
       "  </thead>\n",
       "  <tbody>\n",
       "    <tr>\n",
       "      <th>0</th>\n",
       "      <td>t1_czc0ikm</td>\n",
       "      <td>1453774185</td>\n",
       "      <td>---FARTS---</td>\n",
       "      <td>Who are you to say someone should not have 1 b...</td>\n",
       "      <td>t1_czbvuip</td>\n",
       "      <td>-1</td>\n",
       "      <td>NaN</td>\n",
       "      <td>NaN</td>\n",
       "      <td>[0.364648, 0.19028972, -0.5225009, 0.003893817...</td>\n",
       "      <td>0.548043</td>\n",
       "    </tr>\n",
       "    <tr>\n",
       "      <th>1</th>\n",
       "      <td>t1_czc3fxy</td>\n",
       "      <td>1453778368</td>\n",
       "      <td>---FARTS---</td>\n",
       "      <td>Someone who do not rent seek to amass his rich...</td>\n",
       "      <td>t1_czc2a3h</td>\n",
       "      <td>-1</td>\n",
       "      <td>NaN</td>\n",
       "      <td>NaN</td>\n",
       "      <td>[0.6181175, 0.51973957, 0.07944352, 0.01198557...</td>\n",
       "      <td>0.745930</td>\n",
       "    </tr>\n",
       "    <tr>\n",
       "      <th>2</th>\n",
       "      <td>t1_czc6xoe</td>\n",
       "      <td>1453783873</td>\n",
       "      <td>---FARTS---</td>\n",
       "      <td>I think if he went after reforming k-12, it mi...</td>\n",
       "      <td>t1_czc0xge</td>\n",
       "      <td>1</td>\n",
       "      <td>NaN</td>\n",
       "      <td>NaN</td>\n",
       "      <td>[0.4652696, -0.20707038, 0.3970483, -0.2931052...</td>\n",
       "      <td>0.675330</td>\n",
       "    </tr>\n",
       "    <tr>\n",
       "      <th>3</th>\n",
       "      <td>t1_czc7947</td>\n",
       "      <td>1453784466</td>\n",
       "      <td>---FARTS---</td>\n",
       "      <td>Steven Levitt, the economist, found that doubl...</td>\n",
       "      <td>t3_42p02n</td>\n",
       "      <td>3</td>\n",
       "      <td>NaN</td>\n",
       "      <td>NaN</td>\n",
       "      <td>[0.636587, 1.215122, 0.0923826, -0.51447684, -...</td>\n",
       "      <td>0.661649</td>\n",
       "    </tr>\n",
       "    <tr>\n",
       "      <th>4</th>\n",
       "      <td>t1_czc7g6w</td>\n",
       "      <td>1453784830</td>\n",
       "      <td>---FARTS---</td>\n",
       "      <td>If trump can beat up Vince McMahon, he can bea...</td>\n",
       "      <td>t1_czbrgy3</td>\n",
       "      <td>4</td>\n",
       "      <td>NaN</td>\n",
       "      <td>NaN</td>\n",
       "      <td>[0.629572, 0.7723499, 0.619936, 0.4067976, -0....</td>\n",
       "      <td>0.778321</td>\n",
       "    </tr>\n",
       "    <tr>\n",
       "      <th>...</th>\n",
       "      <td>...</td>\n",
       "      <td>...</td>\n",
       "      <td>...</td>\n",
       "      <td>...</td>\n",
       "      <td>...</td>\n",
       "      <td>...</td>\n",
       "      <td>...</td>\n",
       "      <td>...</td>\n",
       "      <td>...</td>\n",
       "      <td>...</td>\n",
       "    </tr>\n",
       "    <tr>\n",
       "      <th>2246192</th>\n",
       "      <td>t1_cyjjhk5</td>\n",
       "      <td>1451762420</td>\n",
       "      <td>zzzzz94</td>\n",
       "      <td>lol?\\n\\nwhat, economists are shills? theory do...</td>\n",
       "      <td>t1_cyjhz3o</td>\n",
       "      <td>1</td>\n",
       "      <td>NaN</td>\n",
       "      <td>NaN</td>\n",
       "      <td>[0.306383, -0.9594552, 0.37613645, -0.5780148,...</td>\n",
       "      <td>0.663339</td>\n",
       "    </tr>\n",
       "    <tr>\n",
       "      <th>2246193</th>\n",
       "      <td>t1_cyjocoh</td>\n",
       "      <td>1451771086</td>\n",
       "      <td>zzzzz94</td>\n",
       "      <td>it doesn't have to be massive, unemployment al...</td>\n",
       "      <td>t1_cyjm709</td>\n",
       "      <td>1</td>\n",
       "      <td>NaN</td>\n",
       "      <td>NaN</td>\n",
       "      <td>[0.8586203, 0.2983545, 0.3199491, -0.27288535,...</td>\n",
       "      <td>0.783035</td>\n",
       "    </tr>\n",
       "    <tr>\n",
       "      <th>2246194</th>\n",
       "      <td>t1_cyjof9h</td>\n",
       "      <td>1451771215</td>\n",
       "      <td>zzzzz94</td>\n",
       "      <td>I agree with subsidizing higher education, jus...</td>\n",
       "      <td>t1_cyjle7u</td>\n",
       "      <td>3</td>\n",
       "      <td>NaN</td>\n",
       "      <td>NaN</td>\n",
       "      <td>[0.47667968, -0.48178452, 0.64299953, -0.23871...</td>\n",
       "      <td>0.724583</td>\n",
       "    </tr>\n",
       "    <tr>\n",
       "      <th>2246195</th>\n",
       "      <td>t1_cyjoi90</td>\n",
       "      <td>1451771361</td>\n",
       "      <td>zzzzz94</td>\n",
       "      <td>No, they don't. At least understand what you a...</td>\n",
       "      <td>t1_cyjjl4p</td>\n",
       "      <td>1</td>\n",
       "      <td>NaN</td>\n",
       "      <td>NaN</td>\n",
       "      <td>[0.8072922, -0.3684393, 0.18986604, -0.9913738...</td>\n",
       "      <td>0.693561</td>\n",
       "    </tr>\n",
       "    <tr>\n",
       "      <th>2246196</th>\n",
       "      <td>t1_cyjon9l</td>\n",
       "      <td>1451771606</td>\n",
       "      <td>zzzzz94</td>\n",
       "      <td>economists (Saez and Piketty producing notable...</td>\n",
       "      <td>t3_3z6mc2</td>\n",
       "      <td>6</td>\n",
       "      <td>NaN</td>\n",
       "      <td>NaN</td>\n",
       "      <td>[0.75528085, 0.17315282, 0.40465143, -0.371266...</td>\n",
       "      <td>0.706213</td>\n",
       "    </tr>\n",
       "  </tbody>\n",
       "</table>\n",
       "<p>2246197 rows × 10 columns</p>\n",
       "</div>"
      ],
      "text/plain": [
       "         comment_id  ...  similarity\n",
       "0        t1_czc0ikm  ...    0.548043\n",
       "1        t1_czc3fxy  ...    0.745930\n",
       "2        t1_czc6xoe  ...    0.675330\n",
       "3        t1_czc7947  ...    0.661649\n",
       "4        t1_czc7g6w  ...    0.778321\n",
       "...             ...  ...         ...\n",
       "2246192  t1_cyjjhk5  ...    0.663339\n",
       "2246193  t1_cyjocoh  ...    0.783035\n",
       "2246194  t1_cyjof9h  ...    0.724583\n",
       "2246195  t1_cyjoi90  ...    0.693561\n",
       "2246196  t1_cyjon9l  ...    0.706213\n",
       "\n",
       "[2246197 rows x 10 columns]"
      ]
     },
     "execution_count": 22,
     "metadata": {
      "tags": []
     },
     "output_type": "execute_result"
    }
   ],
   "source": [
    "comments_df_sorted"
   ]
  },
  {
   "cell_type": "markdown",
   "metadata": {
    "id": "T3KeEC3WG6_L"
   },
   "source": [
    "Изобразим больше людей на одном графике. Считается безумно долго, you are welcom to optimize this shit. Если нажмете на \"стоп\" то нарисуется столько, сколько успело посчитаться was 5%|▍         | 153/3391 [4:56:18<106:34:08, 118.48s/it] UPD Ототимизировал это говно!! Теперь на иттерацию 0.02 секунды тратится!"
   ]
  },
  {
   "cell_type": "code",
   "execution_count": null,
   "metadata": {
    "colab": {
     "base_uri": "https://localhost:8080/",
     "height": 1000
    },
    "id": "Ix5Qum8dFcyt",
    "outputId": "db97429f-51e6-4ef7-d53a-f511acdd4ca9"
   },
   "outputs": [
    {
     "name": "stderr",
     "output_type": "stream",
     "text": [
      "  0%|          | 0/5014 [00:00<?, ?it/s]\n"
     ]
    },
    {
     "ename": "AttributeError",
     "evalue": "ignored",
     "output_type": "error",
     "traceback": [
      "\u001b[0;31m---------------------------------------------------------------------------\u001b[0m",
      "\u001b[0;31mAttributeError\u001b[0m                            Traceback (most recent call last)",
      "\u001b[0;32m<ipython-input-27-d2a47da14261>\u001b[0m in \u001b[0;36m<module>\u001b[0;34m()\u001b[0m\n\u001b[1;32m     24\u001b[0m   \u001b[0ms\u001b[0m \u001b[0;34m=\u001b[0m \u001b[0mmoving_average\u001b[0m\u001b[0;34m(\u001b[0m\u001b[0mtimestep\u001b[0m\u001b[0;34m,\u001b[0m \u001b[0mn\u001b[0m\u001b[0;34m=\u001b[0m\u001b[0;36m250\u001b[0m\u001b[0;34m)\u001b[0m\u001b[0;34m\u001b[0m\u001b[0;34m\u001b[0m\u001b[0m\n\u001b[1;32m     25\u001b[0m   \u001b[0mdts\u001b[0m \u001b[0;34m=\u001b[0m \u001b[0mmap\u001b[0m\u001b[0;34m(\u001b[0m\u001b[0mdatetime\u001b[0m\u001b[0;34m.\u001b[0m\u001b[0mdatetime\u001b[0m\u001b[0;34m.\u001b[0m\u001b[0mfromtimestamp\u001b[0m\u001b[0;34m,\u001b[0m \u001b[0ms\u001b[0m\u001b[0;34m)\u001b[0m\u001b[0;34m\u001b[0m\u001b[0;34m\u001b[0m\u001b[0m\n\u001b[0;32m---> 26\u001b[0;31m   \u001b[0mfds\u001b[0m \u001b[0;34m=\u001b[0m \u001b[0mdates\u001b[0m\u001b[0;34m.\u001b[0m\u001b[0mdate2num\u001b[0m\u001b[0;34m(\u001b[0m\u001b[0mdts\u001b[0m\u001b[0;34m)\u001b[0m \u001b[0;31m# converted\u001b[0m\u001b[0;34m\u001b[0m\u001b[0;34m\u001b[0m\u001b[0m\n\u001b[0m\u001b[1;32m     27\u001b[0m   \u001b[0mplt\u001b[0m\u001b[0;34m.\u001b[0m\u001b[0mplot\u001b[0m\u001b[0;34m(\u001b[0m\u001b[0mfds\u001b[0m \u001b[0;34m,\u001b[0m \u001b[0mmoving_average\u001b[0m\u001b[0;34m(\u001b[0m\u001b[0mcoordinats\u001b[0m\u001b[0;34m,\u001b[0m \u001b[0mn\u001b[0m\u001b[0;34m=\u001b[0m\u001b[0;36m250\u001b[0m\u001b[0;34m)\u001b[0m\u001b[0;34m)\u001b[0m\u001b[0;34m\u001b[0m\u001b[0;34m\u001b[0m\u001b[0m\n\u001b[1;32m     28\u001b[0m \u001b[0;34m\u001b[0m\u001b[0m\n",
      "\u001b[0;32m/usr/local/lib/python3.6/dist-packages/matplotlib/dates.py\u001b[0m in \u001b[0;36mdate2num\u001b[0;34m(d)\u001b[0m\n\u001b[1;32m    435\u001b[0m         \u001b[0;32mif\u001b[0m \u001b[0;32mnot\u001b[0m \u001b[0md\u001b[0m\u001b[0;34m.\u001b[0m\u001b[0msize\u001b[0m\u001b[0;34m:\u001b[0m\u001b[0;34m\u001b[0m\u001b[0;34m\u001b[0m\u001b[0m\n\u001b[1;32m    436\u001b[0m             \u001b[0;32mreturn\u001b[0m \u001b[0md\u001b[0m\u001b[0;34m\u001b[0m\u001b[0;34m\u001b[0m\u001b[0m\n\u001b[0;32m--> 437\u001b[0;31m         \u001b[0;32mreturn\u001b[0m \u001b[0m_to_ordinalf_np_vectorized\u001b[0m\u001b[0;34m(\u001b[0m\u001b[0md\u001b[0m\u001b[0;34m)\u001b[0m\u001b[0;34m\u001b[0m\u001b[0;34m\u001b[0m\u001b[0m\n\u001b[0m\u001b[1;32m    438\u001b[0m \u001b[0;34m\u001b[0m\u001b[0m\n\u001b[1;32m    439\u001b[0m \u001b[0;34m\u001b[0m\u001b[0m\n",
      "\u001b[0;32m/usr/local/lib/python3.6/dist-packages/numpy/lib/function_base.py\u001b[0m in \u001b[0;36m__call__\u001b[0;34m(self, *args, **kwargs)\u001b[0m\n\u001b[1;32m   2089\u001b[0m             \u001b[0mvargs\u001b[0m\u001b[0;34m.\u001b[0m\u001b[0mextend\u001b[0m\u001b[0;34m(\u001b[0m\u001b[0;34m[\u001b[0m\u001b[0mkwargs\u001b[0m\u001b[0;34m[\u001b[0m\u001b[0m_n\u001b[0m\u001b[0;34m]\u001b[0m \u001b[0;32mfor\u001b[0m \u001b[0m_n\u001b[0m \u001b[0;32min\u001b[0m \u001b[0mnames\u001b[0m\u001b[0;34m]\u001b[0m\u001b[0;34m)\u001b[0m\u001b[0;34m\u001b[0m\u001b[0;34m\u001b[0m\u001b[0m\n\u001b[1;32m   2090\u001b[0m \u001b[0;34m\u001b[0m\u001b[0m\n\u001b[0;32m-> 2091\u001b[0;31m         \u001b[0;32mreturn\u001b[0m \u001b[0mself\u001b[0m\u001b[0;34m.\u001b[0m\u001b[0m_vectorize_call\u001b[0m\u001b[0;34m(\u001b[0m\u001b[0mfunc\u001b[0m\u001b[0;34m=\u001b[0m\u001b[0mfunc\u001b[0m\u001b[0;34m,\u001b[0m \u001b[0margs\u001b[0m\u001b[0;34m=\u001b[0m\u001b[0mvargs\u001b[0m\u001b[0;34m)\u001b[0m\u001b[0;34m\u001b[0m\u001b[0;34m\u001b[0m\u001b[0m\n\u001b[0m\u001b[1;32m   2092\u001b[0m \u001b[0;34m\u001b[0m\u001b[0m\n\u001b[1;32m   2093\u001b[0m     \u001b[0;32mdef\u001b[0m \u001b[0m_get_ufunc_and_otypes\u001b[0m\u001b[0;34m(\u001b[0m\u001b[0mself\u001b[0m\u001b[0;34m,\u001b[0m \u001b[0mfunc\u001b[0m\u001b[0;34m,\u001b[0m \u001b[0margs\u001b[0m\u001b[0;34m)\u001b[0m\u001b[0;34m:\u001b[0m\u001b[0;34m\u001b[0m\u001b[0;34m\u001b[0m\u001b[0m\n",
      "\u001b[0;32m/usr/local/lib/python3.6/dist-packages/numpy/lib/function_base.py\u001b[0m in \u001b[0;36m_vectorize_call\u001b[0;34m(self, func, args)\u001b[0m\n\u001b[1;32m   2159\u001b[0m             \u001b[0mres\u001b[0m \u001b[0;34m=\u001b[0m \u001b[0mfunc\u001b[0m\u001b[0;34m(\u001b[0m\u001b[0;34m)\u001b[0m\u001b[0;34m\u001b[0m\u001b[0;34m\u001b[0m\u001b[0m\n\u001b[1;32m   2160\u001b[0m         \u001b[0;32melse\u001b[0m\u001b[0;34m:\u001b[0m\u001b[0;34m\u001b[0m\u001b[0;34m\u001b[0m\u001b[0m\n\u001b[0;32m-> 2161\u001b[0;31m             \u001b[0mufunc\u001b[0m\u001b[0;34m,\u001b[0m \u001b[0motypes\u001b[0m \u001b[0;34m=\u001b[0m \u001b[0mself\u001b[0m\u001b[0;34m.\u001b[0m\u001b[0m_get_ufunc_and_otypes\u001b[0m\u001b[0;34m(\u001b[0m\u001b[0mfunc\u001b[0m\u001b[0;34m=\u001b[0m\u001b[0mfunc\u001b[0m\u001b[0;34m,\u001b[0m \u001b[0margs\u001b[0m\u001b[0;34m=\u001b[0m\u001b[0margs\u001b[0m\u001b[0;34m)\u001b[0m\u001b[0;34m\u001b[0m\u001b[0;34m\u001b[0m\u001b[0m\n\u001b[0m\u001b[1;32m   2162\u001b[0m \u001b[0;34m\u001b[0m\u001b[0m\n\u001b[1;32m   2163\u001b[0m             \u001b[0;31m# Convert args to object arrays first\u001b[0m\u001b[0;34m\u001b[0m\u001b[0;34m\u001b[0m\u001b[0;34m\u001b[0m\u001b[0m\n",
      "\u001b[0;32m/usr/local/lib/python3.6/dist-packages/numpy/lib/function_base.py\u001b[0m in \u001b[0;36m_get_ufunc_and_otypes\u001b[0;34m(self, func, args)\u001b[0m\n\u001b[1;32m   2119\u001b[0m \u001b[0;34m\u001b[0m\u001b[0m\n\u001b[1;32m   2120\u001b[0m             \u001b[0minputs\u001b[0m \u001b[0;34m=\u001b[0m \u001b[0;34m[\u001b[0m\u001b[0marg\u001b[0m\u001b[0;34m.\u001b[0m\u001b[0mflat\u001b[0m\u001b[0;34m[\u001b[0m\u001b[0;36m0\u001b[0m\u001b[0;34m]\u001b[0m \u001b[0;32mfor\u001b[0m \u001b[0marg\u001b[0m \u001b[0;32min\u001b[0m \u001b[0margs\u001b[0m\u001b[0;34m]\u001b[0m\u001b[0;34m\u001b[0m\u001b[0;34m\u001b[0m\u001b[0m\n\u001b[0;32m-> 2121\u001b[0;31m             \u001b[0moutputs\u001b[0m \u001b[0;34m=\u001b[0m \u001b[0mfunc\u001b[0m\u001b[0;34m(\u001b[0m\u001b[0;34m*\u001b[0m\u001b[0minputs\u001b[0m\u001b[0;34m)\u001b[0m\u001b[0;34m\u001b[0m\u001b[0;34m\u001b[0m\u001b[0m\n\u001b[0m\u001b[1;32m   2122\u001b[0m \u001b[0;34m\u001b[0m\u001b[0m\n\u001b[1;32m   2123\u001b[0m             \u001b[0;31m# Performance note: profiling indicates that -- for simple\u001b[0m\u001b[0;34m\u001b[0m\u001b[0;34m\u001b[0m\u001b[0;34m\u001b[0m\u001b[0m\n",
      "\u001b[0;32m/usr/local/lib/python3.6/dist-packages/matplotlib/dates.py\u001b[0m in \u001b[0;36m_to_ordinalf\u001b[0;34m(dt)\u001b[0m\n\u001b[1;32m    220\u001b[0m         \u001b[0mtzi\u001b[0m \u001b[0;34m=\u001b[0m \u001b[0mUTC\u001b[0m\u001b[0;34m\u001b[0m\u001b[0;34m\u001b[0m\u001b[0m\n\u001b[1;32m    221\u001b[0m \u001b[0;34m\u001b[0m\u001b[0m\n\u001b[0;32m--> 222\u001b[0;31m     \u001b[0mbase\u001b[0m \u001b[0;34m=\u001b[0m \u001b[0mfloat\u001b[0m\u001b[0;34m(\u001b[0m\u001b[0mdt\u001b[0m\u001b[0;34m.\u001b[0m\u001b[0mtoordinal\u001b[0m\u001b[0;34m(\u001b[0m\u001b[0;34m)\u001b[0m\u001b[0;34m)\u001b[0m\u001b[0;34m\u001b[0m\u001b[0;34m\u001b[0m\u001b[0m\n\u001b[0m\u001b[1;32m    223\u001b[0m \u001b[0;34m\u001b[0m\u001b[0m\n\u001b[1;32m    224\u001b[0m     \u001b[0;31m# If it's sufficiently datetime-like, it will have a `date()` method\u001b[0m\u001b[0;34m\u001b[0m\u001b[0;34m\u001b[0m\u001b[0;34m\u001b[0m\u001b[0m\n",
      "\u001b[0;31mAttributeError\u001b[0m: 'map' object has no attribute 'toordinal'"
     ]
    },
    {
     "data": {
      "image/png": "[encoded data removed]",
      "text/plain": [
       "<Figure size 8640x5184 with 1 Axes>"
      ]
     },
     "metadata": {
      "needs_background": "light",
      "tags": []
     },
     "output_type": "display_data"
    }
   ],
   "source": [
    "fig1 = plt.figure(figsize=(60, 35))\n",
    "from matplotlib import dates\n",
    "import datetime\n",
    "\n",
    "occurrences = dict(comments_df_sorted.author.value_counts())\n",
    "\n",
    "ax1 = fig1.add_subplot()\n",
    "colormap = plt.cm.gist_ncar #nipy_spectral, Set1,Paired   \n",
    "colors = [colormap(i) for i in np.linspace(0, 1,len(ax1.lines))]\n",
    "for i,j in enumerate(ax1.lines):\n",
    "    j.set_color(colors[i])\n",
    "\n",
    "Start_from = 0\n",
    "for user in tqdm(sorted(occurrences.keys()), position=0, leave=True):\n",
    "  coordinats = list()\n",
    "  timestep = list()\n",
    "  \n",
    "  for index, row in comments_df_sorted.iloc[Start_from: Start_from+occurrences[user]].iterrows():\n",
    "    coordinats.append(row.similarity)\n",
    "    timestep.append(row.created_utc)\n",
    "\n",
    "  Start_from += occurrences[user]\n",
    "\n",
    "  s = timestep #moving_average(timestep, n=250) #Плохо среднее по времени считать\n",
    "  dts = map(datetime.datetime.fromtimestamp, s)\n",
    "  plt.plot(dts, moving_average(coordinats, n=250))\n",
    "\n",
    "\n",
    "plt.show()"
   ]
  },
  {
   "cell_type": "code",
   "execution_count": null,
   "metadata": {
    "colab": {
     "base_uri": "https://localhost:8080/",
     "height": 1000
    },
    "id": "I08in3HeV5MW",
    "outputId": "0a93d201-64f3-40bb-911b-d534d0afeea4"
   },
   "outputs": [
    {
     "data": {
      "text/plain": [
       "('---FARTS---',\n",
       " '-3VP',\n",
       " '-GregTheGreat-',\n",
       " '-Hellfire-',\n",
       " '-Not-An-Alt-',\n",
       " '-Pasha-',\n",
       " '-Seraph',\n",
       " '-WPD-',\n",
       " '-____--__________---',\n",
       " '-kilo-',\n",
       " '0149',\n",
       " '0mni42',\n",
       " '10z20Luka',\n",
       " '12broombroom',\n",
       " '12nebulafox',\n",
       " '130911256MAN',\n",
       " '1357anon',\n",
       " '19cs',\n",
       " '1pct',\n",
       " '1sagas1',\n",
       " '2015MVP',\n",
       " '20_TwentyTwo',\n",
       " '277375400',\n",
       " '2k16throwaway',\n",
       " '2rio2',\n",
       " '311MD',\n",
       " '360-No-Stump',\n",
       " '3_headed_dragon',\n",
       " '42696',\n",
       " '44Mrjiggles',\n",
       " '4chanslashpol',\n",
       " '4x4lo8o',\n",
       " '585AM',\n",
       " '59179',\n",
       " '5DNY',\n",
       " '5passports',\n",
       " '6ickle',\n",
       " '7457431095',\n",
       " '7Architects',\n",
       " '80lbsdown',\n",
       " '8llllllllllllD----',\n",
       " '91_1LE_',\n",
       " '97jerfos20432',\n",
       " '9Eaero',\n",
       " 'ABSOLUTELY__BASED',\n",
       " 'AGuerrilla',\n",
       " 'AHCretin',\n",
       " 'AHSfav',\n",
       " 'AKR44',\n",
       " 'AMatterofTrust',\n",
       " 'ANegroNamedBreaker',\n",
       " 'AOBCD-8663',\n",
       " 'ATryHardTaco',\n",
       " 'A_A_lewis_',\n",
       " 'A_Crabby_Patty',\n",
       " 'A_Night_Owl',\n",
       " 'A_Real_Knucklehead',\n",
       " 'AccordionORama',\n",
       " 'Account115',\n",
       " 'AceOfSpades70',\n",
       " 'ActualSpiders',\n",
       " 'AdamsBellyButton',\n",
       " 'AdwokatDiabel',\n",
       " 'Aegean',\n",
       " 'AeliusGalenus',\n",
       " 'Afflo',\n",
       " 'Agallion',\n",
       " 'AgentElman',\n",
       " 'Ahmon',\n",
       " 'AintNobodyGotTime89',\n",
       " 'AlBundyJr',\n",
       " 'AlbertR7',\n",
       " 'AlecBergHouseman',\n",
       " 'AlexisDeTocqueville',\n",
       " 'AliasHandler',\n",
       " 'Alphadude007',\n",
       " 'AltAccount4862',\n",
       " 'Amarkov',\n",
       " 'Ambiwlans',\n",
       " 'AmericanSk3ptic',\n",
       " 'AmoebaMan',\n",
       " 'Ampage86',\n",
       " 'Ampersand2568',\n",
       " 'AnOutSpokenRedhead',\n",
       " 'AndreKnickatina',\n",
       " 'AndrewFlash',\n",
       " 'Anomaj',\n",
       " 'AnthemIcarus',\n",
       " 'Antigonus1i',\n",
       " 'Anxa',\n",
       " 'AoE-Priest',\n",
       " 'ApokalypseCow',\n",
       " 'Ariadnepyanfar',\n",
       " 'Arsenic99',\n",
       " 'Arthur_Edens',\n",
       " 'AskanceOtter',\n",
       " 'Askew123',\n",
       " 'Aspid07',\n",
       " 'AssCalloway',\n",
       " 'Assailant_TLD',\n",
       " 'Asshole_Salad',\n",
       " 'Atheia',\n",
       " 'AtoZZZ',\n",
       " 'AtomicKoala',\n",
       " 'Atraktape',\n",
       " 'AuditorTux',\n",
       " 'Aumah',\n",
       " 'Aurailious',\n",
       " 'Aureliamnissan',\n",
       " 'AureliusTheLiberator',\n",
       " 'Auriono',\n",
       " 'Austinpike446',\n",
       " 'AuthorizedWayne',\n",
       " 'AutoModerator',\n",
       " 'AwesomeScreenName',\n",
       " 'Awesometom100',\n",
       " 'Axdek',\n",
       " 'AzazelsAdvocate',\n",
       " 'Aziide',\n",
       " 'AzoriusAnarchist',\n",
       " 'B0pp0',\n",
       " 'B4SSF4C3',\n",
       " 'B8B88B8',\n",
       " 'BDB_JCD',\n",
       " 'BKGPrints',\n",
       " 'BUSean',\n",
       " 'BUbears17',\n",
       " 'BackOff_ImAScientist',\n",
       " 'Badgerisbest',\n",
       " 'BagOnuts',\n",
       " 'Bamfatheon',\n",
       " 'Bamont',\n",
       " 'Bananawamajama',\n",
       " 'Bannakaffalatta1',\n",
       " 'BarcodeNinja',\n",
       " 'Barefoot_Raphsode',\n",
       " 'Barking_at_the_Moon',\n",
       " 'Barology',\n",
       " 'BartWellingtonson',\n",
       " 'Based_Talos',\n",
       " 'BashAtTheBeach96',\n",
       " 'BassBeerNBabes',\n",
       " 'BassmanBiff',\n",
       " 'Bassoon_Commie',\n",
       " 'BatCountry9',\n",
       " 'BatCountryTourist',\n",
       " 'BaylorNinja',\n",
       " 'BaylorYou',\n",
       " 'Bayoris',\n",
       " 'Bbxf3',\n",
       " 'BeamZZX',\n",
       " 'BeardedForHerPleasur',\n",
       " 'BeartrapSandwich',\n",
       " 'BeatArmy99',\n",
       " 'BeingDS',\n",
       " 'Beloson',\n",
       " 'Belrox',\n",
       " 'BenCampbell01',\n",
       " 'BenMcLean',\n",
       " 'Ben_Afflock',\n",
       " 'BerkshireHathaway-',\n",
       " 'Bernie_Brewer',\n",
       " 'BevansDesign',\n",
       " 'Bicit',\n",
       " 'BigStereotype',\n",
       " 'BiggChicken',\n",
       " 'Bigred2989',\n",
       " 'Bitterestvet',\n",
       " 'Biwin',\n",
       " 'Black__Hand',\n",
       " 'Blackwidow20',\n",
       " 'Blarglephish',\n",
       " 'BlindManBaldwin',\n",
       " 'Blues88',\n",
       " 'Bman0921',\n",
       " 'Bob_Bobinson',\n",
       " 'BoiseNTheHood',\n",
       " 'Bokononism4Life',\n",
       " 'BolshevikMuppet',\n",
       " 'BongHits4AquaBuddha',\n",
       " 'Bongfu',\n",
       " 'Books_and_Cleverness',\n",
       " 'BookwormSkates',\n",
       " 'BooperOne',\n",
       " 'BoozeoisPig',\n",
       " 'Bounds_On_Decay',\n",
       " 'BraveSneelock',\n",
       " 'Braver_Incident',\n",
       " 'BrawnyJava',\n",
       " 'BrazilianRider',\n",
       " 'BrettG10',\n",
       " 'Brettster',\n",
       " 'BrianSharpay',\n",
       " 'Bricktop72',\n",
       " 'BriggsOps',\n",
       " 'BringtheBantz',\n",
       " 'Brodo00095',\n",
       " 'Brutally-Honest-',\n",
       " 'BrutePhysics',\n",
       " 'BuckminsterJones',\n",
       " 'Buffalo_Danger',\n",
       " 'BulletsForBigots',\n",
       " 'Burial4TetThomYorke',\n",
       " 'BurmecianSoldierDan',\n",
       " 'Burn-Account',\n",
       " 'BurningWithSanders',\n",
       " 'BusinessCat88',\n",
       " 'ButtnakedSoviet',\n",
       " 'ByronicPhoenix',\n",
       " 'CANOODLING_SOCIOPATH',\n",
       " 'CAPS_4_FUN',\n",
       " 'CBud',\n",
       " 'CDC_',\n",
       " 'CQME',\n",
       " 'CUDawg30',\n",
       " 'Cakeob',\n",
       " 'Calabrel',\n",
       " 'Callox',\n",
       " 'CamlinDomino88',\n",
       " 'Canadian_Weatherman',\n",
       " 'Cap3127',\n",
       " 'Captain_Clark',\n",
       " 'Captain_Unremarkable',\n",
       " 'Captainobvvious',\n",
       " 'CardinalM1',\n",
       " 'Carlos_Danger',\n",
       " 'CarolinaPunk',\n",
       " 'CarpeCarp',\n",
       " 'Carthradge',\n",
       " 'CaspianX2',\n",
       " 'Castor1234',\n",
       " 'CatRelatedUsername',\n",
       " 'CecilKantPicard',\n",
       " 'Ch3mee',\n",
       " 'ChainChompsky',\n",
       " 'ChainedDog',\n",
       " 'ChanHoJurassicPark',\n",
       " 'ChannelSERFER',\n",
       " 'CheapBeer',\n",
       " 'Cheeriohz',\n",
       " 'CheezitsAreMyLife',\n",
       " 'Chemspiration',\n",
       " 'CherryBoyRapRiot',\n",
       " 'ChewyLouis',\n",
       " 'ChipotleFire',\n",
       " 'Chipzzz',\n",
       " 'ChocolateGiddyUppp',\n",
       " 'Chris_Wells_95',\n",
       " 'ChronaMewX',\n",
       " 'ChronicYonik',\n",
       " 'Chubbybrownbear',\n",
       " 'Chucctastic',\n",
       " 'Cindernubblebutt',\n",
       " 'CircumcisedCats',\n",
       " 'Circumin',\n",
       " 'Citizen00001',\n",
       " 'Classically_Liberal2',\n",
       " 'ClimateMom',\n",
       " 'ClockOfTheLongNow',\n",
       " 'Clutter',\n",
       " 'CmdrMobium',\n",
       " 'Cockdieselallthetime',\n",
       " 'CodenameLunar',\n",
       " 'CodenameMolotov',\n",
       " 'Cold-Hotman',\n",
       " 'ColdHotCool',\n",
       " 'CollaWars',\n",
       " 'Commisar',\n",
       " 'CommodorePiri',\n",
       " 'Commodore_Obvious',\n",
       " 'CompactedConscience',\n",
       " 'Composite9',\n",
       " 'ComradeNapolein',\n",
       " 'ConspiracyCorners',\n",
       " 'ConstantJoe',\n",
       " 'Cookie-Damage',\n",
       " 'CornCobbDouglas',\n",
       " 'CornyHoosier',\n",
       " 'Corranus',\n",
       " 'Couch_Attack',\n",
       " 'CouncilmanDexhart',\n",
       " 'CowardiceNSandwiches',\n",
       " 'CptJesusSoulPatrol',\n",
       " 'CrapNeck5000',\n",
       " 'CriztianS',\n",
       " 'Crossfiyah',\n",
       " 'Cuddles_theBear',\n",
       " 'Cuddlyaxe',\n",
       " 'CuilRunnings',\n",
       " 'Cultjam',\n",
       " 'CunningAllusionment',\n",
       " 'CursedNobleman',\n",
       " 'CutOffUrJohnson',\n",
       " 'Cutlasss',\n",
       " 'CyborgOtter',\n",
       " 'Cycloptichorn',\n",
       " 'Cycloptichornclown',\n",
       " 'D0CT0R_LEG1T',\n",
       " 'DDCDT123',\n",
       " 'DFP_',\n",
       " 'DJPortlane',\n",
       " 'DYMAXIONman',\n",
       " 'DaSuHouse',\n",
       " 'Da_Penetrator',\n",
       " 'Daedalus1907',\n",
       " 'DagwoodWoo',\n",
       " 'Daigotsu',\n",
       " 'DailyFrance69',\n",
       " 'Danielfair',\n",
       " 'Dark-Ulfberht',\n",
       " 'DarkAvenger12',\n",
       " 'DarkSideActual',\n",
       " 'DarrenX',\n",
       " 'DarthGinger',\n",
       " 'Dave1962',\n",
       " 'DavidlikesPeace',\n",
       " 'DaystarEld',\n",
       " 'DazeLost',\n",
       " 'DeHominisDignitate',\n",
       " 'DeShawnThordason',\n",
       " 'DeSoulis',\n",
       " 'DeaconNuno',\n",
       " 'DeadMonkey321',\n",
       " 'DeafandMutePenguin',\n",
       " 'DearKC',\n",
       " 'Debageldond',\n",
       " 'DeeJayGeezus',\n",
       " 'Deep-Thought',\n",
       " 'DefaultProphet',\n",
       " 'Deggit',\n",
       " 'DehydreJones',\n",
       " 'Dejahthoris22',\n",
       " 'DejectedHead',\n",
       " 'Delsana',\n",
       " 'Demigryph_Knight',\n",
       " 'DemocratsCantBRacist',\n",
       " 'Dennis_Langley',\n",
       " 'Dennis_Wangley',\n",
       " 'DescartesTheater',\n",
       " 'Destro_Destroyer',\n",
       " 'DevonWeeks',\n",
       " 'Didalectic',\n",
       " 'DieGo2SHAE',\n",
       " 'DieSowjetZwiebel',\n",
       " 'Dino_Danny_Boy',\n",
       " 'DirichletIndicator',\n",
       " 'DisgracedCubFan',\n",
       " 'Disgruntled_Old_Trot',\n",
       " 'Dishonoreduser',\n",
       " 'Divio42',\n",
       " 'Djzongreethesecond',\n",
       " 'DoAsTheyWish',\n",
       " 'DoctorDrakin',\n",
       " 'DoctorWinstonOBoogie',\n",
       " 'Doctor_Worm',\n",
       " 'Dogdays991',\n",
       " 'Donald_T_Rump',\n",
       " 'DontRunReds',\n",
       " 'DoorFrame',\n",
       " 'Dorfidiot',\n",
       " 'DoxxingShillDownvote',\n",
       " 'DrBrotato',\n",
       " 'Dr_Eam',\n",
       " 'Dr__Nick',\n",
       " 'Dracomarine',\n",
       " 'Dracula7899',\n",
       " 'Dracula_in_Auschwitz',\n",
       " 'DragonflyRider',\n",
       " 'DramShopLaw',\n",
       " 'Drayzen',\n",
       " 'DreadfulRauw',\n",
       " 'DrunkFern',\n",
       " 'Duck_Puncher',\n",
       " 'Dugen',\n",
       " 'Duke_of_Moral_Hazard',\n",
       " 'Dvorac',\n",
       " 'DwarvenPirate',\n",
       " 'Dwychwder',\n",
       " 'Dynamaxion',\n",
       " 'E-rockComment',\n",
       " 'EMPEROR_TRUMP_2016',\n",
       " 'EPOSZ',\n",
       " 'EUPW',\n",
       " 'Earl_Harbinger',\n",
       " 'EatHumans',\n",
       " 'Eazy-Eid',\n",
       " 'EchelonHD',\n",
       " 'EdmundRice',\n",
       " 'Einsteinsmooostache',\n",
       " 'ElCaminoSS396',\n",
       " 'ElLibroGrande',\n",
       " 'Elder_Yautja',\n",
       " 'Elektguitarz',\n",
       " 'Elliptical_Tangent',\n",
       " 'ElvenAshwin',\n",
       " 'EmperorMarcus',\n",
       " 'En_lighten',\n",
       " 'EngineerDave',\n",
       " 'EntroperZero',\n",
       " 'Entropius',\n",
       " 'Enturk',\n",
       " 'EpicFlyingCat',\n",
       " 'EpicRedditor34',\n",
       " 'EqualOrLessThan2',\n",
       " 'EquatiusGlacierstein',\n",
       " 'EraticA',\n",
       " 'Eroticawriter4',\n",
       " 'Eternally65',\n",
       " 'Ethiconjnj',\n",
       " 'ExPerseides',\n",
       " 'F22Rapture',\n",
       " 'F90',\n",
       " 'FLSun',\n",
       " 'FWdem',\n",
       " 'FacelessBureaucrat',\n",
       " 'Faps2Down_Votes',\n",
       " 'FarawayFairways',\n",
       " 'Fargason',\n",
       " 'FatCatFart',\n",
       " 'FatSoccerMan',\n",
       " 'FeakyDeakyDude',\n",
       " 'Fedelede',\n",
       " 'Felinomancy',\n",
       " 'Feurbach_sock',\n",
       " 'Fevers_and_Mirrors',\n",
       " 'Fidodo',\n",
       " 'FinickyPenance',\n",
       " 'FinnSolomon',\n",
       " 'Finnegan482',\n",
       " 'FireFoxG',\n",
       " 'FireNexus',\n",
       " 'FlareCorran',\n",
       " 'FlounderBasket',\n",
       " 'FluentInTypo',\n",
       " 'FlyingApple31',\n",
       " 'FlyingFailure',\n",
       " 'FlyingFistsOfFury',\n",
       " 'ForeignPolicyHawk',\n",
       " 'Foxtrot56',\n",
       " 'Fozzz',\n",
       " 'Fr33zy159',\n",
       " 'FractalFractalF',\n",
       " 'Fractal_Soul',\n",
       " 'Fractoman',\n",
       " 'FranceisBakin',\n",
       " 'FranciscoDankonia',\n",
       " 'Frank_Drebin',\n",
       " 'Freckled_daywalker',\n",
       " 'FreeJerry',\n",
       " 'Freeman001',\n",
       " 'Friendly_Fire',\n",
       " 'Frijolero',\n",
       " 'FrogMasta25',\n",
       " 'Frostiken',\n",
       " 'Fuckdabullshit',\n",
       " 'Fuckn_hipsters',\n",
       " 'Fukkthisgame',\n",
       " 'Funklestein',\n",
       " 'FuriousTarts',\n",
       " 'Future_Tyrant',\n",
       " 'Futurist110',\n",
       " 'FuzzyLoveRabbit',\n",
       " 'Fuzzyphilosopher',\n",
       " 'GATA6',\n",
       " 'GEAUXUL',\n",
       " 'GTFErinyes',\n",
       " 'Galaxy_Ranger_Bob',\n",
       " 'GameboyPATH',\n",
       " 'Gamecocks91',\n",
       " 'Gammit10',\n",
       " 'GandalfSwagOff',\n",
       " 'Ganjake',\n",
       " 'Garrus',\n",
       " 'GarryOwen',\n",
       " 'GaslightProphet',\n",
       " 'Gasonfires',\n",
       " 'Gastrodemocracy',\n",
       " 'GaySouthernAccent',\n",
       " 'General-Butt-Naked',\n",
       " 'Generic_Reddit_',\n",
       " 'GeoStarRunner',\n",
       " 'George_Beast',\n",
       " 'GetZePopcorn',\n",
       " 'Ghost4000',\n",
       " 'GhostofRFS',\n",
       " 'GiantNomad',\n",
       " 'GiantZed7',\n",
       " 'Gilbygil11',\n",
       " 'GingerBiologist',\n",
       " 'Gintoh',\n",
       " 'Givensherthed',\n",
       " 'Gnome_Sane',\n",
       " 'Gnometard',\n",
       " 'GoGetHighOnThatMntn',\n",
       " 'GoMustard',\n",
       " 'GodKnightMoon',\n",
       " 'God_Emperor_of_Dune',\n",
       " 'Goldwater64',\n",
       " 'GonzoNation',\n",
       " 'Gonzzzo',\n",
       " 'Gorthaur111',\n",
       " 'Goturbackbro',\n",
       " 'Graadash',\n",
       " 'Grace_Wincer',\n",
       " 'GrandEthos',\n",
       " 'Graphitetshirt',\n",
       " 'Grasss_Tastes_Bad',\n",
       " 'GravitasFree',\n",
       " 'Gregorofthehillpeopl',\n",
       " 'Grenshen4px',\n",
       " 'Grundelwald',\n",
       " 'Gruzman',\n",
       " 'Gstreetshit',\n",
       " 'GtEnko',\n",
       " 'Gus_31',\n",
       " 'GuyAboveIsStupid',\n",
       " 'Guy_de_Nolastname',\n",
       " 'Guys_Ranqe',\n",
       " 'GymIn26Minutes',\n",
       " 'HBombthrow',\n",
       " 'HStark',\n",
       " 'Haggy999',\n",
       " 'Hailanathema',\n",
       " 'HalfLife1MasterRace',\n",
       " 'HalflingTea',\n",
       " 'Handsomejack94',\n",
       " 'Hans_Brickface',\n",
       " 'HappyRectangle',\n",
       " 'Haringoth',\n",
       " 'Harmonic_Groaning',\n",
       " 'Harmonsky',\n",
       " 'HarryBridges',\n",
       " 'Hartastic',\n",
       " 'Hashslingingslashar',\n",
       " 'HazardByMarx',\n",
       " 'HeTalksInMaths',\n",
       " 'HeTalksToComputers',\n",
       " 'HeadFullOfLettuce',\n",
       " 'HealthcareEconomist3',\n",
       " 'Hell_Libertine',\n",
       " 'Hello_Dawl',\n",
       " 'HelmedHorror',\n",
       " 'HeloRising',\n",
       " 'Helreaver',\n",
       " 'HeyBayBeeUWanTSumFuk',\n",
       " 'HeyZeusCreaseToast',\n",
       " 'HiHorror',\n",
       " 'Hickle',\n",
       " 'HippeHoppe',\n",
       " 'HisImperialGreatness',\n",
       " 'HistoryBuff92',\n",
       " 'Holophonist',\n",
       " 'HombreFawkes',\n",
       " 'HomelessPandas',\n",
       " 'Honest_Discussion',\n",
       " 'Honky_Cat',\n",
       " 'HonorAmongSteves',\n",
       " 'Hormisdas',\n",
       " 'House_of_Jimena',\n",
       " 'Houseboat87',\n",
       " 'HowitzerExplosionman',\n",
       " 'Hoyarugby',\n",
       " 'Hrulj',\n",
       " 'HrunknerUnnerby',\n",
       " 'Huey_McDuck',\n",
       " 'HunterSThompson_72',\n",
       " 'Hurrah_for_Karamazov',\n",
       " 'Hyndis',\n",
       " 'Hypranormal',\n",
       " 'I-HATE-REDDITORS',\n",
       " 'IAMA_DRUNK_BEAR',\n",
       " 'IAmA_Eric',\n",
       " 'IMPERATOR_TRUMP_2016',\n",
       " 'IND_CFC',\n",
       " 'IRequirePants',\n",
       " 'ISBUchild',\n",
       " 'IUhoosier_KCCO',\n",
       " 'I_Am_Ironman_AMA',\n",
       " 'I_Hate_Nerds',\n",
       " 'I_Love_Liberty',\n",
       " 'I_Need_Jordans',\n",
       " 'I_See_Wrong_People',\n",
       " 'I_amWEB',\n",
       " 'I_am_Norwegian',\n",
       " 'IamNotYourBuddy',\n",
       " 'Iam_Ironman_AMA',\n",
       " 'IamtherealZyzz',\n",
       " 'IdiocracyCometh',\n",
       " 'Ihatecheese86',\n",
       " 'Illum503',\n",
       " 'ImAnIdeaMan',\n",
       " 'Im_on_an_upboat',\n",
       " 'Iman2555',\n",
       " 'ImmodestPolitician',\n",
       " 'Independent',\n",
       " 'Indraea',\n",
       " 'Indricus',\n",
       " 'IndridCipher',\n",
       " 'IniNew',\n",
       " 'Inkberrow',\n",
       " 'IntrovertedPendulum',\n",
       " 'InvisibleBlue',\n",
       " 'Irishfafnir',\n",
       " 'Irrumatus',\n",
       " 'IrwinMFletcher',\n",
       " 'Isentrope',\n",
       " 'Isz82',\n",
       " 'ItsTheoTime',\n",
       " 'Iustis',\n",
       " 'J4k0b42',\n",
       " 'JGand72',\n",
       " 'JLR-',\n",
       " 'JLake4',\n",
       " 'JQuilty',\n",
       " 'JSFR_Radio',\n",
       " 'JW9304',\n",
       " 'JW_2',\n",
       " 'Jace_MacLeod',\n",
       " 'Jaco99',\n",
       " 'JadedPony',\n",
       " 'JakeArvizu',\n",
       " 'Jalapeno_Business',\n",
       " 'JamesAJanisse',\n",
       " 'JamesColesPardon',\n",
       " 'James_Rustler_',\n",
       " 'Jamie54',\n",
       " 'JanetYellensFuckboy',\n",
       " 'Jas9191',\n",
       " 'JaseFace',\n",
       " 'Jasontheperson',\n",
       " 'Jayk_',\n",
       " 'Jcas11',\n",
       " 'JeffersonPutnam',\n",
       " 'Jerhed89',\n",
       " 'JeterWood',\n",
       " 'Jewbilant',\n",
       " 'Jewnadian',\n",
       " 'JimMarch',\n",
       " 'JinxsLover',\n",
       " 'Jmcduff5',\n",
       " 'Jmoseph',\n",
       " 'JoeIsHereBSU',\n",
       " 'JoePragmatist',\n",
       " 'JohnChrissy',\n",
       " 'JohnZoidberg1985',\n",
       " 'JohnnyBeagle',\n",
       " 'JonWood007',\n",
       " 'JoshuaZ1',\n",
       " 'Jovianad',\n",
       " 'Jrook',\n",
       " 'JuanboboPhD',\n",
       " 'JubalTheLion',\n",
       " 'JustARandomDude17',\n",
       " 'JustAnotherNut',\n",
       " 'JustRuss79',\n",
       " 'JustSysadminThings',\n",
       " 'Just_Some_A_Hole',\n",
       " 'JustinATaylor',\n",
       " 'JustinCayce',\n",
       " 'Juteshire',\n",
       " 'KEM10',\n",
       " 'Kaarboer',\n",
       " 'KabIoski',\n",
       " 'KagakuNinja',\n",
       " 'Kai_Daigoji',\n",
       " 'Kakarot_faps',\n",
       " 'KaliYugaz',\n",
       " 'KalpolIntro',\n",
       " 'Kamaria',\n",
       " 'KarmaAndLies',\n",
       " 'KarmaFeedsMyFamily',\n",
       " 'Karrion8',\n",
       " 'KaseyB',\n",
       " 'Katzeye',\n",
       " 'KellyAnne_Grunther',\n",
       " 'Kelsig',\n",
       " 'Kersplit',\n",
       " 'Kevin-W',\n",
       " 'KeyzerSozee',\n",
       " 'KhanneaSuntzu',\n",
       " 'Kharos',\n",
       " 'Kidneyjoe',\n",
       " 'Killhouse',\n",
       " 'KindOfADickFace',\n",
       " 'KingPickle',\n",
       " 'King_of_the_Nerdth',\n",
       " 'KingdomofNorthKorea',\n",
       " 'Kings-Crossing',\n",
       " 'Kirkaine',\n",
       " 'Klar_the_Magnificent',\n",
       " 'KnowerOfUnknowable',\n",
       " 'KouNurasaka',\n",
       " 'KrakatoaSpelunker',\n",
       " 'Kregal',\n",
       " 'Krongu',\n",
       " 'Kronos9898',\n",
       " 'Kross_B',\n",
       " 'KumarLittleJeans',\n",
       " 'Kzickas',\n",
       " 'LAULitics',\n",
       " 'LDM123',\n",
       " 'Lacer_Lis',\n",
       " 'Lambchops_Legion',\n",
       " 'Lantro',\n",
       " 'LateralEntry',\n",
       " 'Lauxman',\n",
       " 'Law_Student',\n",
       " 'Lazarus59',\n",
       " 'LazyNecromancer',\n",
       " 'Lefaid',\n",
       " 'Left_of_Center2011',\n",
       " 'LeftysRule22',\n",
       " 'LegendsoftheHT',\n",
       " 'Lelorinel',\n",
       " 'LemonLyman_',\n",
       " 'Lews-Therin-Telamon',\n",
       " 'LiberalTerryN',\n",
       " 'LikesMoonPies',\n",
       " 'LincolnHighwater',\n",
       " 'LiptonCB',\n",
       " 'LiquidSnape',\n",
       " 'Lite-brite',\n",
       " 'LiteraryPandaman',\n",
       " 'LittleBalloHate',\n",
       " 'LittleBelle82',\n",
       " 'LittlestCandle',\n",
       " 'LiveByTheFreePen',\n",
       " 'LiveFree1773',\n",
       " 'Llan79',\n",
       " 'Llim',\n",
       " 'Lochleon',\n",
       " 'Loco970',\n",
       " 'Loimographia',\n",
       " 'LollyAdverb',\n",
       " 'LoneLegislator',\n",
       " 'LookAtThatBode',\n",
       " 'Loop_Within_A_Loop',\n",
       " 'Lord_Blathoxi',\n",
       " 'Lord_Bubbington',\n",
       " 'Lord_Varys',\n",
       " 'Louisthefuckenlawyer',\n",
       " 'LoveandBonor',\n",
       " 'Loveflu',\n",
       " 'LtNOWIS',\n",
       " 'LuisN',\n",
       " 'Lumeria',\n",
       " 'LumpyArryhead',\n",
       " 'Luph',\n",
       " 'Lyxh',\n",
       " 'MCHAST',\n",
       " 'MCRemix',\n",
       " 'MMonReddit',\n",
       " 'MRMiller96',\n",
       " 'MacEnvy',\n",
       " 'MachinesOfN',\n",
       " 'MaddiKate',\n",
       " 'MajorRollin',\n",
       " 'MalenkiiMalchik',\n",
       " 'Malician',\n",
       " 'MaliciousMalus',\n",
       " 'ManBearScientist',\n",
       " 'Mange-Tout',\n",
       " 'Maple28',\n",
       " 'Marco_Antonio_Rubio',\n",
       " 'Marius414',\n",
       " 'MarktpLatz',\n",
       " 'MartePartay6',\n",
       " 'Marylandman101',\n",
       " 'Mason11987',\n",
       " 'MasterGrok',\n",
       " 'Masterzjg',\n",
       " 'Matt5327',\n",
       " 'MattD420',\n",
       " 'MattStalfs',\n",
       " 'MayorStreet',\n",
       " 'McSchwartz',\n",
       " 'McWaddle',\n",
       " 'Mcfinley',\n",
       " 'Mcmanus188',\n",
       " 'MeatNoodleSauce',\n",
       " 'MeatPiston',\n",
       " 'Meatmehalfway',\n",
       " 'Memetic1',\n",
       " 'MemeticParadigm',\n",
       " 'Men13',\n",
       " 'Mend1cant',\n",
       " 'Mentalpopcorn',\n",
       " 'MeowTheMixer',\n",
       " 'Meta-Cognition',\n",
       " 'Metabro',\n",
       " 'MeteorPhoenix',\n",
       " 'MidWestintheNE',\n",
       " 'Miguelinileugim',\n",
       " 'MikeyPWhatAG',\n",
       " 'MikiLove',\n",
       " 'MiltonFriedom',\n",
       " 'Mimshot',\n",
       " 'Minxie',\n",
       " 'Miotoss',\n",
       " 'Misanthropicposter',\n",
       " 'MisdemeanorOutlaw',\n",
       " 'Miskellaneousness',\n",
       " 'MisterBadIdea2',\n",
       " 'MisterJose',\n",
       " 'MisterMiddleFinger',\n",
       " 'Mister_Kurtz',\n",
       " 'Mjolnir2000',\n",
       " 'Mokukiridashi',\n",
       " 'MomentOfXen',\n",
       " 'Mongopwn',\n",
       " 'Monkeyavelli',\n",
       " 'Moojuice4',\n",
       " 'MoreLikeAnCrap',\n",
       " 'MorningLtMtn',\n",
       " 'MrDannyOcean',\n",
       " 'MrFrode',\n",
       " 'MrIvysaur',\n",
       " 'MrPoletski',\n",
       " 'MrSheeple',\n",
       " 'MrSquicky',\n",
       " 'Mr_Subtlety',\n",
       " 'Mrgoodtrips64',\n",
       " 'Mrpettit',\n",
       " 'Mrs_Frisby',\n",
       " 'MuffinsAndBiscuits',\n",
       " 'MuscleAndAShovel',\n",
       " 'Musingmike',\n",
       " 'MysticSnowman',\n",
       " 'NDubbaYa',\n",
       " 'NFB42',\n",
       " 'NOAHA202',\n",
       " 'NYCMiddleMan',\n",
       " 'Narian',\n",
       " 'NarrowLightbulb',\n",
       " 'Nathan_Rad_Spencer',\n",
       " 'Nautigirl',\n",
       " 'Ndlaxfan',\n",
       " 'Nefandi',\n",
       " 'Neopergoss',\n",
       " 'Nero_',\n",
       " 'NewWahoo',\n",
       " 'New_User_4',\n",
       " 'New_new_account2',\n",
       " 'NextLe7el',\n",
       " 'NicCageKillerBees',\n",
       " 'Nicheslovespecies',\n",
       " 'NihiloZero',\n",
       " 'Nillix',\n",
       " 'NitWhittler',\n",
       " 'Nitsua87',\n",
       " 'Nixon4Prez',\n",
       " 'NoPleaseDont',\n",
       " 'No_Fence',\n",
       " 'Nocturnal_submission',\n",
       " 'Nogs6000',\n",
       " 'NonHomogenized',\n",
       " 'Nonsanguinity',\n",
       " 'Northwest-IPA',\n",
       " 'NotDwayneJohnson',\n",
       " 'Not_A_Role_Model',\n",
       " 'NothingCrazy',\n",
       " 'NovaCyntax',\n",
       " 'Nowhrmn',\n",
       " 'NuclearSpaceLegos',\n",
       " 'Nyefan',\n",
       " 'Nygmus',\n",
       " 'Nyrin',\n",
       " 'O-Shag-Hennessy',\n",
       " 'OHhokie1',\n",
       " 'OPDidntDeliver',\n",
       " 'Obersts001',\n",
       " 'Occamslaser',\n",
       " 'OccupyGravelpit',\n",
       " 'Octosteel',\n",
       " 'Odlemart',\n",
       " 'Odnyc',\n",
       " 'Odynol',\n",
       " 'Og_The_Barbarian',\n",
       " 'OgreMagoo',\n",
       " 'Old_Army90',\n",
       " 'Oldschool1964',\n",
       " 'Olyvyr',\n",
       " 'OneDoesNotSimplyPass',\n",
       " 'OneOfDozens',\n",
       " 'OnlyFactsMatter',\n",
       " 'OohLongJohnson',\n",
       " 'OprahNoodlemantra',\n",
       " 'Orangeskill',\n",
       " 'Orwelian84',\n",
       " 'Otto_Vann',\n",
       " 'Outlulz',\n",
       " 'OutofPlaceOneLiner',\n",
       " 'OwenOne',\n",
       " 'PARK_THE_BUS',\n",
       " 'PHATsakk43',\n",
       " 'PIE-314',\n",
       " 'PKMKII',\n",
       " 'PM_ME_YOUR_DARKNESS',\n",
       " 'PM_ME_YOUR_FAV_PIZZA',\n",
       " 'PM__me_ur_A_cups',\n",
       " 'POGtastic',\n",
       " 'PacificIshmael',\n",
       " 'PaineThomas',\n",
       " 'Palidane7',\n",
       " 'PandaLover42',\n",
       " 'PanduMasta',\n",
       " 'PappyPoobah',\n",
       " 'Paradigm6790',\n",
       " 'Patriots_Sixers',\n",
       " 'Pearberr',\n",
       " 'Pendit76',\n",
       " 'PepeLinux',\n",
       " 'Perennial_',\n",
       " 'PerfectSociety',\n",
       " 'Perfect_Society',\n",
       " 'Personage1',\n",
       " 'Pester_Stone',\n",
       " 'PeterGibbons2',\n",
       " 'PeterGibbons316',\n",
       " 'Phantazein',\n",
       " 'PhantomTroupe6',\n",
       " 'Phiarmage',\n",
       " 'PhilBlumburtt',\n",
       " 'PhillAholic',\n",
       " 'Phillyfan321',\n",
       " 'PhilosopherBat',\n",
       " 'Philosopher_King',\n",
       " 'Phunk131',\n",
       " 'PigSlam',\n",
       " 'Pillars_of_Columbia',\n",
       " 'Pineapple__Jews',\n",
       " 'Pinewood74',\n",
       " 'PinheadXXXXXX',\n",
       " 'Pipstydoo',\n",
       " 'Pisoo',\n",
       " 'Pksoze',\n",
       " 'Plastastic',\n",
       " 'PlatinumGoat75',\n",
       " 'PleaseThinkMore',\n",
       " 'Please_PM_me_Uranus',\n",
       " 'Poles_Apart',\n",
       " 'Political_Throwawayz',\n",
       " 'PoliticallyFit',\n",
       " 'Pollster101',\n",
       " 'Polyscikosis',\n",
       " 'Pomegranatemilkshake',\n",
       " 'PonderousHajj',\n",
       " 'Poops-MacGee',\n",
       " 'PopeSaintHilarius',\n",
       " 'PoppyOncrack',\n",
       " 'Popular-Uprising-',\n",
       " 'Portal007',\n",
       " 'Positive_pressure',\n",
       " 'Potatoes-O-Brien',\n",
       " 'PotentiallySarcastic',\n",
       " 'Preaddly',\n",
       " 'Precursor2552',\n",
       " 'Predictor92',\n",
       " 'Prefix-NA',\n",
       " 'Pregxi',\n",
       " 'Primetime22',\n",
       " 'Pritzker',\n",
       " 'PrivilegeCheckmate',\n",
       " 'ProWresBlog2',\n",
       " 'Prodigy-II',\n",
       " 'Prussian_Spacemarine',\n",
       " 'Psyduckisnotaduck',\n",
       " 'PubliusPontifex',\n",
       " 'Publix_Deli',\n",
       " 'Punishtube',\n",
       " 'Pureandfresh',\n",
       " 'PurpleZen',\n",
       " 'PyreDruid',\n",
       " 'QuantumCynics',\n",
       " 'QuantumDischarge',\n",
       " 'Quantum_Ibis',\n",
       " 'Quetzalcoatls',\n",
       " 'Quidfacis_',\n",
       " 'Quierochurros',\n",
       " 'Quixotic91',\n",
       " 'QuoProQuid',\n",
       " 'RECIPR0C1TY',\n",
       " 'REXXT',\n",
       " 'RMaximus',\n",
       " 'RP61391',\n",
       " 'R_B_Kazenzakis',\n",
       " 'R_V_Z',\n",
       " 'Racheakt',\n",
       " 'Raiancap',\n",
       " 'Raiden_DJ',\n",
       " 'Raider_',\n",
       " 'Rakajj',\n",
       " 'RakishDissolute',\n",
       " 'RamblingWrecker',\n",
       " 'Rameses_2',\n",
       " 'Randy_Watson',\n",
       " 'Rapola',\n",
       " 'RareLuck',\n",
       " 'RationalRattachist',\n",
       " 'RaulEnydmion',\n",
       " ...)"
      ]
     },
     "execution_count": 72,
     "metadata": {
      "tags": []
     },
     "output_type": "execute_result"
    }
   ],
   "source": [
    "users"
   ]
  },
  {
   "cell_type": "markdown",
   "metadata": {
    "id": "pOKwqnmGHLMZ"
   },
   "source": [
    "Будет круто так же посчитать кластеризацию, посмотреть на распределения данных и так далее"
   ]
  },
  {
   "cell_type": "code",
   "execution_count": null,
   "metadata": {
    "id": "omHmIh1n1EiL"
   },
   "outputs": [],
   "source": [
    "#place for your awesome research"
   ]
  },
  {
   "cell_type": "code",
   "execution_count": null,
   "metadata": {
    "id": "pTf-MLc2HURq"
   },
   "outputs": [],
   "source": []
  }
 ],
 "metadata": {
  "accelerator": "GPU",
  "colab": {
   "collapsed_sections": [],
   "machine_shape": "hm",
   "name": "LanguageModel.ipynb",
   "provenance": []
  },
  "kernelspec": {
   "display_name": "Python 3",
   "language": "python",
   "name": "python3"
  },
  "language_info": {
   "codemirror_mode": {
    "name": "ipython",
    "version": 3
   },
   "file_extension": ".py",
   "mimetype": "text/x-python",
   "name": "python",
   "nbconvert_exporter": "python",
   "pygments_lexer": "ipython3",
   "version": "3.8.5"
  }
 },
 "nbformat": 4,
 "nbformat_minor": 4
}
