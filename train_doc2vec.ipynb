{
  "nbformat": 4,
  "nbformat_minor": 0,
  "metadata": {
    "kernelspec": {
      "display_name": "Python 3",
      "language": "python",
      "name": "python3"
    },
    "language_info": {
      "codemirror_mode": {
        "name": "ipython",
        "version": 3
      },
      "file_extension": ".py",
      "mimetype": "text/x-python",
      "name": "python",
      "nbconvert_exporter": "python",
      "pygments_lexer": "ipython3",
      "version": "3.8.5"
    },
    "colab": {
      "name": "train_doc2vec.ipynb",
      "provenance": [],
      "collapsed_sections": [],
      "include_colab_link": true
    },
    "widgets": {
      "application/vnd.jupyter.widget-state+json": {
        "ceac11652ca84e3e8ef724428db33230": {
          "model_module": "@jupyter-widgets/controls",
          "model_name": "HBoxModel",
          "state": {
            "_view_name": "HBoxView",
            "_dom_classes": [],
            "_model_name": "HBoxModel",
            "_view_module": "@jupyter-widgets/controls",
            "_model_module_version": "1.5.0",
            "_view_count": null,
            "_view_module_version": "1.5.0",
            "box_style": "",
            "layout": "IPY_MODEL_445eda08036f4db383acb1c92edb98c7",
            "_model_module": "@jupyter-widgets/controls",
            "children": [
              "IPY_MODEL_50bfa106e48c4c89b996b9c49fe19c97",
              "IPY_MODEL_87e8eceac3204b16ade7aa3788fe2b97"
            ]
          }
        },
        "445eda08036f4db383acb1c92edb98c7": {
          "model_module": "@jupyter-widgets/base",
          "model_name": "LayoutModel",
          "state": {
            "_view_name": "LayoutView",
            "grid_template_rows": null,
            "right": null,
            "justify_content": null,
            "_view_module": "@jupyter-widgets/base",
            "overflow": null,
            "_model_module_version": "1.2.0",
            "_view_count": null,
            "flex_flow": null,
            "width": null,
            "min_width": null,
            "border": null,
            "align_items": null,
            "bottom": null,
            "_model_module": "@jupyter-widgets/base",
            "top": null,
            "grid_column": null,
            "overflow_y": null,
            "overflow_x": null,
            "grid_auto_flow": null,
            "grid_area": null,
            "grid_template_columns": null,
            "flex": null,
            "_model_name": "LayoutModel",
            "justify_items": null,
            "grid_row": null,
            "max_height": null,
            "align_content": null,
            "visibility": null,
            "align_self": null,
            "height": null,
            "min_height": null,
            "padding": null,
            "grid_auto_rows": null,
            "grid_gap": null,
            "max_width": null,
            "order": null,
            "_view_module_version": "1.2.0",
            "grid_template_areas": null,
            "object_position": null,
            "object_fit": null,
            "grid_auto_columns": null,
            "margin": null,
            "display": null,
            "left": null
          }
        },
        "50bfa106e48c4c89b996b9c49fe19c97": {
          "model_module": "@jupyter-widgets/controls",
          "model_name": "FloatProgressModel",
          "state": {
            "_view_name": "ProgressView",
            "style": "IPY_MODEL_9f142bcef3a5455487ea6a05fc3e8c70",
            "_dom_classes": [],
            "description": "100%",
            "_model_name": "FloatProgressModel",
            "bar_style": "success",
            "max": 10,
            "_view_module": "@jupyter-widgets/controls",
            "_model_module_version": "1.5.0",
            "value": 10,
            "_view_count": null,
            "_view_module_version": "1.5.0",
            "orientation": "horizontal",
            "min": 0,
            "description_tooltip": null,
            "_model_module": "@jupyter-widgets/controls",
            "layout": "IPY_MODEL_38f0a426023f4bba8c841190db24ce48"
          }
        },
        "87e8eceac3204b16ade7aa3788fe2b97": {
          "model_module": "@jupyter-widgets/controls",
          "model_name": "HTMLModel",
          "state": {
            "_view_name": "HTMLView",
            "style": "IPY_MODEL_90b870161ff74daf953c1fe4a6f6fe76",
            "_dom_classes": [],
            "description": "",
            "_model_name": "HTMLModel",
            "placeholder": "​",
            "_view_module": "@jupyter-widgets/controls",
            "_model_module_version": "1.5.0",
            "value": " 10/10 [12:35&lt;00:00, 75.57s/it]",
            "_view_count": null,
            "_view_module_version": "1.5.0",
            "description_tooltip": null,
            "_model_module": "@jupyter-widgets/controls",
            "layout": "IPY_MODEL_26b8b54fa3384a43b3712cd98678c003"
          }
        },
        "9f142bcef3a5455487ea6a05fc3e8c70": {
          "model_module": "@jupyter-widgets/controls",
          "model_name": "ProgressStyleModel",
          "state": {
            "_view_name": "StyleView",
            "_model_name": "ProgressStyleModel",
            "description_width": "initial",
            "_view_module": "@jupyter-widgets/base",
            "_model_module_version": "1.5.0",
            "_view_count": null,
            "_view_module_version": "1.2.0",
            "bar_color": null,
            "_model_module": "@jupyter-widgets/controls"
          }
        },
        "38f0a426023f4bba8c841190db24ce48": {
          "model_module": "@jupyter-widgets/base",
          "model_name": "LayoutModel",
          "state": {
            "_view_name": "LayoutView",
            "grid_template_rows": null,
            "right": null,
            "justify_content": null,
            "_view_module": "@jupyter-widgets/base",
            "overflow": null,
            "_model_module_version": "1.2.0",
            "_view_count": null,
            "flex_flow": null,
            "width": null,
            "min_width": null,
            "border": null,
            "align_items": null,
            "bottom": null,
            "_model_module": "@jupyter-widgets/base",
            "top": null,
            "grid_column": null,
            "overflow_y": null,
            "overflow_x": null,
            "grid_auto_flow": null,
            "grid_area": null,
            "grid_template_columns": null,
            "flex": null,
            "_model_name": "LayoutModel",
            "justify_items": null,
            "grid_row": null,
            "max_height": null,
            "align_content": null,
            "visibility": null,
            "align_self": null,
            "height": null,
            "min_height": null,
            "padding": null,
            "grid_auto_rows": null,
            "grid_gap": null,
            "max_width": null,
            "order": null,
            "_view_module_version": "1.2.0",
            "grid_template_areas": null,
            "object_position": null,
            "object_fit": null,
            "grid_auto_columns": null,
            "margin": null,
            "display": null,
            "left": null
          }
        },
        "90b870161ff74daf953c1fe4a6f6fe76": {
          "model_module": "@jupyter-widgets/controls",
          "model_name": "DescriptionStyleModel",
          "state": {
            "_view_name": "StyleView",
            "_model_name": "DescriptionStyleModel",
            "description_width": "",
            "_view_module": "@jupyter-widgets/base",
            "_model_module_version": "1.5.0",
            "_view_count": null,
            "_view_module_version": "1.2.0",
            "_model_module": "@jupyter-widgets/controls"
          }
        },
        "26b8b54fa3384a43b3712cd98678c003": {
          "model_module": "@jupyter-widgets/base",
          "model_name": "LayoutModel",
          "state": {
            "_view_name": "LayoutView",
            "grid_template_rows": null,
            "right": null,
            "justify_content": null,
            "_view_module": "@jupyter-widgets/base",
            "overflow": null,
            "_model_module_version": "1.2.0",
            "_view_count": null,
            "flex_flow": null,
            "width": null,
            "min_width": null,
            "border": null,
            "align_items": null,
            "bottom": null,
            "_model_module": "@jupyter-widgets/base",
            "top": null,
            "grid_column": null,
            "overflow_y": null,
            "overflow_x": null,
            "grid_auto_flow": null,
            "grid_area": null,
            "grid_template_columns": null,
            "flex": null,
            "_model_name": "LayoutModel",
            "justify_items": null,
            "grid_row": null,
            "max_height": null,
            "align_content": null,
            "visibility": null,
            "align_self": null,
            "height": null,
            "min_height": null,
            "padding": null,
            "grid_auto_rows": null,
            "grid_gap": null,
            "max_width": null,
            "order": null,
            "_view_module_version": "1.2.0",
            "grid_template_areas": null,
            "object_position": null,
            "object_fit": null,
            "grid_auto_columns": null,
            "margin": null,
            "display": null,
            "left": null
          }
        },
        "74f81b52e1e4457e9d1c92a08947de07": {
          "model_module": "@jupyter-widgets/controls",
          "model_name": "HBoxModel",
          "state": {
            "_view_name": "HBoxView",
            "_dom_classes": [],
            "_model_name": "HBoxModel",
            "_view_module": "@jupyter-widgets/controls",
            "_model_module_version": "1.5.0",
            "_view_count": null,
            "_view_module_version": "1.5.0",
            "box_style": "",
            "layout": "IPY_MODEL_0c07cc6f49ec4ad6a1e965e5f64d8686",
            "_model_module": "@jupyter-widgets/controls",
            "children": [
              "IPY_MODEL_77bfaed130f8449a8074eea9bef90b96",
              "IPY_MODEL_c775fb263e78478e899b67007571b63a"
            ]
          }
        },
        "0c07cc6f49ec4ad6a1e965e5f64d8686": {
          "model_module": "@jupyter-widgets/base",
          "model_name": "LayoutModel",
          "state": {
            "_view_name": "LayoutView",
            "grid_template_rows": null,
            "right": null,
            "justify_content": null,
            "_view_module": "@jupyter-widgets/base",
            "overflow": null,
            "_model_module_version": "1.2.0",
            "_view_count": null,
            "flex_flow": null,
            "width": null,
            "min_width": null,
            "border": null,
            "align_items": null,
            "bottom": null,
            "_model_module": "@jupyter-widgets/base",
            "top": null,
            "grid_column": null,
            "overflow_y": null,
            "overflow_x": null,
            "grid_auto_flow": null,
            "grid_area": null,
            "grid_template_columns": null,
            "flex": null,
            "_model_name": "LayoutModel",
            "justify_items": null,
            "grid_row": null,
            "max_height": null,
            "align_content": null,
            "visibility": null,
            "align_self": null,
            "height": null,
            "min_height": null,
            "padding": null,
            "grid_auto_rows": null,
            "grid_gap": null,
            "max_width": null,
            "order": null,
            "_view_module_version": "1.2.0",
            "grid_template_areas": null,
            "object_position": null,
            "object_fit": null,
            "grid_auto_columns": null,
            "margin": null,
            "display": null,
            "left": null
          }
        },
        "77bfaed130f8449a8074eea9bef90b96": {
          "model_module": "@jupyter-widgets/controls",
          "model_name": "FloatProgressModel",
          "state": {
            "_view_name": "ProgressView",
            "style": "IPY_MODEL_21fc93ce29984770a3403cc3f8f00abe",
            "_dom_classes": [],
            "description": "100%",
            "_model_name": "FloatProgressModel",
            "bar_style": "success",
            "max": 10,
            "_view_module": "@jupyter-widgets/controls",
            "_model_module_version": "1.5.0",
            "value": 10,
            "_view_count": null,
            "_view_module_version": "1.5.0",
            "orientation": "horizontal",
            "min": 0,
            "description_tooltip": null,
            "_model_module": "@jupyter-widgets/controls",
            "layout": "IPY_MODEL_aca2a899f9704c9ba3fce08d07ff5f5f"
          }
        },
        "c775fb263e78478e899b67007571b63a": {
          "model_module": "@jupyter-widgets/controls",
          "model_name": "HTMLModel",
          "state": {
            "_view_name": "HTMLView",
            "style": "IPY_MODEL_ec979a6839a84fe98553dcb4ec6f874e",
            "_dom_classes": [],
            "description": "",
            "_model_name": "HTMLModel",
            "placeholder": "​",
            "_view_module": "@jupyter-widgets/controls",
            "_model_module_version": "1.5.0",
            "value": " 10/10 [07:25&lt;00:00, 44.54s/it]",
            "_view_count": null,
            "_view_module_version": "1.5.0",
            "description_tooltip": null,
            "_model_module": "@jupyter-widgets/controls",
            "layout": "IPY_MODEL_5c6bed10274d4ca0a13c105d134d77c2"
          }
        },
        "21fc93ce29984770a3403cc3f8f00abe": {
          "model_module": "@jupyter-widgets/controls",
          "model_name": "ProgressStyleModel",
          "state": {
            "_view_name": "StyleView",
            "_model_name": "ProgressStyleModel",
            "description_width": "initial",
            "_view_module": "@jupyter-widgets/base",
            "_model_module_version": "1.5.0",
            "_view_count": null,
            "_view_module_version": "1.2.0",
            "bar_color": null,
            "_model_module": "@jupyter-widgets/controls"
          }
        },
        "aca2a899f9704c9ba3fce08d07ff5f5f": {
          "model_module": "@jupyter-widgets/base",
          "model_name": "LayoutModel",
          "state": {
            "_view_name": "LayoutView",
            "grid_template_rows": null,
            "right": null,
            "justify_content": null,
            "_view_module": "@jupyter-widgets/base",
            "overflow": null,
            "_model_module_version": "1.2.0",
            "_view_count": null,
            "flex_flow": null,
            "width": null,
            "min_width": null,
            "border": null,
            "align_items": null,
            "bottom": null,
            "_model_module": "@jupyter-widgets/base",
            "top": null,
            "grid_column": null,
            "overflow_y": null,
            "overflow_x": null,
            "grid_auto_flow": null,
            "grid_area": null,
            "grid_template_columns": null,
            "flex": null,
            "_model_name": "LayoutModel",
            "justify_items": null,
            "grid_row": null,
            "max_height": null,
            "align_content": null,
            "visibility": null,
            "align_self": null,
            "height": null,
            "min_height": null,
            "padding": null,
            "grid_auto_rows": null,
            "grid_gap": null,
            "max_width": null,
            "order": null,
            "_view_module_version": "1.2.0",
            "grid_template_areas": null,
            "object_position": null,
            "object_fit": null,
            "grid_auto_columns": null,
            "margin": null,
            "display": null,
            "left": null
          }
        },
        "ec979a6839a84fe98553dcb4ec6f874e": {
          "model_module": "@jupyter-widgets/controls",
          "model_name": "DescriptionStyleModel",
          "state": {
            "_view_name": "StyleView",
            "_model_name": "DescriptionStyleModel",
            "description_width": "",
            "_view_module": "@jupyter-widgets/base",
            "_model_module_version": "1.5.0",
            "_view_count": null,
            "_view_module_version": "1.2.0",
            "_model_module": "@jupyter-widgets/controls"
          }
        },
        "5c6bed10274d4ca0a13c105d134d77c2": {
          "model_module": "@jupyter-widgets/base",
          "model_name": "LayoutModel",
          "state": {
            "_view_name": "LayoutView",
            "grid_template_rows": null,
            "right": null,
            "justify_content": null,
            "_view_module": "@jupyter-widgets/base",
            "overflow": null,
            "_model_module_version": "1.2.0",
            "_view_count": null,
            "flex_flow": null,
            "width": null,
            "min_width": null,
            "border": null,
            "align_items": null,
            "bottom": null,
            "_model_module": "@jupyter-widgets/base",
            "top": null,
            "grid_column": null,
            "overflow_y": null,
            "overflow_x": null,
            "grid_auto_flow": null,
            "grid_area": null,
            "grid_template_columns": null,
            "flex": null,
            "_model_name": "LayoutModel",
            "justify_items": null,
            "grid_row": null,
            "max_height": null,
            "align_content": null,
            "visibility": null,
            "align_self": null,
            "height": null,
            "min_height": null,
            "padding": null,
            "grid_auto_rows": null,
            "grid_gap": null,
            "max_width": null,
            "order": null,
            "_view_module_version": "1.2.0",
            "grid_template_areas": null,
            "object_position": null,
            "object_fit": null,
            "grid_auto_columns": null,
            "margin": null,
            "display": null,
            "left": null
          }
        }
      }
    }
  },
  "cells": [
    {
      "cell_type": "markdown",
      "metadata": {
        "id": "view-in-github",
        "colab_type": "text"
      },
      "source": [
        "<a href=\"https://colab.research.google.com/github/yanaa11/media-opinion-analyzer/blob/main/train_doc2vec.ipynb\" target=\"_parent\"><img src=\"https://colab.research.google.com/assets/colab-badge.svg\" alt=\"Open In Colab\"/></a>"
      ]
    },
    {
      "cell_type": "code",
      "metadata": {
        "id": "A7nElVyKGUxq"
      },
      "source": [
        "import os\n",
        "import re\n",
        "import random\n",
        "import time\n",
        "\n",
        "import pandas as pd\n",
        "import numpy as np\n",
        "\n",
        "import gensim\n",
        "import nltk\n",
        "from nltk.corpus import stopwords\n",
        "\n",
        "import matplotlib.pyplot as plt\n",
        "from tqdm.notebook import tqdm\n",
        "\n",
        "from gensim.models.doc2vec import Doc2Vec, TaggedDocument"
      ],
      "execution_count": 1,
      "outputs": []
    },
    {
      "cell_type": "code",
      "metadata": {
        "colab": {
          "base_uri": "https://localhost:8080/"
        },
        "id": "eQvEKHPPlY4p",
        "outputId": "41c086ed-4430-4531-fe33-dd7e77ef82b0"
      },
      "source": [
        "from google.colab import drive\n",
        "drive.mount('/content/drive')"
      ],
      "execution_count": 2,
      "outputs": [
        {
          "output_type": "stream",
          "text": [
            "Mounted at /content/drive\n"
          ],
          "name": "stdout"
        }
      ]
    },
    {
      "cell_type": "markdown",
      "metadata": {
        "id": "bpaUEpuSDzsY"
      },
      "source": [
        "# Data preparation"
      ]
    },
    {
      "cell_type": "markdown",
      "metadata": {
        "id": "idHz_xW7QXrg"
      },
      "source": [
        "### Upload data"
      ]
    },
    {
      "cell_type": "code",
      "metadata": {
        "colab": {
          "base_uri": "https://localhost:8080/"
        },
        "id": "Yd-1YYK-uXKX",
        "outputId": "8d3fb0f2-fd73-4695-b803-71443b83c8da"
      },
      "source": [
        "os.listdir(\"/content/drive/MyDrive/data_reddit_clean\")"
      ],
      "execution_count": null,
      "outputs": [
        {
          "output_type": "execute_result",
          "data": {
            "text/plain": [
              "['JoeBiden_comments_2020_clean.csv', 'Trump_comments_2020_clean.csv']"
            ]
          },
          "metadata": {
            "tags": []
          },
          "execution_count": 8
        }
      ]
    },
    {
      "cell_type": "code",
      "metadata": {
        "id": "CmTLkFBfGUyD"
      },
      "source": [
        "#comments_dir = \"Lecture - Text embeddings (Medvedev)/codes/comments\"\n",
        "comments_dir = \"/content/drive/MyDrive/data_reddit_clean\""
      ],
      "execution_count": 3,
      "outputs": []
    },
    {
      "cell_type": "code",
      "metadata": {
        "id": "SGyAeLESGUyE"
      },
      "source": [
        "# TRUMP COMMENTS\n",
        "trump_comments_file = \"./Trump_comments_2020_clean.csv\"\n",
        "trump_comments_path = os.path.join(comments_dir, trump_comments_file)\n",
        "trump_df = pd.read_csv(trump_comments_path, index_col = 0)\n",
        "\n",
        "\n",
        "# BIDEN COMMENTS\n",
        "biden_comments_file = './JoeBiden_comments_2020_clean.csv'\n",
        "biden_comments_path = os.path.join(comments_dir, biden_comments_file)\n",
        "biden_df = pd.read_csv(biden_comments_path, index_col = 0)\n"
      ],
      "execution_count": 14,
      "outputs": []
    },
    {
      "cell_type": "code",
      "metadata": {
        "id": "ffxTyeVRN2CS"
      },
      "source": [
        "trump_df['who'] = 0\n",
        "biden_df['who'] = 1"
      ],
      "execution_count": 15,
      "outputs": []
    },
    {
      "cell_type": "code",
      "metadata": {
        "id": "kxerYtvUM3Eh"
      },
      "source": [
        "all_df = pd.concat([trump_df, biden_df])\n",
        "all_df = all_df.reset_index(drop=True)\n",
        "all_df = all_df.drop(['author', 'created_utc', 'link_id', 'parent_id', 'score'], axis=1)"
      ],
      "execution_count": 6,
      "outputs": []
    },
    {
      "cell_type": "code",
      "metadata": {
        "colab": {
          "base_uri": "https://localhost:8080/"
        },
        "id": "tCECF-XSmkfq",
        "outputId": "99e83718-c914-4afc-a2d2-fe7922d9f111"
      },
      "source": [
        "len(trump_df), len(biden_df)"
      ],
      "execution_count": 7,
      "outputs": [
        {
          "output_type": "execute_result",
          "data": {
            "text/plain": [
              "(618858, 499528)"
            ]
          },
          "metadata": {
            "tags": []
          },
          "execution_count": 7
        }
      ]
    },
    {
      "cell_type": "code",
      "metadata": {
        "id": "6qD7simhQ4PL",
        "colab": {
          "base_uri": "https://localhost:8080/"
        },
        "outputId": "1080bab0-3233-43b5-fcae-9c63654a76cd"
      },
      "source": [
        "n_entries = 50000 #entries from initial dataframes from each candidate for training\n",
        "n_test = 10000 #entries from initial dataframes from each candidate for test\n",
        "\n",
        "s_trump_df_train = trump_df[:n_entries]\n",
        "s_trump_df_train['who'] = 0 # 0 == trump\n",
        "s_biden_df_train = biden_df[:n_entries]\n",
        "s_biden_df_train['who'] = 1 # 1 == biden\n",
        "s_all_df_train = pd.concat([s_trump_df_train, s_biden_df_train])\n",
        "s_all_df_train = s_all_df_train.reset_index(drop=True)\n",
        "\n",
        "s_trump_df_test = trump_df[n_entries:n_entries+n_test]\n",
        "s_trump_df_test['who'] = 0 # 0 == trump\n",
        "s_biden_df_test = biden_df[n_entries:n_entries+n_test]\n",
        "s_biden_df_test['who'] = 1 # 1 == biden\n",
        "s_all_df_test = pd.concat([s_trump_df_test, s_biden_df_test])\n",
        "s_all_df_test = s_all_df_test.reset_index(drop=True)"
      ],
      "execution_count": 16,
      "outputs": [
        {
          "output_type": "stream",
          "text": [
            "/usr/local/lib/python3.6/dist-packages/ipykernel_launcher.py:5: SettingWithCopyWarning: \n",
            "A value is trying to be set on a copy of a slice from a DataFrame.\n",
            "Try using .loc[row_indexer,col_indexer] = value instead\n",
            "\n",
            "See the caveats in the documentation: https://pandas.pydata.org/pandas-docs/stable/user_guide/indexing.html#returning-a-view-versus-a-copy\n",
            "  \"\"\"\n",
            "/usr/local/lib/python3.6/dist-packages/ipykernel_launcher.py:7: SettingWithCopyWarning: \n",
            "A value is trying to be set on a copy of a slice from a DataFrame.\n",
            "Try using .loc[row_indexer,col_indexer] = value instead\n",
            "\n",
            "See the caveats in the documentation: https://pandas.pydata.org/pandas-docs/stable/user_guide/indexing.html#returning-a-view-versus-a-copy\n",
            "  import sys\n",
            "/usr/local/lib/python3.6/dist-packages/ipykernel_launcher.py:12: SettingWithCopyWarning: \n",
            "A value is trying to be set on a copy of a slice from a DataFrame.\n",
            "Try using .loc[row_indexer,col_indexer] = value instead\n",
            "\n",
            "See the caveats in the documentation: https://pandas.pydata.org/pandas-docs/stable/user_guide/indexing.html#returning-a-view-versus-a-copy\n",
            "  if sys.path[0] == '':\n",
            "/usr/local/lib/python3.6/dist-packages/ipykernel_launcher.py:14: SettingWithCopyWarning: \n",
            "A value is trying to be set on a copy of a slice from a DataFrame.\n",
            "Try using .loc[row_indexer,col_indexer] = value instead\n",
            "\n",
            "See the caveats in the documentation: https://pandas.pydata.org/pandas-docs/stable/user_guide/indexing.html#returning-a-view-versus-a-copy\n",
            "  \n"
          ],
          "name": "stderr"
        }
      ]
    },
    {
      "cell_type": "code",
      "metadata": {
        "id": "qFN86krMQDFN"
      },
      "source": [
        "del(trump_df)\n",
        "del(biden_df)"
      ],
      "execution_count": 17,
      "outputs": []
    },
    {
      "cell_type": "markdown",
      "metadata": {
        "id": "PuQDk_DGQPQf"
      },
      "source": [
        "### Tokenize"
      ]
    },
    {
      "cell_type": "code",
      "metadata": {
        "colab": {
          "base_uri": "https://localhost:8080/"
        },
        "id": "-mITUKJpnJTR",
        "outputId": "d3f8aef7-c4bc-4cd2-99b7-0c1fb4c39f93"
      },
      "source": [
        "from nltk.tokenize import word_tokenize\n",
        "nltk.download('punkt')\n",
        "\n",
        "from gensim.parsing.preprocessing import preprocess_string\n",
        "from gensim.parsing.preprocessing import strip_tags       # strip html tags\n",
        "from gensim.parsing.preprocessing import strip_short      \n",
        "from gensim.parsing.preprocessing import remove_stopwords\n",
        "from gensim.parsing.preprocessing import strip_punctuation, strip_non_alphanum"
      ],
      "execution_count": 9,
      "outputs": [
        {
          "output_type": "stream",
          "text": [
            "[nltk_data] Downloading package punkt to /root/nltk_data...\n",
            "[nltk_data]   Unzipping tokenizers/punkt.zip.\n"
          ],
          "name": "stdout"
        }
      ]
    },
    {
      "cell_type": "code",
      "metadata": {
        "colab": {
          "base_uri": "https://localhost:8080/"
        },
        "id": "KOEKOL-2n2Ja",
        "outputId": "3ecccda0-3a1e-4170-e065-bb9b4ddab792"
      },
      "source": [
        "CUSTOM_FILTERS = [lambda x: x.lower(), strip_non_alphanum, strip_punctuation, strip_short, \n",
        "                  strip_tags, remove_stopwords]\n",
        "\n",
        "preprocess_string(all_df['body'][0], CUSTOM_FILTERS)"
      ],
      "execution_count": 10,
      "outputs": [
        {
          "output_type": "execute_result",
          "data": {
            "text/plain": [
              "['fighters',\n",
              " 'means',\n",
              " 'warrior',\n",
              " 'like',\n",
              " 'people',\n",
              " 'participate',\n",
              " 'war',\n",
              " 'fuck',\n",
              " 'defending',\n",
              " 'enemy']"
            ]
          },
          "metadata": {
            "tags": []
          },
          "execution_count": 10
        }
      ]
    },
    {
      "cell_type": "code",
      "metadata": {
        "id": "UY1P4WosOME3"
      },
      "source": [
        "all_df['body_tokenized'] = [preprocess_string(all_df['body'][i], CUSTOM_FILTERS) for i in range(len(all_df))]"
      ],
      "execution_count": 11,
      "outputs": []
    },
    {
      "cell_type": "code",
      "metadata": {
        "id": "j5pH88n2o0mv"
      },
      "source": [
        "s_all_df_train['body_tokenized'] = [preprocess_string(s_all_df_train['body'][i], CUSTOM_FILTERS) for i in range(len(s_all_df_train))]\n",
        "s_all_df_test['body_tokenized'] = [preprocess_string(s_all_df_test['body'][i], CUSTOM_FILTERS) for i in range(len(s_all_df_test))]"
      ],
      "execution_count": 19,
      "outputs": []
    },
    {
      "cell_type": "code",
      "metadata": {
        "id": "MPig3VNkYGHa"
      },
      "source": [
        "s_all_df_test = s_all_df_test.drop(['author', 'created_utc', 'link_id', 'parent_id', 'score'], axis=1)\n",
        "s_all_df_train = s_all_df_train.drop(['author', 'created_utc', 'link_id', 'parent_id', 'score'], axis=1)"
      ],
      "execution_count": 21,
      "outputs": []
    },
    {
      "cell_type": "markdown",
      "metadata": {
        "id": "Dr9YgI1uD86Z"
      },
      "source": [
        "# Vectorization"
      ]
    },
    {
      "cell_type": "code",
      "metadata": {
        "id": "Gax5DdRYPPxJ"
      },
      "source": [
        "tagged_train_data = [TaggedDocument(words=d, tags=[str(i)]) for i, d in enumerate(s_all_df_train['body_tokenized'].to_list())]"
      ],
      "execution_count": 27,
      "outputs": []
    },
    {
      "cell_type": "markdown",
      "metadata": {
        "id": "p5NElrNOtHMM"
      },
      "source": [
        "Train 2 models: \n",
        "\n",
        "**PV-DM:** Distributed Memory.\n",
        "When training a vector representing the paragraph is fed to the network. It acts a memory of what is missing from the current context, the window of words around the trained word represents the context of a word.\n",
        "\n",
        "**PV-DBOW:** Distributed bag of words.\n",
        "The paragraph vector is directly fed into a classifier and predictions of the words present in the paragraph is made based on the vector."
      ]
    },
    {
      "cell_type": "code",
      "metadata": {
        "colab": {
          "base_uri": "https://localhost:8080/",
          "height": 795,
          "referenced_widgets": [
            "ceac11652ca84e3e8ef724428db33230",
            "445eda08036f4db383acb1c92edb98c7",
            "50bfa106e48c4c89b996b9c49fe19c97",
            "87e8eceac3204b16ade7aa3788fe2b97",
            "9f142bcef3a5455487ea6a05fc3e8c70",
            "38f0a426023f4bba8c841190db24ce48",
            "90b870161ff74daf953c1fe4a6f6fe76",
            "26b8b54fa3384a43b3712cd98678c003",
            "74f81b52e1e4457e9d1c92a08947de07",
            "0c07cc6f49ec4ad6a1e965e5f64d8686",
            "77bfaed130f8449a8074eea9bef90b96",
            "c775fb263e78478e899b67007571b63a",
            "21fc93ce29984770a3403cc3f8f00abe",
            "aca2a899f9704c9ba3fce08d07ff5f5f",
            "ec979a6839a84fe98553dcb4ec6f874e",
            "5c6bed10274d4ca0a13c105d134d77c2"
          ]
        },
        "id": "lrymA8r8RlR8",
        "outputId": "37a5ee0b-4a6a-4839-bc50-ae727ac13af1"
      },
      "source": [
        "TRAIN_MODELS = True\n",
        "\n",
        "# DM\n",
        "if TRAIN_MODELS:\n",
        "    model_dm = Doc2Vec(vector_size=512,\n",
        "                    window=5, \n",
        "                    alpha=.025, \n",
        "                    min_alpha=0.00025, \n",
        "                    min_count=2, \n",
        "                    dm=1)\n",
        "    model_dm.build_vocab(tagged_train_data)\n",
        "\n",
        "    for epoch in tqdm(range(10)):\n",
        "        print(f'Epoch {epoch}')\n",
        "        model_dm.train(tagged_train_data,\n",
        "                    total_examples=model_dm.corpus_count,\n",
        "                    epochs=model_dm.epochs)\n",
        "        \n",
        "        print(model_dm.running_training_loss)\n",
        "        # decrease the learning rate\n",
        "        model_dm.alpha -= 0.00025\n",
        "        # fix the learning rate, no decay\n",
        "        model_dm.min_alpha = model_dm.alpha\n",
        "\n",
        "    model_dm.save('/content/drive/MyDrive/cdm_model.d2v')\n",
        "else:\n",
        "    model_dm = Doc2Vec.load('/content/drive/MyDrive/dm_model.d2v')\n",
        "\n",
        "# DBOW\n",
        "if TRAIN_MODELS:\n",
        "    model_dbow = Doc2Vec(vector_size=512,\n",
        "                    window=5, \n",
        "                    alpha=.025, \n",
        "                    min_alpha=0.00025, \n",
        "                    min_count=2, \n",
        "                    dm=0)\n",
        "    model_dbow.build_vocab(tagged_train_data)\n",
        "\n",
        "    for epoch in tqdm(range(10)):\n",
        "        print(f'Epoch {epoch}')\n",
        "        model_dbow.train(tagged_train_data,\n",
        "                    total_examples=model_dbow.corpus_count,\n",
        "                    epochs=model_dbow.epochs)\n",
        "        \n",
        "        print(model_dbow.running_training_loss)\n",
        "        # decrease the learning rate\n",
        "        model_dbow.alpha -= 0.00025\n",
        "        # fix the learning rate, no decay\n",
        "        model_dbow.min_alpha = model_dbow.alpha\n",
        "\n",
        "    model_dbow.save('/content/drive/MyDrive/dbow_model.d2v')\n",
        "else:\n",
        "    model_dbow = Doc2Vec.load('/content/drive/MyDrive/dbow_model.d2v')"
      ],
      "execution_count": 28,
      "outputs": [
        {
          "output_type": "display_data",
          "data": {
            "application/vnd.jupyter.widget-view+json": {
              "model_id": "ceac11652ca84e3e8ef724428db33230",
              "version_minor": 0,
              "version_major": 2
            },
            "text/plain": [
              "HBox(children=(FloatProgress(value=0.0, max=10.0), HTML(value='')))"
            ]
          },
          "metadata": {
            "tags": []
          }
        },
        {
          "output_type": "stream",
          "text": [
            "Epoch 0\n",
            "0.0\n",
            "Epoch 1\n",
            "0.0\n",
            "Epoch 2\n",
            "0.0\n",
            "Epoch 3\n",
            "0.0\n",
            "Epoch 4\n",
            "0.0\n",
            "Epoch 5\n",
            "0.0\n",
            "Epoch 6\n",
            "0.0\n",
            "Epoch 7\n",
            "0.0\n",
            "Epoch 8\n",
            "0.0\n",
            "Epoch 9\n",
            "0.0\n",
            "\n"
          ],
          "name": "stdout"
        },
        {
          "output_type": "display_data",
          "data": {
            "application/vnd.jupyter.widget-view+json": {
              "model_id": "74f81b52e1e4457e9d1c92a08947de07",
              "version_minor": 0,
              "version_major": 2
            },
            "text/plain": [
              "HBox(children=(FloatProgress(value=0.0, max=10.0), HTML(value='')))"
            ]
          },
          "metadata": {
            "tags": []
          }
        },
        {
          "output_type": "stream",
          "text": [
            "Epoch 0\n",
            "0.0\n",
            "Epoch 1\n",
            "0.0\n",
            "Epoch 2\n",
            "0.0\n",
            "Epoch 3\n",
            "0.0\n",
            "Epoch 4\n",
            "0.0\n",
            "Epoch 5\n",
            "0.0\n",
            "Epoch 6\n",
            "0.0\n",
            "Epoch 7\n",
            "0.0\n",
            "Epoch 8\n",
            "0.0\n",
            "Epoch 9\n",
            "0.0\n",
            "\n"
          ],
          "name": "stdout"
        }
      ]
    },
    {
      "cell_type": "markdown",
      "metadata": {
        "id": "l0M32hbZyaJm"
      },
      "source": [
        "Combining both models"
      ]
    },
    {
      "cell_type": "code",
      "metadata": {
        "colab": {
          "base_uri": "https://localhost:8080/"
        },
        "id": "rSZ9ezVBenkV",
        "outputId": "dfca3f4d-82fb-48a4-ad34-5b5d6f368f65"
      },
      "source": [
        "!pip install testfixtures"
      ],
      "execution_count": 30,
      "outputs": [
        {
          "output_type": "stream",
          "text": [
            "Collecting testfixtures\n",
            "\u001b[?25l  Downloading https://files.pythonhosted.org/packages/9c/93/08cbd1203cd490ac789f42a9594540d1b6c4d8fca6c2d06296b284518052/testfixtures-6.17.1-py2.py3-none-any.whl (95kB)\n",
            "\r\u001b[K     |███▌                            | 10kB 11.8MB/s eta 0:00:01\r\u001b[K     |███████                         | 20kB 17.1MB/s eta 0:00:01\r\u001b[K     |██████████▍                     | 30kB 13.1MB/s eta 0:00:01\r\u001b[K     |█████████████▉                  | 40kB 10.0MB/s eta 0:00:01\r\u001b[K     |█████████████████▎              | 51kB 6.0MB/s eta 0:00:01\r\u001b[K     |████████████████████▊           | 61kB 6.8MB/s eta 0:00:01\r\u001b[K     |████████████████████████▏       | 71kB 7.1MB/s eta 0:00:01\r\u001b[K     |███████████████████████████▋    | 81kB 7.7MB/s eta 0:00:01\r\u001b[K     |███████████████████████████████ | 92kB 8.5MB/s eta 0:00:01\r\u001b[K     |████████████████████████████████| 102kB 4.9MB/s \n",
            "\u001b[?25hInstalling collected packages: testfixtures\n",
            "Successfully installed testfixtures-6.17.1\n"
          ],
          "name": "stdout"
        }
      ]
    },
    {
      "cell_type": "code",
      "metadata": {
        "id": "eDXMcd6AtFXa"
      },
      "source": [
        "from gensim.test.test_doc2vec import ConcatenatedDoc2Vec\n",
        "\n",
        "model_dbow.delete_temporary_training_data(\n",
        "    keep_doctags_vectors=True,\n",
        "    keep_inference=True)\n",
        "\n",
        "model_dm.delete_temporary_training_data(\n",
        "    keep_doctags_vectors=True,\n",
        "    keep_inference=True)\n",
        "\n",
        "new_model = ConcatenatedDoc2Vec([model_dbow, model_dm])\n",
        "\n",
        "#new_model.save('/content/drive/MyDrive/new_model.d2v')"
      ],
      "execution_count": 32,
      "outputs": []
    },
    {
      "cell_type": "markdown",
      "metadata": {
        "id": "Zeo5qgqVBHPR"
      },
      "source": [
        "Infer vectors"
      ]
    },
    {
      "cell_type": "code",
      "metadata": {
        "id": "e0iuLxVHBRQm"
      },
      "source": [
        "s_all_df_train[\"vec\"] = s_all_df_train[\"body_tokenized\"].apply(new_model.infer_vector)\n",
        "s_all_df_test[\"vec\"] = s_all_df_test[\"body_tokenized\"].apply(new_model.infer_vector)\n",
        "\n",
        "#all_df[\"vec\"] = all_df[\"body_tokenized\"].apply(new_model.infer_vector)"
      ],
      "execution_count": 33,
      "outputs": []
    },
    {
      "cell_type": "code",
      "metadata": {
        "id": "MUHEEXGtRZ5e"
      },
      "source": [
        "#all_df.to_csv(\"vectorized_data_d2v.csv\")\n",
        "\n",
        "s_all_df_train.to_csv(\"/content/drive/MyDrive/vectorized_train_d2v.csv\")\n",
        "s_all_df_test.to_csv(\"/content/drive/MyDrive/vectorized_test_d2v.csv\")"
      ],
      "execution_count": 34,
      "outputs": []
    }
  ]
}