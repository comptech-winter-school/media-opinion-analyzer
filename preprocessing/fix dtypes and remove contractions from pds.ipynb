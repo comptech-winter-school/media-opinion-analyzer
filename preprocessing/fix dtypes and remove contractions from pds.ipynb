{
 "cells": [
  {
   "cell_type": "code",
   "execution_count": 1,
   "metadata": {},
   "outputs": [],
   "source": [
    "import pandas as pd\n",
    "import numpy as np\n",
    "import os\n",
    "from tqdm.notebook import tqdm\n",
    "import contractions\n",
    "\n",
    "# from pycontractions import Contractions      # doesn't work\n",
    "# cont = Contractions(api_key=\"glove-twitter-100\")\n",
    "# cont.load_models()"
   ]
  },
  {
   "cell_type": "markdown",
   "metadata": {},
   "source": [
    "# Upload data"
   ]
  },
  {
   "cell_type": "code",
   "execution_count": 3,
   "metadata": {},
   "outputs": [
    {
     "name": "stderr",
     "output_type": "stream",
     "text": [
      "/opt/conda/lib/python3.7/site-packages/IPython/core/interactiveshell.py:3147: DtypeWarning: Columns (0,1,2,3,4,5) have mixed types.Specify dtype option on import or set low_memory=False.\n",
      "  interactivity=interactivity, compiler=compiler, result=result)\n"
     ]
    }
   ],
   "source": [
    "data_dir = \"./\"\n",
    "# in_file = 'JoeBiden_comments_2020_clean.csv'\n",
    "in_file = 'Trump_comments_2020_clean.csv'\n",
    "\n",
    "target_pd = pd.read_csv(os.path.join(data_dir, in_file), index_col = 0)"
   ]
  },
  {
   "cell_type": "code",
   "execution_count": 4,
   "metadata": {},
   "outputs": [
    {
     "data": {
      "text/html": [
       "<div>\n",
       "<style scoped>\n",
       "    .dataframe tbody tr th:only-of-type {\n",
       "        vertical-align: middle;\n",
       "    }\n",
       "\n",
       "    .dataframe tbody tr th {\n",
       "        vertical-align: top;\n",
       "    }\n",
       "\n",
       "    .dataframe thead th {\n",
       "        text-align: right;\n",
       "    }\n",
       "</style>\n",
       "<table border=\"1\" class=\"dataframe\">\n",
       "  <thead>\n",
       "    <tr style=\"text-align: right;\">\n",
       "      <th></th>\n",
       "      <th>author</th>\n",
       "      <th>body</th>\n",
       "      <th>created_utc</th>\n",
       "      <th>link_id</th>\n",
       "      <th>parent_id</th>\n",
       "      <th>score</th>\n",
       "    </tr>\n",
       "  </thead>\n",
       "  <tbody>\n",
       "    <tr>\n",
       "      <th>0</th>\n",
       "      <td>khalabrakis</td>\n",
       "      <td>Fighters... That means warrior, like people wh...</td>\n",
       "      <td>1577836803</td>\n",
       "      <td>t3_ei6h2x</td>\n",
       "      <td>t3_ei6h2x</td>\n",
       "      <td>1.0</td>\n",
       "    </tr>\n",
       "    <tr>\n",
       "      <th>1</th>\n",
       "      <td>Whopper_Jr</td>\n",
       "      <td>It’s plausible that Republicans will never win...</td>\n",
       "      <td>1577836806</td>\n",
       "      <td>t3_ei4ag7</td>\n",
       "      <td>t3_ei4ag7</td>\n",
       "      <td>1.0</td>\n",
       "    </tr>\n",
       "    <tr>\n",
       "      <th>2</th>\n",
       "      <td>Sustainable_Saltmine</td>\n",
       "      <td>we must send bartenders back to bartending and...</td>\n",
       "      <td>1577836807</td>\n",
       "      <td>t3_eiay7b</td>\n",
       "      <td>t3_eiay7b</td>\n",
       "      <td>1.0</td>\n",
       "    </tr>\n",
       "    <tr>\n",
       "      <th>3</th>\n",
       "      <td>TheC0zmo</td>\n",
       "      <td>Bullshit. You're blaming a fiscally conservati...</td>\n",
       "      <td>1577836814</td>\n",
       "      <td>t3_ei40gl</td>\n",
       "      <td>t1_fco5fri</td>\n",
       "      <td>1.0</td>\n",
       "    </tr>\n",
       "    <tr>\n",
       "      <th>4</th>\n",
       "      <td>brotherjustincrowe</td>\n",
       "      <td>Military R&amp;amp;D and intel isn't \"no reason.\" ...</td>\n",
       "      <td>1577836818</td>\n",
       "      <td>t3_ei51lq</td>\n",
       "      <td>t1_fcodqek</td>\n",
       "      <td>1.0</td>\n",
       "    </tr>\n",
       "    <tr>\n",
       "      <th>...</th>\n",
       "      <td>...</td>\n",
       "      <td>...</td>\n",
       "      <td>...</td>\n",
       "      <td>...</td>\n",
       "      <td>...</td>\n",
       "      <td>...</td>\n",
       "    </tr>\n",
       "    <tr>\n",
       "      <th>618856</th>\n",
       "      <td>Hillarys_Brown_Eye</td>\n",
       "      <td>What a feckless piece of shit. His wife is a C...</td>\n",
       "      <td>1609459671</td>\n",
       "      <td>t3_knxsoa</td>\n",
       "      <td>t3_knxsoa</td>\n",
       "      <td>1.0</td>\n",
       "    </tr>\n",
       "    <tr>\n",
       "      <th>618857</th>\n",
       "      <td>moshdagoat</td>\n",
       "      <td>It needs to be all of them because you can be ...</td>\n",
       "      <td>1609459690</td>\n",
       "      <td>t3_knx581</td>\n",
       "      <td>t3_knx581</td>\n",
       "      <td>1.0</td>\n",
       "    </tr>\n",
       "    <tr>\n",
       "      <th>618858</th>\n",
       "      <td>GuardYourPrivates</td>\n",
       "      <td>I too have been stopped by cops for no good re...</td>\n",
       "      <td>1609459705</td>\n",
       "      <td>t3_knt8ys</td>\n",
       "      <td>t1_ghn5gfa</td>\n",
       "      <td>1.0</td>\n",
       "    </tr>\n",
       "    <tr>\n",
       "      <th>618859</th>\n",
       "      <td>dumbdotpng</td>\n",
       "      <td>So you mean you wont prove me wrong because i ...</td>\n",
       "      <td>1609459733</td>\n",
       "      <td>t3_knsp5z</td>\n",
       "      <td>t1_ghnh1oj</td>\n",
       "      <td>1.0</td>\n",
       "    </tr>\n",
       "    <tr>\n",
       "      <th>618860</th>\n",
       "      <td>dsammmast</td>\n",
       "      <td>No, that's a libertarian extreme. Fascism is a...</td>\n",
       "      <td>1609459753</td>\n",
       "      <td>t3_ko0lv0</td>\n",
       "      <td>t1_ghnmlat</td>\n",
       "      <td>1.0</td>\n",
       "    </tr>\n",
       "  </tbody>\n",
       "</table>\n",
       "<p>994850 rows × 6 columns</p>\n",
       "</div>"
      ],
      "text/plain": [
       "                      author  \\\n",
       "0                khalabrakis   \n",
       "1                 Whopper_Jr   \n",
       "2       Sustainable_Saltmine   \n",
       "3                   TheC0zmo   \n",
       "4         brotherjustincrowe   \n",
       "...                      ...   \n",
       "618856    Hillarys_Brown_Eye   \n",
       "618857            moshdagoat   \n",
       "618858     GuardYourPrivates   \n",
       "618859            dumbdotpng   \n",
       "618860             dsammmast   \n",
       "\n",
       "                                                     body created_utc  \\\n",
       "0       Fighters... That means warrior, like people wh...  1577836803   \n",
       "1       It’s plausible that Republicans will never win...  1577836806   \n",
       "2       we must send bartenders back to bartending and...  1577836807   \n",
       "3       Bullshit. You're blaming a fiscally conservati...  1577836814   \n",
       "4       Military R&amp;D and intel isn't \"no reason.\" ...  1577836818   \n",
       "...                                                   ...         ...   \n",
       "618856  What a feckless piece of shit. His wife is a C...  1609459671   \n",
       "618857  It needs to be all of them because you can be ...  1609459690   \n",
       "618858  I too have been stopped by cops for no good re...  1609459705   \n",
       "618859  So you mean you wont prove me wrong because i ...  1609459733   \n",
       "618860  No, that's a libertarian extreme. Fascism is a...  1609459753   \n",
       "\n",
       "          link_id   parent_id  score  \n",
       "0       t3_ei6h2x   t3_ei6h2x    1.0  \n",
       "1       t3_ei4ag7   t3_ei4ag7    1.0  \n",
       "2       t3_eiay7b   t3_eiay7b    1.0  \n",
       "3       t3_ei40gl  t1_fco5fri    1.0  \n",
       "4       t3_ei51lq  t1_fcodqek    1.0  \n",
       "...           ...         ...    ...  \n",
       "618856  t3_knxsoa   t3_knxsoa    1.0  \n",
       "618857  t3_knx581   t3_knx581    1.0  \n",
       "618858  t3_knt8ys  t1_ghn5gfa    1.0  \n",
       "618859  t3_knsp5z  t1_ghnh1oj    1.0  \n",
       "618860  t3_ko0lv0  t1_ghnmlat    1.0  \n",
       "\n",
       "[994850 rows x 6 columns]"
      ]
     },
     "execution_count": 4,
     "metadata": {},
     "output_type": "execute_result"
    }
   ],
   "source": [
    "target_pd"
   ]
  },
  {
   "cell_type": "markdown",
   "metadata": {},
   "source": [
    "# Fix data types"
   ]
  },
  {
   "cell_type": "code",
   "execution_count": 5,
   "metadata": {},
   "outputs": [],
   "source": [
    "# DROP NAN VALUES\n",
    "target_pd = target_pd.dropna(axis = 0, how = \"any\")\n",
    "# CAST DTYPE TO ALL COLUMNS\n",
    "type_dict = {'author': \"string\", 'body': \"string\", 'created_utc': \"int64\", 'link_id': \"string\", \n",
    "             'parent_id': \"string\", 'score': \"int64\"}\n",
    "target_pd = target_pd.astype(type_dict, copy = True)"
   ]
  },
  {
   "cell_type": "markdown",
   "metadata": {},
   "source": [
    "# Remove contractions"
   ]
  },
  {
   "cell_type": "code",
   "execution_count": 6,
   "metadata": {},
   "outputs": [],
   "source": [
    "def remove_contractions(w):\n",
    "    w_exp = contractions.fix(w)\n",
    "    return w_exp\n",
    "\n",
    "target_pd[\"body\"] = target_pd[\"body\"].apply(remove_contractions)"
   ]
  },
  {
   "cell_type": "markdown",
   "metadata": {},
   "source": [
    "# Save the cleanest file"
   ]
  },
  {
   "cell_type": "code",
   "execution_count": 7,
   "metadata": {},
   "outputs": [],
   "source": [
    "out_data_dir = \"./\"\n",
    "community_name = in_file.split(\"_\")[0]\n",
    "out_file = f\"{community_name}_comments_2020_clean_v2.csv\"\n",
    "# CHECK THE NAME OF THE FILE TO MATCH THE DATAFRAME\n",
    "target_pd.to_csv(os.path.join(out_data_dir, out_file))"
   ]
  },
  {
   "cell_type": "code",
   "execution_count": null,
   "metadata": {},
   "outputs": [],
   "source": []
  },
  {
   "cell_type": "code",
   "execution_count": null,
   "metadata": {},
   "outputs": [],
   "source": []
  },
  {
   "cell_type": "markdown",
   "metadata": {},
   "source": [
    "# Sandbox"
   ]
  },
  {
   "cell_type": "code",
   "execution_count": 12,
   "metadata": {},
   "outputs": [
    {
     "name": "stderr",
     "output_type": "stream",
     "text": [
      "Downloading LanguageTool: 100%|██████████| 190M/190M [00:17<00:00, 11.2MB/s] \n",
      "Unzipping /tmp/tmpvp0effc_.zip to /root/.cache/language_tool_python.\n",
      "Downloaded https://www.languagetool.org/download/LanguageTool-5.2.zip to /root/.cache/language_tool_python.\n"
     ]
    }
   ],
   "source": [
    "import language_tool_python\n",
    "tool = language_tool_python.LanguageTool('en-US')"
   ]
  },
  {
   "cell_type": "code",
   "execution_count": 14,
   "metadata": {},
   "outputs": [
    {
     "data": {
      "text/plain": [
       "[Match({'ruleId': 'MORFOLOGIK_RULE_EN_US', 'message': 'Possible spelling mistake found.', 'replacements': ['Smith', 'Seth', 'SMTP', 'smith', 'SMH', 'SMT', 'SMUH', 'Sith'], 'offsetInContext': 10, 'context': \"I've done smth baad..\", 'offset': 10, 'errorLength': 4, 'category': 'TYPOS', 'ruleIssueType': 'misspelling', 'sentence': \"I've done smth baad..\"}),\n",
       " Match({'ruleId': 'MORFOLOGIK_RULE_EN_US', 'message': 'Possible spelling mistake found.', 'replacements': ['band', 'bad', 'Brad', 'bald', 'bead', 'bard', 'Baal', 'baud', 'baa', 'baas', 'brad', 'AAD', 'BAA', 'baaed', 'bawd'], 'offsetInContext': 15, 'context': \"I've done smth baad..\", 'offset': 15, 'errorLength': 4, 'category': 'TYPOS', 'ruleIssueType': 'misspelling', 'sentence': \"I've done smth baad..\"}),\n",
       " Match({'ruleId': 'DOUBLE_PUNCTUATION', 'message': 'Two consecutive dots', 'replacements': ['.', '…'], 'offsetInContext': 19, 'context': \"I've done smth baad..\", 'offset': 19, 'errorLength': 2, 'category': 'PUNCTUATION', 'ruleIssueType': 'typographical', 'sentence': \"I've done smth baad..\"})]"
      ]
     },
     "execution_count": 14,
     "metadata": {},
     "output_type": "execute_result"
    }
   ],
   "source": [
    "tool.check(texts[0])"
   ]
  }
 ],
 "metadata": {
  "kernelspec": {
   "display_name": "Python 3",
   "language": "python",
   "name": "python3"
  },
  "language_info": {
   "codemirror_mode": {
    "name": "ipython",
    "version": 3
   },
   "file_extension": ".py",
   "mimetype": "text/x-python",
   "name": "python",
   "nbconvert_exporter": "python",
   "pygments_lexer": "ipython3",
   "version": "3.7.4"
  }
 },
 "nbformat": 4,
 "nbformat_minor": 4
}
