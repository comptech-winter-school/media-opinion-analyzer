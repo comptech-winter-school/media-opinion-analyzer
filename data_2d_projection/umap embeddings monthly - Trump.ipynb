{
 "cells": [
  {
   "cell_type": "markdown",
   "metadata": {
    "id": "qM_XHcPVzUei"
   },
   "source": [
    "# UMAP embeddings for the monthly data comments from subreddits"
   ]
  },
  {
   "cell_type": "markdown",
   "metadata": {
    "id": "4FFq3DIYzgak"
   },
   "source": [
    "# IMPORT MODULES"
   ]
  },
  {
   "cell_type": "code",
   "execution_count": 1,
   "metadata": {
    "executionInfo": {
     "elapsed": 1914,
     "status": "ok",
     "timestamp": 1617608526887,
     "user": {
      "displayName": "Alexey Medvedev",
      "photoUrl": "",
      "userId": "06886034211416817939"
     },
     "user_tz": -120
    },
    "id": "J3vC9YwjzTi4"
   },
   "outputs": [],
   "source": [
    "#import json\n",
    "import os\n",
    "#from google.colab import drive\n",
    "from tqdm.notebook import tqdm\n",
    "import pickle\n",
    "from collections import Counter\n",
    "from datetime import datetime, timedelta\n",
    "import pandas as pd\n",
    "import numpy as np\n",
    "from scipy import spatial\n",
    "\n",
    "import umap\n",
    "import matplotlib.pyplot as plt\n",
    "\n",
    "# import torch\n",
    "# from sentence_transformers import SentenceTransformer, util\n",
    "#from sklearn.metrics.pairwise import cosine_similarity\n",
    "# from sklearn.decomposition import PCA\n",
    "# from sklearn.manifold import TSNE\n",
    "# from sklearn.cluster import KMeans\n",
    "# from sklearn.cluster import OPTICS\n",
    "# import seaborn as sns"
   ]
  },
  {
   "cell_type": "markdown",
   "metadata": {
    "id": "3ZT3Z71WzpsJ"
   },
   "source": [
    "# TECHNICAL FUNCTIONS"
   ]
  },
  {
   "cell_type": "code",
   "execution_count": 2,
   "metadata": {
    "executionInfo": {
     "elapsed": 854,
     "status": "ok",
     "timestamp": 1617608526888,
     "user": {
      "displayName": "Alexey Medvedev",
      "photoUrl": "",
      "userId": "06886034211416817939"
     },
     "user_tz": -120
    },
    "id": "lQnpzkhQzTlF"
   },
   "outputs": [],
   "source": [
    "def get_date_range(month_start, year_start, month_end, year_end):\n",
    "    from itertools import cycle\n",
    "    month_range = list(range(1,13))\n",
    "    cycle_month_range = cycle(month_range)\n",
    "    while True:\n",
    "        current_month = next(cycle_month_range)\n",
    "        if current_month == month_start:\n",
    "            break\n",
    "    date_tuples = []\n",
    "    year = year_start\n",
    "    while True:\n",
    "        date_tuples.append((current_month, year))\n",
    "        if year == year_end and current_month == month_end:\n",
    "            break\n",
    "        current_month = next(cycle_month_range)\n",
    "        if current_month == 1:\n",
    "            year += 1\n",
    "    return date_tuples"
   ]
  },
  {
   "cell_type": "markdown",
   "metadata": {
    "id": "Loyy5mT1zxWx"
   },
   "source": [
    "# UPLOAD DATA"
   ]
  },
  {
   "cell_type": "code",
   "execution_count": 3,
   "metadata": {
    "executionInfo": {
     "elapsed": 335,
     "status": "ok",
     "timestamp": 1617608527092,
     "user": {
      "displayName": "Alexey Medvedev",
      "photoUrl": "",
      "userId": "06886034211416817939"
     },
     "user_tz": -120
    },
    "id": "LYD2LqiwzTnQ"
   },
   "outputs": [],
   "source": [
    "# google_drive_path = \"./\"\n",
    "comptech_opinion_analizer_path = \"./\""
   ]
  },
  {
   "cell_type": "code",
   "execution_count": 4,
   "metadata": {
    "colab": {
     "base_uri": "https://localhost:8080/",
     "height": 66,
     "referenced_widgets": [
      "363e44aafcdf44a682124d8a01a27a46",
      "2b41d2b3a9f94eeca0b0e3ad0cbc557d",
      "98261b6660e042699989c1ac169455ab",
      "61d761e57dac42988b9e5a9f4f38ecc5",
      "251bb3c61c2746cc8639de8ea167506a",
      "487255908c35447e9220909ae32b3990",
      "b19c0c3c7b874ea48787292f57d82918",
      "0a2653bfbe944acba2c8d7924edbb3fe"
     ]
    },
    "executionInfo": {
     "elapsed": 33792,
     "status": "ok",
     "timestamp": 1617608560922,
     "user": {
      "displayName": "Alexey Medvedev",
      "photoUrl": "",
      "userId": "06886034211416817939"
     },
     "user_tz": -120
    },
    "id": "hHQtO4_dzTpg",
    "outputId": "a1ed8402-e665-4533-8541-6b4a3515592a"
   },
   "outputs": [
    {
     "data": {
      "application/vnd.jupyter.widget-view+json": {
       "model_id": "643f5322b0814083991930a94cf929c2",
       "version_major": 2,
       "version_minor": 0
      },
      "text/plain": [
       "HBox(children=(HTML(value=''), FloatProgress(value=0.0, max=7.0), HTML(value='')))"
      ]
     },
     "metadata": {},
     "output_type": "display_data"
    },
    {
     "name": "stdout",
     "output_type": "stream",
     "text": [
      "\n"
     ]
    }
   ],
   "source": [
    "# UPLOAD THE DATA\n",
    "\n",
    "data_dir = os.path.join(comptech_opinion_analizer_path, \"embeddings_bert/\")\n",
    "data_files = [f for f in os.listdir(data_dir) if \"pickle\" in f]\n",
    "\n",
    "entity = \"Trump\"\n",
    "entity_data_files = sorted([f for f in data_files if entity in f])\n",
    "\n",
    "df_vecs = pd.DataFrame()\n",
    "for f in tqdm(entity_data_files):\n",
    "    data_path = os.path.join(data_dir, f)\n",
    "    df_vecs = df_vecs.append(pickle.load(open(data_path, \"rb\")))"
   ]
  },
  {
   "cell_type": "markdown",
   "metadata": {
    "id": "nwWI5u0oz7I2"
   },
   "source": [
    "# Show the timeline of comment counts\n",
    "\n"
   ]
  },
  {
   "cell_type": "code",
   "execution_count": 5,
   "metadata": {
    "colab": {
     "base_uri": "https://localhost:8080/",
     "height": 159
    },
    "executionInfo": {
     "elapsed": 33287,
     "status": "ok",
     "timestamp": 1617608561419,
     "user": {
      "displayName": "Alexey Medvedev",
      "photoUrl": "",
      "userId": "06886034211416817939"
     },
     "user_tz": -120
    },
    "id": "R2ogWUfpzTrb",
    "outputId": "f3d00ad3-9044-49e3-b14b-3dd52ae60d07"
   },
   "outputs": [
    {
     "data": {
      "image/png": "[encoded data removed]",
      "text/plain": [
       "<Figure size 1080x108 with 1 Axes>"
      ]
     },
     "metadata": {
      "needs_background": "light"
     },
     "output_type": "display_data"
    }
   ],
   "source": [
    "created_list = sorted(df_vecs.created_utc.to_list())\n",
    "b_width = 3600*24*3 # weekly\n",
    "bins = np.arange(min(created_list), max(created_list) + 1, b_width)\n",
    "hist, bins = np.histogram(created_list, bins = bins)\n",
    "dt_bins = [datetime.fromtimestamp(t) for t in bins[:-1]]\n",
    "\n",
    "plt.figure(figsize=(15,1.5))\n",
    "plt.title(f\"/r/{entity} :: Number of comments per week\")\n",
    "plt.plot(dt_bins, hist, marker = \"x\")\n",
    "plt.xlabel(\"Time\")\n",
    "plt.ylabel(\"Count\")\n",
    "plt.show()"
   ]
  },
  {
   "cell_type": "markdown",
   "metadata": {
    "id": "aq1AxNmb0Dg2"
   },
   "source": [
    "# TSNE EMBEDDING OF COMMENTS"
   ]
  },
  {
   "cell_type": "code",
   "execution_count": 6,
   "metadata": {
    "executionInfo": {
     "elapsed": 915,
     "status": "ok",
     "timestamp": 1617608562340,
     "user": {
      "displayName": "Alexey Medvedev",
      "photoUrl": "",
      "userId": "06886034211416817939"
     },
     "user_tz": -120
    },
    "id": "AWdnoZWQ0FtF"
   },
   "outputs": [],
   "source": [
    "# ADD FOLDER\n",
    "# colab_notebooks_path = os.path.join(google_drive_path, \"Colab Notebooks/opinion_analyzer/\")\n",
    "umap_embedding_dir = os.path.join(comptech_opinion_analizer_path, \"umap_embeddings\")\n",
    "os.makedirs(umap_embedding_dir, exist_ok = True)"
   ]
  },
  {
   "cell_type": "code",
   "execution_count": 13,
   "metadata": {
    "colab": {
     "base_uri": "https://localhost:8080/",
     "height": 66,
     "referenced_widgets": [
      "356e4993ab144abe8cfc278907f348d4",
      "cb4ef2239edc479ca9c74c1589718a37",
      "14ff292c1f764fc285bc98d8449bee18",
      "8bded55a620549f5b0f5c475e16f9b1b",
      "afe3e4cf09ee40a0b4f74485819026b2",
      "f94ba187485e47b28676319c821d7904",
      "4b24f2eecae94cf6867811a9de6be66e",
      "84c371ee88be44e08f5a3a9f35d74ddd"
     ]
    },
    "id": "mk3x6vfszTtq",
    "outputId": "44f4f365-e231-4688-8202-b69cd668b7d5"
   },
   "outputs": [
    {
     "data": {
      "application/vnd.jupyter.widget-view+json": {
       "model_id": "59eaad3f6aa24ec895942886b40e250f",
       "version_major": 2,
       "version_minor": 0
      },
      "text/plain": [
       "HBox(children=(HTML(value=''), FloatProgress(value=0.0, max=12.0), HTML(value='')))"
      ]
     },
     "metadata": {},
     "output_type": "display_data"
    },
    {
     "name": "stdout",
     "output_type": "stream",
     "text": [
      "Month labels 53041\n",
      "Month labels 48727\n",
      "Month labels 11409\n",
      "Month labels 1336\n",
      "Month labels 1717\n",
      "Month labels 32262\n",
      "Month labels 43540\n",
      "Month labels 52872\n",
      "Month labels 65871\n",
      "Month labels 75946\n",
      "Month labels 131677\n",
      "Month labels 100439\n",
      "\n"
     ]
    }
   ],
   "source": [
    "# DIMENSIONALITY REDUCTION FOR ALL MONTHLY DATA\n",
    "date_range = get_date_range(1, 2020, 1, 2021)\n",
    "min_dist = 0.001\n",
    "for my_start, my_end in tqdm(list(zip(date_range, date_range[1:]))):\n",
    "    # PREPARATIONS\n",
    "    dt_start = datetime(my_start[1], my_start[0], 1)\n",
    "    dt_end = datetime(my_end[1], my_end[0], 1)\n",
    "\n",
    "    month_str = dt_start.strftime(\"%b %Y\")\n",
    "    t_start, t_end = dt_start.timestamp(), dt_end.timestamp()\n",
    "\n",
    "    month_vecs_df = df_vecs[(t_start < df_vecs.created_utc ) & (df_vecs.created_utc < t_end)]\n",
    "\n",
    "    month_embeddings = month_vecs_df.embedding.to_list()\n",
    "    month_labels = month_vecs_df.body.to_list()\n",
    "    month_ids = month_vecs_df.link_id.to_list()\n",
    "    print(f\"Month labels {len(month_labels)}\")\n",
    "    \n",
    "    # TSNE \n",
    "    embedder = umap.UMAP(min_dist = min_dist, metric = \"cosine\")\n",
    "    month_embeddings_2d = embedder.fit_transform(month_embeddings)\n",
    "    \n",
    "    # OUTPUT \n",
    "    out_file = f\"umap_embedding_2d_{entity}_{my_start[0]}_{my_start[1]}_min_dist_{round(min_dist, 2)}.pickle\"\n",
    "    out_path = os.path.join(umap_embedding_dir, out_file)\n",
    "    out_pack = (month_ids, month_labels, month_embeddings_2d)\n",
    "    pickle.dump(out_pack, open(out_path, \"wb\"))"
   ]
  },
  {
   "cell_type": "markdown",
   "metadata": {
    "id": "jSo7b_9Q1U4B"
   },
   "source": [
    "# Visualisation of comments each month"
   ]
  },
  {
   "cell_type": "code",
   "execution_count": 9,
   "metadata": {
    "id": "K_r3pzNhzTvo"
   },
   "outputs": [],
   "source": [
    "target_month = 1\n",
    "\n",
    "dt_start = datetime(2020, target_month, 1)\n",
    "dt_end = datetime(2020, target_month+1, 1)\n",
    "\n",
    "dt_str = dt_start.strftime(\"%b %Y\")\n",
    "dt_month = int(dt_start.strftime(\"%m\"))\n",
    "dt_year = int(dt_start.strftime(\"%Y\"))\n",
    "\n",
    "t_start, t_end = dt_start.timestamp(), dt_end.timestamp()\n",
    "\n",
    "month_vecs_df = df_vecs[(t_start < df_vecs.created_utc ) & (df_vecs.created_utc < t_end)]"
   ]
  },
  {
   "cell_type": "code",
   "execution_count": 10,
   "metadata": {},
   "outputs": [],
   "source": [
    "min_dist = 0.1\n",
    "embedding_file = f\"umap_embedding_2d_{entity}_{dt_month}_{dt_year}_min_dist_{round(min_dist, 2)}.pickle\"\n",
    "embedding_path = os.path.join(umap_embedding_dir, embedding_file)\n",
    "(month_ids, month_labels, month_embeddings_2d) = pickle.load(open(embedding_path, \"rb\"))"
   ]
  },
  {
   "cell_type": "code",
   "execution_count": 11,
   "metadata": {
    "id": "Jv4ryTEG1XUZ"
   },
   "outputs": [
    {
     "data": {
      "text/plain": [
       "53041"
      ]
     },
     "execution_count": 11,
     "metadata": {},
     "output_type": "execute_result"
    }
   ],
   "source": [
    "month_labels_short = [s[:60]+\"...\" if len(s)>60 else s for s in month_labels]\n",
    "len(month_labels_short)"
   ]
  },
  {
   "cell_type": "code",
   "execution_count": null,
   "metadata": {
    "id": "37on4pv31YU0",
    "scrolled": true
   },
   "outputs": [],
   "source": [
    "# VISUALISATION\n",
    "import plotly.graph_objects as go\n",
    "\n",
    "marker_style = dict(color='lightblue', size=6,  line=dict(color='black', width = 0.5))\n",
    "\n",
    "X, Y = zip(*month_embeddings_2d)\n",
    "scatter_gl = go.Scattergl(x = X, y = Y, hovertext = month_labels_short, mode='markers', marker= marker_style)\n",
    "\n",
    "fig = go.Figure(data = scatter_gl)\n",
    "fig.update_layout(width=1000, height=700, plot_bgcolor = \"white\", margin=dict(l=10, r=10, t=30, b=10), \n",
    "                  title=f\"UMAP comments /r/{entity} :: period {dt_str}\")\n",
    "fig.show()"
   ]
  },
  {
   "cell_type": "code",
   "execution_count": null,
   "metadata": {},
   "outputs": [],
   "source": []
  }
 ],
 "metadata": {
  "colab": {
   "authorship_tag": "ABX9TyPa8VWBsq+s3CJhom4YWVQW",
   "name": "tsne embeddings monthly - 2.ipynb",
   "provenance": []
  },
  "kernelspec": {
   "display_name": "Python 3",
   "language": "python",
   "name": "python3"
  },
  "language_info": {
   "codemirror_mode": {
    "name": "ipython",
    "version": 3
   },
   "file_extension": ".py",
   "mimetype": "text/x-python",
   "name": "python",
   "nbconvert_exporter": "python",
   "pygments_lexer": "ipython3",
   "version": "3.7.9"
  },
  "widgets": {
   "application/vnd.jupyter.widget-state+json": {
    "0a2653bfbe944acba2c8d7924edbb3fe": {
     "model_module": "@jupyter-widgets/base",
     "model_name": "LayoutModel",
     "state": {
      "_model_module": "@jupyter-widgets/base",
      "_model_module_version": "1.2.0",
      "_model_name": "LayoutModel",
      "_view_count": null,
      "_view_module": "@jupyter-widgets/base",
      "_view_module_version": "1.2.0",
      "_view_name": "LayoutView",
      "align_content": null,
      "align_items": null,
      "align_self": null,
      "border": null,
      "bottom": null,
      "display": null,
      "flex": null,
      "flex_flow": null,
      "grid_area": null,
      "grid_auto_columns": null,
      "grid_auto_flow": null,
      "grid_auto_rows": null,
      "grid_column": null,
      "grid_gap": null,
      "grid_row": null,
      "grid_template_areas": null,
      "grid_template_columns": null,
      "grid_template_rows": null,
      "height": null,
      "justify_content": null,
      "justify_items": null,
      "left": null,
      "margin": null,
      "max_height": null,
      "max_width": null,
      "min_height": null,
      "min_width": null,
      "object_fit": null,
      "object_position": null,
      "order": null,
      "overflow": null,
      "overflow_x": null,
      "overflow_y": null,
      "padding": null,
      "right": null,
      "top": null,
      "visibility": null,
      "width": null
     }
    },
    "14ff292c1f764fc285bc98d8449bee18": {
     "model_module": "@jupyter-widgets/controls",
     "model_name": "FloatProgressModel",
     "state": {
      "_dom_classes": [],
      "_model_module": "@jupyter-widgets/controls",
      "_model_module_version": "1.5.0",
      "_model_name": "FloatProgressModel",
      "_view_count": null,
      "_view_module": "@jupyter-widgets/controls",
      "_view_module_version": "1.5.0",
      "_view_name": "ProgressView",
      "bar_style": "",
      "description": "  0%",
      "description_tooltip": null,
      "layout": "IPY_MODEL_f94ba187485e47b28676319c821d7904",
      "max": 2,
      "min": 0,
      "orientation": "horizontal",
      "style": "IPY_MODEL_afe3e4cf09ee40a0b4f74485819026b2",
      "value": 0
     }
    },
    "251bb3c61c2746cc8639de8ea167506a": {
     "model_module": "@jupyter-widgets/controls",
     "model_name": "ProgressStyleModel",
     "state": {
      "_model_module": "@jupyter-widgets/controls",
      "_model_module_version": "1.5.0",
      "_model_name": "ProgressStyleModel",
      "_view_count": null,
      "_view_module": "@jupyter-widgets/base",
      "_view_module_version": "1.2.0",
      "_view_name": "StyleView",
      "bar_color": null,
      "description_width": "initial"
     }
    },
    "2b41d2b3a9f94eeca0b0e3ad0cbc557d": {
     "model_module": "@jupyter-widgets/base",
     "model_name": "LayoutModel",
     "state": {
      "_model_module": "@jupyter-widgets/base",
      "_model_module_version": "1.2.0",
      "_model_name": "LayoutModel",
      "_view_count": null,
      "_view_module": "@jupyter-widgets/base",
      "_view_module_version": "1.2.0",
      "_view_name": "LayoutView",
      "align_content": null,
      "align_items": null,
      "align_self": null,
      "border": null,
      "bottom": null,
      "display": null,
      "flex": null,
      "flex_flow": null,
      "grid_area": null,
      "grid_auto_columns": null,
      "grid_auto_flow": null,
      "grid_auto_rows": null,
      "grid_column": null,
      "grid_gap": null,
      "grid_row": null,
      "grid_template_areas": null,
      "grid_template_columns": null,
      "grid_template_rows": null,
      "height": null,
      "justify_content": null,
      "justify_items": null,
      "left": null,
      "margin": null,
      "max_height": null,
      "max_width": null,
      "min_height": null,
      "min_width": null,
      "object_fit": null,
      "object_position": null,
      "order": null,
      "overflow": null,
      "overflow_x": null,
      "overflow_y": null,
      "padding": null,
      "right": null,
      "top": null,
      "visibility": null,
      "width": null
     }
    },
    "356e4993ab144abe8cfc278907f348d4": {
     "model_module": "@jupyter-widgets/controls",
     "model_name": "HBoxModel",
     "state": {
      "_dom_classes": [],
      "_model_module": "@jupyter-widgets/controls",
      "_model_module_version": "1.5.0",
      "_model_name": "HBoxModel",
      "_view_count": null,
      "_view_module": "@jupyter-widgets/controls",
      "_view_module_version": "1.5.0",
      "_view_name": "HBoxView",
      "box_style": "",
      "children": [
       "IPY_MODEL_14ff292c1f764fc285bc98d8449bee18",
       "IPY_MODEL_8bded55a620549f5b0f5c475e16f9b1b"
      ],
      "layout": "IPY_MODEL_cb4ef2239edc479ca9c74c1589718a37"
     }
    },
    "363e44aafcdf44a682124d8a01a27a46": {
     "model_module": "@jupyter-widgets/controls",
     "model_name": "HBoxModel",
     "state": {
      "_dom_classes": [],
      "_model_module": "@jupyter-widgets/controls",
      "_model_module_version": "1.5.0",
      "_model_name": "HBoxModel",
      "_view_count": null,
      "_view_module": "@jupyter-widgets/controls",
      "_view_module_version": "1.5.0",
      "_view_name": "HBoxView",
      "box_style": "",
      "children": [
       "IPY_MODEL_98261b6660e042699989c1ac169455ab",
       "IPY_MODEL_61d761e57dac42988b9e5a9f4f38ecc5"
      ],
      "layout": "IPY_MODEL_2b41d2b3a9f94eeca0b0e3ad0cbc557d"
     }
    },
    "487255908c35447e9220909ae32b3990": {
     "model_module": "@jupyter-widgets/base",
     "model_name": "LayoutModel",
     "state": {
      "_model_module": "@jupyter-widgets/base",
      "_model_module_version": "1.2.0",
      "_model_name": "LayoutModel",
      "_view_count": null,
      "_view_module": "@jupyter-widgets/base",
      "_view_module_version": "1.2.0",
      "_view_name": "LayoutView",
      "align_content": null,
      "align_items": null,
      "align_self": null,
      "border": null,
      "bottom": null,
      "display": null,
      "flex": null,
      "flex_flow": null,
      "grid_area": null,
      "grid_auto_columns": null,
      "grid_auto_flow": null,
      "grid_auto_rows": null,
      "grid_column": null,
      "grid_gap": null,
      "grid_row": null,
      "grid_template_areas": null,
      "grid_template_columns": null,
      "grid_template_rows": null,
      "height": null,
      "justify_content": null,
      "justify_items": null,
      "left": null,
      "margin": null,
      "max_height": null,
      "max_width": null,
      "min_height": null,
      "min_width": null,
      "object_fit": null,
      "object_position": null,
      "order": null,
      "overflow": null,
      "overflow_x": null,
      "overflow_y": null,
      "padding": null,
      "right": null,
      "top": null,
      "visibility": null,
      "width": null
     }
    },
    "4b24f2eecae94cf6867811a9de6be66e": {
     "model_module": "@jupyter-widgets/controls",
     "model_name": "DescriptionStyleModel",
     "state": {
      "_model_module": "@jupyter-widgets/controls",
      "_model_module_version": "1.5.0",
      "_model_name": "DescriptionStyleModel",
      "_view_count": null,
      "_view_module": "@jupyter-widgets/base",
      "_view_module_version": "1.2.0",
      "_view_name": "StyleView",
      "description_width": ""
     }
    },
    "61d761e57dac42988b9e5a9f4f38ecc5": {
     "model_module": "@jupyter-widgets/controls",
     "model_name": "HTMLModel",
     "state": {
      "_dom_classes": [],
      "_model_module": "@jupyter-widgets/controls",
      "_model_module_version": "1.5.0",
      "_model_name": "HTMLModel",
      "_view_count": null,
      "_view_module": "@jupyter-widgets/controls",
      "_view_module_version": "1.5.0",
      "_view_name": "HTMLView",
      "description": "",
      "description_tooltip": null,
      "layout": "IPY_MODEL_0a2653bfbe944acba2c8d7924edbb3fe",
      "placeholder": "​",
      "style": "IPY_MODEL_b19c0c3c7b874ea48787292f57d82918",
      "value": " 7/7 [00:32&lt;00:00,  4.59s/it]"
     }
    },
    "84c371ee88be44e08f5a3a9f35d74ddd": {
     "model_module": "@jupyter-widgets/base",
     "model_name": "LayoutModel",
     "state": {
      "_model_module": "@jupyter-widgets/base",
      "_model_module_version": "1.2.0",
      "_model_name": "LayoutModel",
      "_view_count": null,
      "_view_module": "@jupyter-widgets/base",
      "_view_module_version": "1.2.0",
      "_view_name": "LayoutView",
      "align_content": null,
      "align_items": null,
      "align_self": null,
      "border": null,
      "bottom": null,
      "display": null,
      "flex": null,
      "flex_flow": null,
      "grid_area": null,
      "grid_auto_columns": null,
      "grid_auto_flow": null,
      "grid_auto_rows": null,
      "grid_column": null,
      "grid_gap": null,
      "grid_row": null,
      "grid_template_areas": null,
      "grid_template_columns": null,
      "grid_template_rows": null,
      "height": null,
      "justify_content": null,
      "justify_items": null,
      "left": null,
      "margin": null,
      "max_height": null,
      "max_width": null,
      "min_height": null,
      "min_width": null,
      "object_fit": null,
      "object_position": null,
      "order": null,
      "overflow": null,
      "overflow_x": null,
      "overflow_y": null,
      "padding": null,
      "right": null,
      "top": null,
      "visibility": null,
      "width": null
     }
    },
    "8bded55a620549f5b0f5c475e16f9b1b": {
     "model_module": "@jupyter-widgets/controls",
     "model_name": "HTMLModel",
     "state": {
      "_dom_classes": [],
      "_model_module": "@jupyter-widgets/controls",
      "_model_module_version": "1.5.0",
      "_model_name": "HTMLModel",
      "_view_count": null,
      "_view_module": "@jupyter-widgets/controls",
      "_view_module_version": "1.5.0",
      "_view_name": "HTMLView",
      "description": "",
      "description_tooltip": null,
      "layout": "IPY_MODEL_84c371ee88be44e08f5a3a9f35d74ddd",
      "placeholder": "​",
      "style": "IPY_MODEL_4b24f2eecae94cf6867811a9de6be66e",
      "value": " 0/2 [00:00&lt;?, ?it/s]"
     }
    },
    "98261b6660e042699989c1ac169455ab": {
     "model_module": "@jupyter-widgets/controls",
     "model_name": "FloatProgressModel",
     "state": {
      "_dom_classes": [],
      "_model_module": "@jupyter-widgets/controls",
      "_model_module_version": "1.5.0",
      "_model_name": "FloatProgressModel",
      "_view_count": null,
      "_view_module": "@jupyter-widgets/controls",
      "_view_module_version": "1.5.0",
      "_view_name": "ProgressView",
      "bar_style": "success",
      "description": "100%",
      "description_tooltip": null,
      "layout": "IPY_MODEL_487255908c35447e9220909ae32b3990",
      "max": 7,
      "min": 0,
      "orientation": "horizontal",
      "style": "IPY_MODEL_251bb3c61c2746cc8639de8ea167506a",
      "value": 7
     }
    },
    "afe3e4cf09ee40a0b4f74485819026b2": {
     "model_module": "@jupyter-widgets/controls",
     "model_name": "ProgressStyleModel",
     "state": {
      "_model_module": "@jupyter-widgets/controls",
      "_model_module_version": "1.5.0",
      "_model_name": "ProgressStyleModel",
      "_view_count": null,
      "_view_module": "@jupyter-widgets/base",
      "_view_module_version": "1.2.0",
      "_view_name": "StyleView",
      "bar_color": null,
      "description_width": "initial"
     }
    },
    "b19c0c3c7b874ea48787292f57d82918": {
     "model_module": "@jupyter-widgets/controls",
     "model_name": "DescriptionStyleModel",
     "state": {
      "_model_module": "@jupyter-widgets/controls",
      "_model_module_version": "1.5.0",
      "_model_name": "DescriptionStyleModel",
      "_view_count": null,
      "_view_module": "@jupyter-widgets/base",
      "_view_module_version": "1.2.0",
      "_view_name": "StyleView",
      "description_width": ""
     }
    },
    "cb4ef2239edc479ca9c74c1589718a37": {
     "model_module": "@jupyter-widgets/base",
     "model_name": "LayoutModel",
     "state": {
      "_model_module": "@jupyter-widgets/base",
      "_model_module_version": "1.2.0",
      "_model_name": "LayoutModel",
      "_view_count": null,
      "_view_module": "@jupyter-widgets/base",
      "_view_module_version": "1.2.0",
      "_view_name": "LayoutView",
      "align_content": null,
      "align_items": null,
      "align_self": null,
      "border": null,
      "bottom": null,
      "display": null,
      "flex": null,
      "flex_flow": null,
      "grid_area": null,
      "grid_auto_columns": null,
      "grid_auto_flow": null,
      "grid_auto_rows": null,
      "grid_column": null,
      "grid_gap": null,
      "grid_row": null,
      "grid_template_areas": null,
      "grid_template_columns": null,
      "grid_template_rows": null,
      "height": null,
      "justify_content": null,
      "justify_items": null,
      "left": null,
      "margin": null,
      "max_height": null,
      "max_width": null,
      "min_height": null,
      "min_width": null,
      "object_fit": null,
      "object_position": null,
      "order": null,
      "overflow": null,
      "overflow_x": null,
      "overflow_y": null,
      "padding": null,
      "right": null,
      "top": null,
      "visibility": null,
      "width": null
     }
    },
    "f94ba187485e47b28676319c821d7904": {
     "model_module": "@jupyter-widgets/base",
     "model_name": "LayoutModel",
     "state": {
      "_model_module": "@jupyter-widgets/base",
      "_model_module_version": "1.2.0",
      "_model_name": "LayoutModel",
      "_view_count": null,
      "_view_module": "@jupyter-widgets/base",
      "_view_module_version": "1.2.0",
      "_view_name": "LayoutView",
      "align_content": null,
      "align_items": null,
      "align_self": null,
      "border": null,
      "bottom": null,
      "display": null,
      "flex": null,
      "flex_flow": null,
      "grid_area": null,
      "grid_auto_columns": null,
      "grid_auto_flow": null,
      "grid_auto_rows": null,
      "grid_column": null,
      "grid_gap": null,
      "grid_row": null,
      "grid_template_areas": null,
      "grid_template_columns": null,
      "grid_template_rows": null,
      "height": null,
      "justify_content": null,
      "justify_items": null,
      "left": null,
      "margin": null,
      "max_height": null,
      "max_width": null,
      "min_height": null,
      "min_width": null,
      "object_fit": null,
      "object_position": null,
      "order": null,
      "overflow": null,
      "overflow_x": null,
      "overflow_y": null,
      "padding": null,
      "right": null,
      "top": null,
      "visibility": null,
      "width": null
     }
    }
   }
  }
 },
 "nbformat": 4,
 "nbformat_minor": 1
}
