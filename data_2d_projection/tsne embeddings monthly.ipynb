{
 "cells": [
  {
   "cell_type": "markdown",
   "metadata": {
    "id": "qM_XHcPVzUei"
   },
   "source": [
    "# TSNE embeddings for the monthly data comments from subreddits"
   ]
  },
  {
   "cell_type": "markdown",
   "metadata": {
    "id": "4FFq3DIYzgak"
   },
   "source": [
    "# IMPORT MODULES"
   ]
  },
  {
   "cell_type": "code",
   "execution_count": 1,
   "metadata": {
    "executionInfo": {
     "elapsed": 1642,
     "status": "ok",
     "timestamp": 1617608556018,
     "user": {
      "displayName": "Alexey Medvedev",
      "photoUrl": "",
      "userId": "06886034211416817939"
     },
     "user_tz": -120
    },
    "id": "J3vC9YwjzTi4"
   },
   "outputs": [],
   "source": [
    "#import json\n",
    "import os\n",
    "#from google.colab import drive\n",
    "from tqdm.notebook import tqdm\n",
    "import pickle\n",
    "from collections import Counter\n",
    "from datetime import datetime, timedelta\n",
    "\n",
    "import pandas as pd\n",
    "\n",
    "import numpy as np\n",
    "#import scipy\n",
    "from scipy import spatial\n",
    "\n",
    "# import torch\n",
    "# from sentence_transformers import SentenceTransformer, util\n",
    "#from sklearn.metrics.pairwise import cosine_similarity\n",
    "# import umap\n",
    "# from sklearn.decomposition import PCA\n",
    "from sklearn.manifold import TSNE\n",
    "# from sklearn.cluster import KMeans\n",
    "# from sklearn.cluster import OPTICS\n",
    "\n",
    "import matplotlib.pyplot as plt\n",
    "# import seaborn as sns"
   ]
  },
  {
   "cell_type": "markdown",
   "metadata": {
    "id": "3ZT3Z71WzpsJ"
   },
   "source": [
    "# TECHNICAL FUNCTIONS"
   ]
  },
  {
   "cell_type": "code",
   "execution_count": 2,
   "metadata": {
    "executionInfo": {
     "elapsed": 299,
     "status": "ok",
     "timestamp": 1617608556019,
     "user": {
      "displayName": "Alexey Medvedev",
      "photoUrl": "",
      "userId": "06886034211416817939"
     },
     "user_tz": -120
    },
    "id": "lQnpzkhQzTlF"
   },
   "outputs": [],
   "source": [
    "def get_date_range(month_start, year_start, month_end, year_end):\n",
    "    from itertools import cycle\n",
    "    month_range = list(range(1,13))\n",
    "    cycle_month_range = cycle(month_range)\n",
    "    while True:\n",
    "        current_month = next(cycle_month_range)\n",
    "        if current_month == month_start:\n",
    "            break\n",
    "    date_tuples = []\n",
    "    year = year_start\n",
    "    while True:\n",
    "        date_tuples.append((current_month, year))\n",
    "        if year == year_end and current_month == month_end:\n",
    "            break\n",
    "        current_month = next(cycle_month_range)\n",
    "        if current_month == 1:\n",
    "            year += 1\n",
    "    return date_tuples"
   ]
  },
  {
   "cell_type": "markdown",
   "metadata": {
    "id": "Loyy5mT1zxWx"
   },
   "source": [
    "# UPLOAD DATA"
   ]
  },
  {
   "cell_type": "code",
   "execution_count": 3,
   "metadata": {
    "executionInfo": {
     "elapsed": 297,
     "status": "ok",
     "timestamp": 1617608556761,
     "user": {
      "displayName": "Alexey Medvedev",
      "photoUrl": "",
      "userId": "06886034211416817939"
     },
     "user_tz": -120
    },
    "id": "LYD2LqiwzTnQ"
   },
   "outputs": [],
   "source": [
    "# google_drive_path = \"/content/drive/MyDrive/\"\n",
    "comptech_opinion_analizer_path = \"./\""
   ]
  },
  {
   "cell_type": "code",
   "execution_count": 4,
   "metadata": {
    "colab": {
     "base_uri": "https://localhost:8080/",
     "height": 66,
     "referenced_widgets": [
      "1bf2b2a59f95473c890cc668d6e640e7",
      "a080bd5c6d90422a86031daa1be88cf3",
      "0841c7ec12524d3eac2ff30712a8c8ba",
      "0e859c026da942ddaf74c4c5fcabb505",
      "d90c2559a1314e13a465608657eef8cf",
      "9666dddc0ee24dc4ae060969ff0929ba",
      "cf4918aed78743d481865f41b9abe725",
      "719a79b3c60648c584f6bcc25b679d67"
     ]
    },
    "executionInfo": {
     "elapsed": 24185,
     "status": "ok",
     "timestamp": 1617608581093,
     "user": {
      "displayName": "Alexey Medvedev",
      "photoUrl": "",
      "userId": "06886034211416817939"
     },
     "user_tz": -120
    },
    "id": "hHQtO4_dzTpg",
    "outputId": "d02fe4e7-bbb5-45be-8a9c-e0f08edb5fe6"
   },
   "outputs": [
    {
     "data": {
      "application/vnd.jupyter.widget-view+json": {
       "model_id": "ad00680e76a24626981a640d0e29694d",
       "version_major": 2,
       "version_minor": 0
      },
      "text/plain": [
       "  0%|          | 0/5 [00:00<?, ?it/s]"
      ]
     },
     "metadata": {},
     "output_type": "display_data"
    }
   ],
   "source": [
    "# UPLOAD THE DATA\n",
    "\n",
    "data_dir = os.path.join(comptech_opinion_analizer_path, \"embeddings_bert/\")\n",
    "data_files = [f for f in os.listdir(data_dir) if \"pickle\" in f]\n",
    "\n",
    "entity = \"JoeBiden\"\n",
    "entity_data_files = sorted([f for f in data_files if entity in f])\n",
    "\n",
    "df_vecs = pd.DataFrame()\n",
    "for f in tqdm(entity_data_files):\n",
    "    data_path = os.path.join(data_dir, f)\n",
    "    df_vecs = df_vecs.append(pickle.load(open(data_path, \"rb\")))"
   ]
  },
  {
   "cell_type": "markdown",
   "metadata": {
    "id": "nwWI5u0oz7I2"
   },
   "source": [
    "# Show the timeline of comment counts\n",
    "\n"
   ]
  },
  {
   "cell_type": "code",
   "execution_count": 5,
   "metadata": {
    "colab": {
     "base_uri": "https://localhost:8080/",
     "height": 159
    },
    "executionInfo": {
     "elapsed": 22233,
     "status": "ok",
     "timestamp": 1617608581399,
     "user": {
      "displayName": "Alexey Medvedev",
      "photoUrl": "",
      "userId": "06886034211416817939"
     },
     "user_tz": -120
    },
    "id": "R2ogWUfpzTrb",
    "outputId": "7801869a-3a25-46e0-a732-03d4a71dbdcc"
   },
   "outputs": [
    {
     "data": {
      "image/png": "[encoded data removed]",
      "text/plain": [
       "<Figure size 1080x108 with 1 Axes>"
      ]
     },
     "metadata": {
      "needs_background": "light"
     },
     "output_type": "display_data"
    }
   ],
   "source": [
    "created_list = sorted(df_vecs.created_utc.to_list())\n",
    "b_width = 3600*24*3 # weekly\n",
    "bins = np.arange(min(created_list), max(created_list) + 1, b_width)\n",
    "hist, bins = np.histogram(created_list, bins = bins)\n",
    "dt_bins = [datetime.fromtimestamp(t) for t in bins[:-1]]\n",
    "\n",
    "plt.figure(figsize=(15,1.5))\n",
    "plt.title(f\"/r/{entity} :: Number of comments per week\")\n",
    "plt.plot(dt_bins, hist, marker = \"x\")\n",
    "plt.xlabel(\"Time\")\n",
    "plt.ylabel(\"Count\")\n",
    "plt.show()"
   ]
  },
  {
   "cell_type": "markdown",
   "metadata": {
    "id": "aq1AxNmb0Dg2"
   },
   "source": [
    "# TSNE EMBEDDING OF COMMENTS"
   ]
  },
  {
   "cell_type": "code",
   "execution_count": 6,
   "metadata": {
    "executionInfo": {
     "elapsed": 20472,
     "status": "ok",
     "timestamp": 1617608581682,
     "user": {
      "displayName": "Alexey Medvedev",
      "photoUrl": "",
      "userId": "06886034211416817939"
     },
     "user_tz": -120
    },
    "id": "AWdnoZWQ0FtF"
   },
   "outputs": [],
   "source": [
    "# ADD FOLDER\n",
    "# colab_notebooks_path = os.path.join(google_drive_path, \"Colab Notebooks/opinion_analyzer/\")\n",
    "tsne_embedding_dir = os.path.join(comptech_opinion_analizer_path, \"tsne_embeddings\")\n",
    "os.makedirs(tsne_embedding_dir, exist_ok = True)"
   ]
  },
  {
   "cell_type": "code",
   "execution_count": 7,
   "metadata": {
    "colab": {
     "base_uri": "https://localhost:8080/",
     "height": 66,
     "referenced_widgets": [
      "3dd43ed0a6da418d83c7072935c18c3a",
      "16c94c80d5be48559583dffc68adf8ee",
      "7473c56435174fe7911ff6e25f2426aa",
      "a8cf4404fa6f4cb9bd7498d457efafd2",
      "da0da526e8824b9792f72a7087fba404",
      "918db2e82ec9416fa88074cfe64978a9",
      "60d5d893f3bd4544a0311d170781ad2c",
      "84056c6700874a128461f5c0a4be0f1c"
     ]
    },
    "id": "mk3x6vfszTtq",
    "outputId": "3fc4dd00-5883-4df2-ed23-38dc434ab1a5"
   },
   "outputs": [
    {
     "data": {
      "application/vnd.jupyter.widget-view+json": {
       "model_id": "8c179025c5004e58be6c50a9aa90a6a1",
       "version_major": 2,
       "version_minor": 0
      },
      "text/plain": [
       "  0%|          | 0/2 [00:00<?, ?it/s]"
      ]
     },
     "metadata": {},
     "output_type": "display_data"
    },
    {
     "name": "stdout",
     "output_type": "stream",
     "text": [
      "Month labels 121206\n",
      "Month labels 23361\n"
     ]
    }
   ],
   "source": [
    "\n",
    "# DIMENSIONALITY REDUCTION FOR ALL MONTHLY DATA\n",
    "date_range = get_date_range(11, 2020, 1, 2021)\n",
    "for my_start, my_end in tqdm(list(zip(date_range, date_range[1:]))):\n",
    "    # PREPARATIONS\n",
    "    dt_start = datetime(my_start[1], my_start[0], 1)\n",
    "    dt_end = datetime(my_end[1], my_end[0], 1)\n",
    "\n",
    "    month_str = dt_start.strftime(\"%b %Y\")\n",
    "    t_start, t_end = dt_start.timestamp(), dt_end.timestamp()\n",
    "\n",
    "    month_vecs_df = df_vecs[(t_start < df_vecs.created_utc ) & (df_vecs.created_utc < t_end)]\n",
    "\n",
    "    month_embeddings = month_vecs_df.embedding.to_list()\n",
    "    month_labels = month_vecs_df.body.to_list()\n",
    "    month_ids = month_vecs_df.link_id.to_list()\n",
    "    print(f\"Month labels {len(month_labels)}\")\n",
    "    \n",
    "    # TSNE \n",
    "    tsne = TSNE(n_components = 2)\n",
    "    month_embeddings_2d = tsne.fit_transform(month_embeddings)\n",
    "    \n",
    "    # OUTPUT \n",
    "    out_file = f\"tsne_embedding_2d_{entity}_{my_start[0]}_{my_start[1]}.pickle\"\n",
    "    out_path = os.path.join(tsne_embedding_dir, out_file)\n",
    "    out_pack = (month_ids, month_labels, month_embeddings_2d)\n",
    "    pickle.dump(out_pack, open(out_path, \"wb\"))"
   ]
  },
  {
   "cell_type": "markdown",
   "metadata": {
    "id": "jSo7b_9Q1U4B"
   },
   "source": [
    "# Visualisation of comments each month"
   ]
  },
  {
   "cell_type": "code",
   "execution_count": null,
   "metadata": {
    "id": "K_r3pzNhzTvo"
   },
   "outputs": [],
   "source": [
    "dt_start = datetime(2020, 1, 1)\n",
    "dt_end = datetime(2020, 2, 1)\n",
    "\n",
    "month_str = dt_start.strftime(\"%b %Y\")\n",
    "t_start, t_end = dt_start.timestamp(), dt_end.timestamp()\n",
    "\n",
    "month_vecs_df = df_vecs[(t_start < df_vecs.created_utc ) & (df_vecs.created_utc < t_end)]"
   ]
  },
  {
   "cell_type": "code",
   "execution_count": null,
   "metadata": {
    "id": "Jv4ryTEG1XUZ"
   },
   "outputs": [],
   "source": [
    "month_embeddings = month_vecs_df.embedding.to_list()\n",
    "month_labels = [s[:60]+\"...\" if len(s)>60 else s for s in month_vecs_df.body.to_list()]\n",
    "len(month_labels)"
   ]
  },
  {
   "cell_type": "code",
   "execution_count": null,
   "metadata": {
    "id": "37on4pv31YU0"
   },
   "outputs": [],
   "source": [
    "# VISUALISATION\n",
    "import plotly.graph_objects as go\n",
    "\n",
    "marker_style = dict(color='lightblue', size=6,  line=dict(color='black', width = 0.5))\n",
    "\n",
    "X, Y = zip(*month_embeddings_2d)\n",
    "scatter_gl = go.Scattergl(x = X, y = Y, hovertext = month_labels, mode='markers', marker= marker_style)\n",
    "\n",
    "fig = go.Figure(data = scatter_gl)\n",
    "fig.update_layout(width=1000, height=700, plot_bgcolor = \"white\", margin=dict(l=10, r=10, t=30, b=10), \n",
    "                  title=f\"TSNE comments /r/{entity} :: period {month_str}\")\n",
    "fig.show()"
   ]
  }
 ],
 "metadata": {
  "colab": {
   "authorship_tag": "ABX9TyPYY4hQeKXwqgxTjwkYejWq",
   "name": "tsne embeddings monthly.ipynb",
   "provenance": []
  },
  "kernelspec": {
   "display_name": "Python 3",
   "language": "python",
   "name": "python3"
  },
  "language_info": {
   "codemirror_mode": {
    "name": "ipython",
    "version": 3
   },
   "file_extension": ".py",
   "mimetype": "text/x-python",
   "name": "python",
   "nbconvert_exporter": "python",
   "pygments_lexer": "ipython3",
   "version": "3.7.3"
  },
  "widgets": {
   "application/vnd.jupyter.widget-state+json": {
    "0841c7ec12524d3eac2ff30712a8c8ba": {
     "model_module": "@jupyter-widgets/controls",
     "model_name": "FloatProgressModel",
     "state": {
      "_dom_classes": [],
      "_model_module": "@jupyter-widgets/controls",
      "_model_module_version": "1.5.0",
      "_model_name": "FloatProgressModel",
      "_view_count": null,
      "_view_module": "@jupyter-widgets/controls",
      "_view_module_version": "1.5.0",
      "_view_name": "ProgressView",
      "bar_style": "success",
      "description": "100%",
      "description_tooltip": null,
      "layout": "IPY_MODEL_9666dddc0ee24dc4ae060969ff0929ba",
      "max": 5,
      "min": 0,
      "orientation": "horizontal",
      "style": "IPY_MODEL_d90c2559a1314e13a465608657eef8cf",
      "value": 5
     }
    },
    "0e859c026da942ddaf74c4c5fcabb505": {
     "model_module": "@jupyter-widgets/controls",
     "model_name": "HTMLModel",
     "state": {
      "_dom_classes": [],
      "_model_module": "@jupyter-widgets/controls",
      "_model_module_version": "1.5.0",
      "_model_name": "HTMLModel",
      "_view_count": null,
      "_view_module": "@jupyter-widgets/controls",
      "_view_module_version": "1.5.0",
      "_view_name": "HTMLView",
      "description": "",
      "description_tooltip": null,
      "layout": "IPY_MODEL_719a79b3c60648c584f6bcc25b679d67",
      "placeholder": "​",
      "style": "IPY_MODEL_cf4918aed78743d481865f41b9abe725",
      "value": " 5/5 [00:23&lt;00:00,  4.60s/it]"
     }
    },
    "16c94c80d5be48559583dffc68adf8ee": {
     "model_module": "@jupyter-widgets/base",
     "model_name": "LayoutModel",
     "state": {
      "_model_module": "@jupyter-widgets/base",
      "_model_module_version": "1.2.0",
      "_model_name": "LayoutModel",
      "_view_count": null,
      "_view_module": "@jupyter-widgets/base",
      "_view_module_version": "1.2.0",
      "_view_name": "LayoutView",
      "align_content": null,
      "align_items": null,
      "align_self": null,
      "border": null,
      "bottom": null,
      "display": null,
      "flex": null,
      "flex_flow": null,
      "grid_area": null,
      "grid_auto_columns": null,
      "grid_auto_flow": null,
      "grid_auto_rows": null,
      "grid_column": null,
      "grid_gap": null,
      "grid_row": null,
      "grid_template_areas": null,
      "grid_template_columns": null,
      "grid_template_rows": null,
      "height": null,
      "justify_content": null,
      "justify_items": null,
      "left": null,
      "margin": null,
      "max_height": null,
      "max_width": null,
      "min_height": null,
      "min_width": null,
      "object_fit": null,
      "object_position": null,
      "order": null,
      "overflow": null,
      "overflow_x": null,
      "overflow_y": null,
      "padding": null,
      "right": null,
      "top": null,
      "visibility": null,
      "width": null
     }
    },
    "1bf2b2a59f95473c890cc668d6e640e7": {
     "model_module": "@jupyter-widgets/controls",
     "model_name": "HBoxModel",
     "state": {
      "_dom_classes": [],
      "_model_module": "@jupyter-widgets/controls",
      "_model_module_version": "1.5.0",
      "_model_name": "HBoxModel",
      "_view_count": null,
      "_view_module": "@jupyter-widgets/controls",
      "_view_module_version": "1.5.0",
      "_view_name": "HBoxView",
      "box_style": "",
      "children": [
       "IPY_MODEL_0841c7ec12524d3eac2ff30712a8c8ba",
       "IPY_MODEL_0e859c026da942ddaf74c4c5fcabb505"
      ],
      "layout": "IPY_MODEL_a080bd5c6d90422a86031daa1be88cf3"
     }
    },
    "3dd43ed0a6da418d83c7072935c18c3a": {
     "model_module": "@jupyter-widgets/controls",
     "model_name": "HBoxModel",
     "state": {
      "_dom_classes": [],
      "_model_module": "@jupyter-widgets/controls",
      "_model_module_version": "1.5.0",
      "_model_name": "HBoxModel",
      "_view_count": null,
      "_view_module": "@jupyter-widgets/controls",
      "_view_module_version": "1.5.0",
      "_view_name": "HBoxView",
      "box_style": "",
      "children": [
       "IPY_MODEL_7473c56435174fe7911ff6e25f2426aa",
       "IPY_MODEL_a8cf4404fa6f4cb9bd7498d457efafd2"
      ],
      "layout": "IPY_MODEL_16c94c80d5be48559583dffc68adf8ee"
     }
    },
    "60d5d893f3bd4544a0311d170781ad2c": {
     "model_module": "@jupyter-widgets/controls",
     "model_name": "DescriptionStyleModel",
     "state": {
      "_model_module": "@jupyter-widgets/controls",
      "_model_module_version": "1.5.0",
      "_model_name": "DescriptionStyleModel",
      "_view_count": null,
      "_view_module": "@jupyter-widgets/base",
      "_view_module_version": "1.2.0",
      "_view_name": "StyleView",
      "description_width": ""
     }
    },
    "719a79b3c60648c584f6bcc25b679d67": {
     "model_module": "@jupyter-widgets/base",
     "model_name": "LayoutModel",
     "state": {
      "_model_module": "@jupyter-widgets/base",
      "_model_module_version": "1.2.0",
      "_model_name": "LayoutModel",
      "_view_count": null,
      "_view_module": "@jupyter-widgets/base",
      "_view_module_version": "1.2.0",
      "_view_name": "LayoutView",
      "align_content": null,
      "align_items": null,
      "align_self": null,
      "border": null,
      "bottom": null,
      "display": null,
      "flex": null,
      "flex_flow": null,
      "grid_area": null,
      "grid_auto_columns": null,
      "grid_auto_flow": null,
      "grid_auto_rows": null,
      "grid_column": null,
      "grid_gap": null,
      "grid_row": null,
      "grid_template_areas": null,
      "grid_template_columns": null,
      "grid_template_rows": null,
      "height": null,
      "justify_content": null,
      "justify_items": null,
      "left": null,
      "margin": null,
      "max_height": null,
      "max_width": null,
      "min_height": null,
      "min_width": null,
      "object_fit": null,
      "object_position": null,
      "order": null,
      "overflow": null,
      "overflow_x": null,
      "overflow_y": null,
      "padding": null,
      "right": null,
      "top": null,
      "visibility": null,
      "width": null
     }
    },
    "7473c56435174fe7911ff6e25f2426aa": {
     "model_module": "@jupyter-widgets/controls",
     "model_name": "FloatProgressModel",
     "state": {
      "_dom_classes": [],
      "_model_module": "@jupyter-widgets/controls",
      "_model_module_version": "1.5.0",
      "_model_name": "FloatProgressModel",
      "_view_count": null,
      "_view_module": "@jupyter-widgets/controls",
      "_view_module_version": "1.5.0",
      "_view_name": "ProgressView",
      "bar_style": "",
      "description": "  0%",
      "description_tooltip": null,
      "layout": "IPY_MODEL_918db2e82ec9416fa88074cfe64978a9",
      "max": 2,
      "min": 0,
      "orientation": "horizontal",
      "style": "IPY_MODEL_da0da526e8824b9792f72a7087fba404",
      "value": 0
     }
    },
    "84056c6700874a128461f5c0a4be0f1c": {
     "model_module": "@jupyter-widgets/base",
     "model_name": "LayoutModel",
     "state": {
      "_model_module": "@jupyter-widgets/base",
      "_model_module_version": "1.2.0",
      "_model_name": "LayoutModel",
      "_view_count": null,
      "_view_module": "@jupyter-widgets/base",
      "_view_module_version": "1.2.0",
      "_view_name": "LayoutView",
      "align_content": null,
      "align_items": null,
      "align_self": null,
      "border": null,
      "bottom": null,
      "display": null,
      "flex": null,
      "flex_flow": null,
      "grid_area": null,
      "grid_auto_columns": null,
      "grid_auto_flow": null,
      "grid_auto_rows": null,
      "grid_column": null,
      "grid_gap": null,
      "grid_row": null,
      "grid_template_areas": null,
      "grid_template_columns": null,
      "grid_template_rows": null,
      "height": null,
      "justify_content": null,
      "justify_items": null,
      "left": null,
      "margin": null,
      "max_height": null,
      "max_width": null,
      "min_height": null,
      "min_width": null,
      "object_fit": null,
      "object_position": null,
      "order": null,
      "overflow": null,
      "overflow_x": null,
      "overflow_y": null,
      "padding": null,
      "right": null,
      "top": null,
      "visibility": null,
      "width": null
     }
    },
    "918db2e82ec9416fa88074cfe64978a9": {
     "model_module": "@jupyter-widgets/base",
     "model_name": "LayoutModel",
     "state": {
      "_model_module": "@jupyter-widgets/base",
      "_model_module_version": "1.2.0",
      "_model_name": "LayoutModel",
      "_view_count": null,
      "_view_module": "@jupyter-widgets/base",
      "_view_module_version": "1.2.0",
      "_view_name": "LayoutView",
      "align_content": null,
      "align_items": null,
      "align_self": null,
      "border": null,
      "bottom": null,
      "display": null,
      "flex": null,
      "flex_flow": null,
      "grid_area": null,
      "grid_auto_columns": null,
      "grid_auto_flow": null,
      "grid_auto_rows": null,
      "grid_column": null,
      "grid_gap": null,
      "grid_row": null,
      "grid_template_areas": null,
      "grid_template_columns": null,
      "grid_template_rows": null,
      "height": null,
      "justify_content": null,
      "justify_items": null,
      "left": null,
      "margin": null,
      "max_height": null,
      "max_width": null,
      "min_height": null,
      "min_width": null,
      "object_fit": null,
      "object_position": null,
      "order": null,
      "overflow": null,
      "overflow_x": null,
      "overflow_y": null,
      "padding": null,
      "right": null,
      "top": null,
      "visibility": null,
      "width": null
     }
    },
    "9666dddc0ee24dc4ae060969ff0929ba": {
     "model_module": "@jupyter-widgets/base",
     "model_name": "LayoutModel",
     "state": {
      "_model_module": "@jupyter-widgets/base",
      "_model_module_version": "1.2.0",
      "_model_name": "LayoutModel",
      "_view_count": null,
      "_view_module": "@jupyter-widgets/base",
      "_view_module_version": "1.2.0",
      "_view_name": "LayoutView",
      "align_content": null,
      "align_items": null,
      "align_self": null,
      "border": null,
      "bottom": null,
      "display": null,
      "flex": null,
      "flex_flow": null,
      "grid_area": null,
      "grid_auto_columns": null,
      "grid_auto_flow": null,
      "grid_auto_rows": null,
      "grid_column": null,
      "grid_gap": null,
      "grid_row": null,
      "grid_template_areas": null,
      "grid_template_columns": null,
      "grid_template_rows": null,
      "height": null,
      "justify_content": null,
      "justify_items": null,
      "left": null,
      "margin": null,
      "max_height": null,
      "max_width": null,
      "min_height": null,
      "min_width": null,
      "object_fit": null,
      "object_position": null,
      "order": null,
      "overflow": null,
      "overflow_x": null,
      "overflow_y": null,
      "padding": null,
      "right": null,
      "top": null,
      "visibility": null,
      "width": null
     }
    },
    "a080bd5c6d90422a86031daa1be88cf3": {
     "model_module": "@jupyter-widgets/base",
     "model_name": "LayoutModel",
     "state": {
      "_model_module": "@jupyter-widgets/base",
      "_model_module_version": "1.2.0",
      "_model_name": "LayoutModel",
      "_view_count": null,
      "_view_module": "@jupyter-widgets/base",
      "_view_module_version": "1.2.0",
      "_view_name": "LayoutView",
      "align_content": null,
      "align_items": null,
      "align_self": null,
      "border": null,
      "bottom": null,
      "display": null,
      "flex": null,
      "flex_flow": null,
      "grid_area": null,
      "grid_auto_columns": null,
      "grid_auto_flow": null,
      "grid_auto_rows": null,
      "grid_column": null,
      "grid_gap": null,
      "grid_row": null,
      "grid_template_areas": null,
      "grid_template_columns": null,
      "grid_template_rows": null,
      "height": null,
      "justify_content": null,
      "justify_items": null,
      "left": null,
      "margin": null,
      "max_height": null,
      "max_width": null,
      "min_height": null,
      "min_width": null,
      "object_fit": null,
      "object_position": null,
      "order": null,
      "overflow": null,
      "overflow_x": null,
      "overflow_y": null,
      "padding": null,
      "right": null,
      "top": null,
      "visibility": null,
      "width": null
     }
    },
    "a8cf4404fa6f4cb9bd7498d457efafd2": {
     "model_module": "@jupyter-widgets/controls",
     "model_name": "HTMLModel",
     "state": {
      "_dom_classes": [],
      "_model_module": "@jupyter-widgets/controls",
      "_model_module_version": "1.5.0",
      "_model_name": "HTMLModel",
      "_view_count": null,
      "_view_module": "@jupyter-widgets/controls",
      "_view_module_version": "1.5.0",
      "_view_name": "HTMLView",
      "description": "",
      "description_tooltip": null,
      "layout": "IPY_MODEL_84056c6700874a128461f5c0a4be0f1c",
      "placeholder": "​",
      "style": "IPY_MODEL_60d5d893f3bd4544a0311d170781ad2c",
      "value": " 0/2 [00:00&lt;?, ?it/s]"
     }
    },
    "cf4918aed78743d481865f41b9abe725": {
     "model_module": "@jupyter-widgets/controls",
     "model_name": "DescriptionStyleModel",
     "state": {
      "_model_module": "@jupyter-widgets/controls",
      "_model_module_version": "1.5.0",
      "_model_name": "DescriptionStyleModel",
      "_view_count": null,
      "_view_module": "@jupyter-widgets/base",
      "_view_module_version": "1.2.0",
      "_view_name": "StyleView",
      "description_width": ""
     }
    },
    "d90c2559a1314e13a465608657eef8cf": {
     "model_module": "@jupyter-widgets/controls",
     "model_name": "ProgressStyleModel",
     "state": {
      "_model_module": "@jupyter-widgets/controls",
      "_model_module_version": "1.5.0",
      "_model_name": "ProgressStyleModel",
      "_view_count": null,
      "_view_module": "@jupyter-widgets/base",
      "_view_module_version": "1.2.0",
      "_view_name": "StyleView",
      "bar_color": null,
      "description_width": "initial"
     }
    },
    "da0da526e8824b9792f72a7087fba404": {
     "model_module": "@jupyter-widgets/controls",
     "model_name": "ProgressStyleModel",
     "state": {
      "_model_module": "@jupyter-widgets/controls",
      "_model_module_version": "1.5.0",
      "_model_name": "ProgressStyleModel",
      "_view_count": null,
      "_view_module": "@jupyter-widgets/base",
      "_view_module_version": "1.2.0",
      "_view_name": "StyleView",
      "bar_color": null,
      "description_width": "initial"
     }
    }
   }
  }
 },
 "nbformat": 4,
 "nbformat_minor": 1
}
